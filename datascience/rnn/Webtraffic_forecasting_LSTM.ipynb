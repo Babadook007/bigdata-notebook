{
 "cells": [
  {
   "cell_type": "markdown",
   "metadata": {},
   "source": [
    "# Web traffic timeseries"
   ]
  },
  {
   "cell_type": "markdown",
   "metadata": {},
   "source": [
    "https://www.kaggle.com/c/web-traffic-time-series-forecasting"
   ]
  },
  {
   "cell_type": "markdown",
   "metadata": {},
   "source": [
    "## Build a basic model"
   ]
  },
  {
   "cell_type": "code",
   "execution_count": 6,
   "metadata": {
    "collapsed": true
   },
   "outputs": [],
   "source": [
    "import numpy as np\n",
    "import pandas as pd"
   ]
  },
  {
   "cell_type": "code",
   "execution_count": 2,
   "metadata": {
    "collapsed": true
   },
   "outputs": [],
   "source": [
    "training_set_sample = pd.read_csv('train_1_sample.csv')"
   ]
  },
  {
   "cell_type": "code",
   "execution_count": 130,
   "metadata": {},
   "outputs": [
    {
     "data": {
      "text/html": [
       "<div>\n",
       "<style>\n",
       "    .dataframe thead tr:only-child th {\n",
       "        text-align: right;\n",
       "    }\n",
       "\n",
       "    .dataframe thead th {\n",
       "        text-align: left;\n",
       "    }\n",
       "\n",
       "    .dataframe tbody tr th {\n",
       "        vertical-align: top;\n",
       "    }\n",
       "</style>\n",
       "<table border=\"1\" class=\"dataframe\">\n",
       "  <thead>\n",
       "    <tr style=\"text-align: right;\">\n",
       "      <th></th>\n",
       "      <th>Page</th>\n",
       "      <th>2015-07-01</th>\n",
       "      <th>2015-07-02</th>\n",
       "      <th>2015-07-03</th>\n",
       "      <th>2015-07-04</th>\n",
       "      <th>2015-07-05</th>\n",
       "      <th>2015-07-06</th>\n",
       "      <th>2015-07-07</th>\n",
       "      <th>2015-07-08</th>\n",
       "      <th>2015-07-09</th>\n",
       "      <th>...</th>\n",
       "      <th>2016-12-22</th>\n",
       "      <th>2016-12-23</th>\n",
       "      <th>2016-12-24</th>\n",
       "      <th>2016-12-25</th>\n",
       "      <th>2016-12-26</th>\n",
       "      <th>2016-12-27</th>\n",
       "      <th>2016-12-28</th>\n",
       "      <th>2016-12-29</th>\n",
       "      <th>2016-12-30</th>\n",
       "      <th>2016-12-31</th>\n",
       "    </tr>\n",
       "  </thead>\n",
       "  <tbody>\n",
       "    <tr>\n",
       "      <th>0</th>\n",
       "      <td>2NE1_zh.wikipedia.org_all-access_spider</td>\n",
       "      <td>18.0</td>\n",
       "      <td>11.0</td>\n",
       "      <td>5.0</td>\n",
       "      <td>13.0</td>\n",
       "      <td>14.0</td>\n",
       "      <td>9.0</td>\n",
       "      <td>9.0</td>\n",
       "      <td>22.0</td>\n",
       "      <td>26.0</td>\n",
       "      <td>...</td>\n",
       "      <td>32.0</td>\n",
       "      <td>63.0</td>\n",
       "      <td>15.0</td>\n",
       "      <td>26.0</td>\n",
       "      <td>14.0</td>\n",
       "      <td>20.0</td>\n",
       "      <td>22.0</td>\n",
       "      <td>19.0</td>\n",
       "      <td>18.0</td>\n",
       "      <td>20.0</td>\n",
       "    </tr>\n",
       "    <tr>\n",
       "      <th>1</th>\n",
       "      <td>2PM_zh.wikipedia.org_all-access_spider</td>\n",
       "      <td>11.0</td>\n",
       "      <td>14.0</td>\n",
       "      <td>15.0</td>\n",
       "      <td>18.0</td>\n",
       "      <td>11.0</td>\n",
       "      <td>13.0</td>\n",
       "      <td>22.0</td>\n",
       "      <td>11.0</td>\n",
       "      <td>10.0</td>\n",
       "      <td>...</td>\n",
       "      <td>17.0</td>\n",
       "      <td>42.0</td>\n",
       "      <td>28.0</td>\n",
       "      <td>15.0</td>\n",
       "      <td>9.0</td>\n",
       "      <td>30.0</td>\n",
       "      <td>52.0</td>\n",
       "      <td>45.0</td>\n",
       "      <td>26.0</td>\n",
       "      <td>20.0</td>\n",
       "    </tr>\n",
       "    <tr>\n",
       "      <th>2</th>\n",
       "      <td>3C_zh.wikipedia.org_all-access_spider</td>\n",
       "      <td>1.0</td>\n",
       "      <td>0.0</td>\n",
       "      <td>1.0</td>\n",
       "      <td>1.0</td>\n",
       "      <td>0.0</td>\n",
       "      <td>4.0</td>\n",
       "      <td>0.0</td>\n",
       "      <td>3.0</td>\n",
       "      <td>4.0</td>\n",
       "      <td>...</td>\n",
       "      <td>3.0</td>\n",
       "      <td>1.0</td>\n",
       "      <td>1.0</td>\n",
       "      <td>7.0</td>\n",
       "      <td>4.0</td>\n",
       "      <td>4.0</td>\n",
       "      <td>6.0</td>\n",
       "      <td>3.0</td>\n",
       "      <td>4.0</td>\n",
       "      <td>17.0</td>\n",
       "    </tr>\n",
       "    <tr>\n",
       "      <th>3</th>\n",
       "      <td>4minute_zh.wikipedia.org_all-access_spider</td>\n",
       "      <td>35.0</td>\n",
       "      <td>13.0</td>\n",
       "      <td>10.0</td>\n",
       "      <td>94.0</td>\n",
       "      <td>4.0</td>\n",
       "      <td>26.0</td>\n",
       "      <td>14.0</td>\n",
       "      <td>9.0</td>\n",
       "      <td>11.0</td>\n",
       "      <td>...</td>\n",
       "      <td>32.0</td>\n",
       "      <td>10.0</td>\n",
       "      <td>26.0</td>\n",
       "      <td>27.0</td>\n",
       "      <td>16.0</td>\n",
       "      <td>11.0</td>\n",
       "      <td>17.0</td>\n",
       "      <td>19.0</td>\n",
       "      <td>10.0</td>\n",
       "      <td>11.0</td>\n",
       "    </tr>\n",
       "    <tr>\n",
       "      <th>4</th>\n",
       "      <td>52_Hz_I_Love_You_zh.wikipedia.org_all-access_s...</td>\n",
       "      <td>NaN</td>\n",
       "      <td>NaN</td>\n",
       "      <td>NaN</td>\n",
       "      <td>NaN</td>\n",
       "      <td>NaN</td>\n",
       "      <td>NaN</td>\n",
       "      <td>NaN</td>\n",
       "      <td>NaN</td>\n",
       "      <td>NaN</td>\n",
       "      <td>...</td>\n",
       "      <td>48.0</td>\n",
       "      <td>9.0</td>\n",
       "      <td>25.0</td>\n",
       "      <td>13.0</td>\n",
       "      <td>3.0</td>\n",
       "      <td>11.0</td>\n",
       "      <td>27.0</td>\n",
       "      <td>13.0</td>\n",
       "      <td>36.0</td>\n",
       "      <td>10.0</td>\n",
       "    </tr>\n",
       "  </tbody>\n",
       "</table>\n",
       "<p>5 rows × 551 columns</p>\n",
       "</div>"
      ],
      "text/plain": [
       "                                                Page  2015-07-01  2015-07-02  \\\n",
       "0            2NE1_zh.wikipedia.org_all-access_spider        18.0        11.0   \n",
       "1             2PM_zh.wikipedia.org_all-access_spider        11.0        14.0   \n",
       "2              3C_zh.wikipedia.org_all-access_spider         1.0         0.0   \n",
       "3         4minute_zh.wikipedia.org_all-access_spider        35.0        13.0   \n",
       "4  52_Hz_I_Love_You_zh.wikipedia.org_all-access_s...         NaN         NaN   \n",
       "\n",
       "   2015-07-03  2015-07-04  2015-07-05  2015-07-06  2015-07-07  2015-07-08  \\\n",
       "0         5.0        13.0        14.0         9.0         9.0        22.0   \n",
       "1        15.0        18.0        11.0        13.0        22.0        11.0   \n",
       "2         1.0         1.0         0.0         4.0         0.0         3.0   \n",
       "3        10.0        94.0         4.0        26.0        14.0         9.0   \n",
       "4         NaN         NaN         NaN         NaN         NaN         NaN   \n",
       "\n",
       "   2015-07-09     ...      2016-12-22  2016-12-23  2016-12-24  2016-12-25  \\\n",
       "0        26.0     ...            32.0        63.0        15.0        26.0   \n",
       "1        10.0     ...            17.0        42.0        28.0        15.0   \n",
       "2         4.0     ...             3.0         1.0         1.0         7.0   \n",
       "3        11.0     ...            32.0        10.0        26.0        27.0   \n",
       "4         NaN     ...            48.0         9.0        25.0        13.0   \n",
       "\n",
       "   2016-12-26  2016-12-27  2016-12-28  2016-12-29  2016-12-30  2016-12-31  \n",
       "0        14.0        20.0        22.0        19.0        18.0        20.0  \n",
       "1         9.0        30.0        52.0        45.0        26.0        20.0  \n",
       "2         4.0         4.0         6.0         3.0         4.0        17.0  \n",
       "3        16.0        11.0        17.0        19.0        10.0        11.0  \n",
       "4         3.0        11.0        27.0        13.0        36.0        10.0  \n",
       "\n",
       "[5 rows x 551 columns]"
      ]
     },
     "execution_count": 130,
     "metadata": {},
     "output_type": "execute_result"
    }
   ],
   "source": [
    "training_set_sample[0:5]"
   ]
  },
  {
   "cell_type": "code",
   "execution_count": 178,
   "metadata": {
    "collapsed": true
   },
   "outputs": [],
   "source": [
    "p1_data = (np.array(training_set_sample)[:,1:2]).astype('float32')"
   ]
  },
  {
   "cell_type": "code",
   "execution_count": 179,
   "metadata": {},
   "outputs": [
    {
     "data": {
      "text/plain": [
       "array([[ 18.],\n",
       "       [ 11.],\n",
       "       [  1.],\n",
       "       ..., \n",
       "       [  1.],\n",
       "       [  2.],\n",
       "       [ 14.]], dtype=float32)"
      ]
     },
     "execution_count": 179,
     "metadata": {},
     "output_type": "execute_result"
    }
   ],
   "source": [
    "p1_data"
   ]
  },
  {
   "cell_type": "code",
   "execution_count": 180,
   "metadata": {},
   "outputs": [
    {
     "data": {
      "text/plain": [
       "(2999, 1)"
      ]
     },
     "execution_count": 180,
     "metadata": {},
     "output_type": "execute_result"
    }
   ],
   "source": [
    "p1_data.shape"
   ]
  },
  {
   "cell_type": "code",
   "execution_count": 188,
   "metadata": {
    "collapsed": true
   },
   "outputs": [],
   "source": [
    "for i in range(0, len(p1_data)):\n",
    "\tif pd.isnull(p1_data[i]):\n",
    "\t\tp1_data[i] =avg"
   ]
  },
  {
   "cell_type": "code",
   "execution_count": 189,
   "metadata": {
    "collapsed": true
   },
   "outputs": [],
   "source": [
    "p1_x = []\n",
    "p1_y = []\n",
    "for i in range(100, len(p1_data)):\n",
    "\tp1_x.append(p1_data[i - 100: i, 0])\n",
    "\tp1_y.append(p1_data[i, 0])\n",
    "\n",
    "p1_x_np = np.array(p1_x)\n",
    "p1_x_np = np.reshape(p1_x_np, (p1_x_np.shape[0], p1_x_np.shape[1], 1))\n",
    "p1_y_np = np.array(p1_y)"
   ]
  },
  {
   "cell_type": "code",
   "execution_count": 190,
   "metadata": {
    "collapsed": true
   },
   "outputs": [],
   "source": [
    "model = Sequential()"
   ]
  },
  {
   "cell_type": "code",
   "execution_count": 191,
   "metadata": {},
   "outputs": [
    {
     "name": "stdout",
     "output_type": "stream",
     "text": [
      "Epoch 1/2\n",
      "2899/2899 [==============================] - 28s - loss: 18307.0709    \n",
      "Epoch 2/2\n",
      "2899/2899 [==============================] - 29s - loss: 18254.8689    \n"
     ]
    },
    {
     "data": {
      "text/plain": [
       "array([[ 2.72745204]], dtype=float32)"
      ]
     },
     "execution_count": 191,
     "metadata": {},
     "output_type": "execute_result"
    }
   ],
   "source": [
    "from keras.models import Sequential\n",
    "from keras.layers import LSTM\n",
    "model = Sequential()\n",
    "model.add(LSTM(units = 10, input_shape= (p1_x_np.shape[1], 1)))\n",
    "model.add(Dense(units = 1))\n",
    "\n",
    "model.compile(optimizer='rmsprop', loss='mse')\n",
    "model.fit(p1_x_np, p1_y_np, epochs = 2)\n",
    "\n",
    "pred_in = p1_data[100:200,0]\n",
    "pred_in_r = np.reshape(pred_in, (-1,100,1))\n",
    "\n",
    "model.predict(pred_in_r)"
   ]
  },
  {
   "cell_type": "markdown",
   "metadata": {},
   "source": [
    "### Basic model with multiple pages as input"
   ]
  },
  {
   "cell_type": "markdown",
   "metadata": {},
   "source": [
    "replace all NaN in each row with average of that row"
   ]
  },
  {
   "cell_type": "code",
   "execution_count": 288,
   "metadata": {},
   "outputs": [
    {
     "data": {
      "text/plain": [
       "(50, 551)"
      ]
     },
     "execution_count": 288,
     "metadata": {},
     "output_type": "execute_result"
    }
   ],
   "source": [
    "training_set_sample.shape"
   ]
  },
  {
   "cell_type": "code",
   "execution_count": 289,
   "metadata": {
    "collapsed": true
   },
   "outputs": [],
   "source": [
    "training_set_sample = training_set_sample[0:50]"
   ]
  },
  {
   "cell_type": "code",
   "execution_count": 290,
   "metadata": {
    "collapsed": true
   },
   "outputs": [],
   "source": [
    "def reshapek(k):\n",
    "    return k.reshape(k.shape[0], k.shape[1], 1)"
   ]
  },
  {
   "cell_type": "code",
   "execution_count": 294,
   "metadata": {},
   "outputs": [
    {
     "name": "stdout",
     "output_type": "stream",
     "text": [
      "550\n"
     ]
    }
   ],
   "source": [
    "print(len(training_set_sample.iloc[10,1:]))"
   ]
  },
  {
   "cell_type": "code",
   "execution_count": 324,
   "metadata": {
    "collapsed": true
   },
   "outputs": [],
   "source": [
    "p = 100\n",
    "p_x = np.array([[]])\n",
    "p_y = np.array([])\n",
    "for i in range(0, training_set_sample.shape[0]):\n",
    "    row = training_set_sample.iloc[i,1:]\n",
    "    avg = np.average(row[pd.notnull(row)])\n",
    "    new_row = row.fillna(avg)\n",
    "    for j in range(p, len(row)):\n",
    "        #print(i, j)\n",
    "        if i == 0 and j == p:\n",
    "            p_x = new_row[0: p]\n",
    "            p_y = new_row[p]\n",
    "        else:\n",
    "            p_x = np.vstack((p_x, new_row[j - p: j]))\n",
    "            #print(p_x.shape)\n",
    "            p_y = np.vstack((p_y, new_row[p]))\n",
    "            #np.append(p_y, new_row[p])"
   ]
  },
  {
   "cell_type": "code",
   "execution_count": 314,
   "metadata": {},
   "outputs": [
    {
     "name": "stdout",
     "output_type": "stream",
     "text": [
      "(22500, 100)\n",
      "(22500, 1)\n"
     ]
    }
   ],
   "source": [
    "print(p_x.shape)\n",
    "print(p_y.shape)"
   ]
  },
  {
   "cell_type": "code",
   "execution_count": 315,
   "metadata": {
    "collapsed": true
   },
   "outputs": [],
   "source": [
    "from keras.models import Sequential\n",
    "from keras.layers import LSTM"
   ]
  },
  {
   "cell_type": "code",
   "execution_count": 322,
   "metadata": {
    "collapsed": true
   },
   "outputs": [],
   "source": [
    "p_x_reshaped = p_x.reshape(p_x.shape[0], p_x.shape[1], 1)"
   ]
  },
  {
   "cell_type": "code",
   "execution_count": 321,
   "metadata": {},
   "outputs": [
    {
     "name": "stdout",
     "output_type": "stream",
     "text": [
      "Epoch 1/2\n",
      "22500/22500 [==============================] - 225s - loss: 874.2990   \n",
      "Epoch 2/2\n",
      "22500/22500 [==============================] - 211s - loss: 645.9307   \n"
     ]
    },
    {
     "data": {
      "text/plain": [
       "<keras.callbacks.History at 0x13837dc10>"
      ]
     },
     "execution_count": 321,
     "metadata": {},
     "output_type": "execute_result"
    }
   ],
   "source": [
    "model = Sequential()\n",
    "model.add(LSTM(units = 10, input_shape= (pall_x.shape[1], 1)))\n",
    "model.add(Dense(units = 1))\n",
    "\n",
    "model.compile(optimizer='rmsprop', loss='mse')\n",
    "model.fit(p_x_reshaped, p_y, epochs = 2)"
   ]
  },
  {
   "cell_type": "markdown",
   "metadata": {},
   "source": [
    "# Analyse the data"
   ]
  },
  {
   "cell_type": "markdown",
   "metadata": {},
   "source": [
    "Load entire dataset"
   ]
  },
  {
   "cell_type": "code",
   "execution_count": 115,
   "metadata": {
    "collapsed": true
   },
   "outputs": [],
   "source": [
    "training_set = pd.read_csv('train_1.csv')"
   ]
  },
  {
   "cell_type": "markdown",
   "metadata": {},
   "source": [
    "understand the shape"
   ]
  },
  {
   "cell_type": "code",
   "execution_count": 5,
   "metadata": {},
   "outputs": [
    {
     "data": {
      "text/plain": [
       "(145063, 551)"
      ]
     },
     "execution_count": 5,
     "metadata": {},
     "output_type": "execute_result"
    }
   ],
   "source": [
    "training_set.shape"
   ]
  },
  {
   "cell_type": "markdown",
   "metadata": {},
   "source": [
    "look at a sample"
   ]
  },
  {
   "cell_type": "code",
   "execution_count": 6,
   "metadata": {},
   "outputs": [
    {
     "data": {
      "text/html": [
       "<div>\n",
       "<style>\n",
       "    .dataframe thead tr:only-child th {\n",
       "        text-align: right;\n",
       "    }\n",
       "\n",
       "    .dataframe thead th {\n",
       "        text-align: left;\n",
       "    }\n",
       "\n",
       "    .dataframe tbody tr th {\n",
       "        vertical-align: top;\n",
       "    }\n",
       "</style>\n",
       "<table border=\"1\" class=\"dataframe\">\n",
       "  <thead>\n",
       "    <tr style=\"text-align: right;\">\n",
       "      <th></th>\n",
       "      <th>Page</th>\n",
       "      <th>2015-07-01</th>\n",
       "      <th>2015-07-02</th>\n",
       "      <th>2015-07-03</th>\n",
       "      <th>2015-07-04</th>\n",
       "      <th>2015-07-05</th>\n",
       "      <th>2015-07-06</th>\n",
       "      <th>2015-07-07</th>\n",
       "      <th>2015-07-08</th>\n",
       "      <th>2015-07-09</th>\n",
       "      <th>...</th>\n",
       "      <th>2016-12-22</th>\n",
       "      <th>2016-12-23</th>\n",
       "      <th>2016-12-24</th>\n",
       "      <th>2016-12-25</th>\n",
       "      <th>2016-12-26</th>\n",
       "      <th>2016-12-27</th>\n",
       "      <th>2016-12-28</th>\n",
       "      <th>2016-12-29</th>\n",
       "      <th>2016-12-30</th>\n",
       "      <th>2016-12-31</th>\n",
       "    </tr>\n",
       "  </thead>\n",
       "  <tbody>\n",
       "    <tr>\n",
       "      <th>0</th>\n",
       "      <td>2NE1_zh.wikipedia.org_all-access_spider</td>\n",
       "      <td>18.0</td>\n",
       "      <td>11.0</td>\n",
       "      <td>5.0</td>\n",
       "      <td>13.0</td>\n",
       "      <td>14.0</td>\n",
       "      <td>9.0</td>\n",
       "      <td>9.0</td>\n",
       "      <td>22.0</td>\n",
       "      <td>26.0</td>\n",
       "      <td>...</td>\n",
       "      <td>32.0</td>\n",
       "      <td>63.0</td>\n",
       "      <td>15.0</td>\n",
       "      <td>26.0</td>\n",
       "      <td>14.0</td>\n",
       "      <td>20.0</td>\n",
       "      <td>22.0</td>\n",
       "      <td>19.0</td>\n",
       "      <td>18.0</td>\n",
       "      <td>20.0</td>\n",
       "    </tr>\n",
       "    <tr>\n",
       "      <th>1</th>\n",
       "      <td>2PM_zh.wikipedia.org_all-access_spider</td>\n",
       "      <td>11.0</td>\n",
       "      <td>14.0</td>\n",
       "      <td>15.0</td>\n",
       "      <td>18.0</td>\n",
       "      <td>11.0</td>\n",
       "      <td>13.0</td>\n",
       "      <td>22.0</td>\n",
       "      <td>11.0</td>\n",
       "      <td>10.0</td>\n",
       "      <td>...</td>\n",
       "      <td>17.0</td>\n",
       "      <td>42.0</td>\n",
       "      <td>28.0</td>\n",
       "      <td>15.0</td>\n",
       "      <td>9.0</td>\n",
       "      <td>30.0</td>\n",
       "      <td>52.0</td>\n",
       "      <td>45.0</td>\n",
       "      <td>26.0</td>\n",
       "      <td>20.0</td>\n",
       "    </tr>\n",
       "    <tr>\n",
       "      <th>2</th>\n",
       "      <td>3C_zh.wikipedia.org_all-access_spider</td>\n",
       "      <td>1.0</td>\n",
       "      <td>0.0</td>\n",
       "      <td>1.0</td>\n",
       "      <td>1.0</td>\n",
       "      <td>0.0</td>\n",
       "      <td>4.0</td>\n",
       "      <td>0.0</td>\n",
       "      <td>3.0</td>\n",
       "      <td>4.0</td>\n",
       "      <td>...</td>\n",
       "      <td>3.0</td>\n",
       "      <td>1.0</td>\n",
       "      <td>1.0</td>\n",
       "      <td>7.0</td>\n",
       "      <td>4.0</td>\n",
       "      <td>4.0</td>\n",
       "      <td>6.0</td>\n",
       "      <td>3.0</td>\n",
       "      <td>4.0</td>\n",
       "      <td>17.0</td>\n",
       "    </tr>\n",
       "    <tr>\n",
       "      <th>3</th>\n",
       "      <td>4minute_zh.wikipedia.org_all-access_spider</td>\n",
       "      <td>35.0</td>\n",
       "      <td>13.0</td>\n",
       "      <td>10.0</td>\n",
       "      <td>94.0</td>\n",
       "      <td>4.0</td>\n",
       "      <td>26.0</td>\n",
       "      <td>14.0</td>\n",
       "      <td>9.0</td>\n",
       "      <td>11.0</td>\n",
       "      <td>...</td>\n",
       "      <td>32.0</td>\n",
       "      <td>10.0</td>\n",
       "      <td>26.0</td>\n",
       "      <td>27.0</td>\n",
       "      <td>16.0</td>\n",
       "      <td>11.0</td>\n",
       "      <td>17.0</td>\n",
       "      <td>19.0</td>\n",
       "      <td>10.0</td>\n",
       "      <td>11.0</td>\n",
       "    </tr>\n",
       "    <tr>\n",
       "      <th>4</th>\n",
       "      <td>52_Hz_I_Love_You_zh.wikipedia.org_all-access_s...</td>\n",
       "      <td>NaN</td>\n",
       "      <td>NaN</td>\n",
       "      <td>NaN</td>\n",
       "      <td>NaN</td>\n",
       "      <td>NaN</td>\n",
       "      <td>NaN</td>\n",
       "      <td>NaN</td>\n",
       "      <td>NaN</td>\n",
       "      <td>NaN</td>\n",
       "      <td>...</td>\n",
       "      <td>48.0</td>\n",
       "      <td>9.0</td>\n",
       "      <td>25.0</td>\n",
       "      <td>13.0</td>\n",
       "      <td>3.0</td>\n",
       "      <td>11.0</td>\n",
       "      <td>27.0</td>\n",
       "      <td>13.0</td>\n",
       "      <td>36.0</td>\n",
       "      <td>10.0</td>\n",
       "    </tr>\n",
       "  </tbody>\n",
       "</table>\n",
       "<p>5 rows × 551 columns</p>\n",
       "</div>"
      ],
      "text/plain": [
       "                                                Page  2015-07-01  2015-07-02  \\\n",
       "0            2NE1_zh.wikipedia.org_all-access_spider        18.0        11.0   \n",
       "1             2PM_zh.wikipedia.org_all-access_spider        11.0        14.0   \n",
       "2              3C_zh.wikipedia.org_all-access_spider         1.0         0.0   \n",
       "3         4minute_zh.wikipedia.org_all-access_spider        35.0        13.0   \n",
       "4  52_Hz_I_Love_You_zh.wikipedia.org_all-access_s...         NaN         NaN   \n",
       "\n",
       "   2015-07-03  2015-07-04  2015-07-05  2015-07-06  2015-07-07  2015-07-08  \\\n",
       "0         5.0        13.0        14.0         9.0         9.0        22.0   \n",
       "1        15.0        18.0        11.0        13.0        22.0        11.0   \n",
       "2         1.0         1.0         0.0         4.0         0.0         3.0   \n",
       "3        10.0        94.0         4.0        26.0        14.0         9.0   \n",
       "4         NaN         NaN         NaN         NaN         NaN         NaN   \n",
       "\n",
       "   2015-07-09     ...      2016-12-22  2016-12-23  2016-12-24  2016-12-25  \\\n",
       "0        26.0     ...            32.0        63.0        15.0        26.0   \n",
       "1        10.0     ...            17.0        42.0        28.0        15.0   \n",
       "2         4.0     ...             3.0         1.0         1.0         7.0   \n",
       "3        11.0     ...            32.0        10.0        26.0        27.0   \n",
       "4         NaN     ...            48.0         9.0        25.0        13.0   \n",
       "\n",
       "   2016-12-26  2016-12-27  2016-12-28  2016-12-29  2016-12-30  2016-12-31  \n",
       "0        14.0        20.0        22.0        19.0        18.0        20.0  \n",
       "1         9.0        30.0        52.0        45.0        26.0        20.0  \n",
       "2         4.0         4.0         6.0         3.0         4.0        17.0  \n",
       "3        16.0        11.0        17.0        19.0        10.0        11.0  \n",
       "4         3.0        11.0        27.0        13.0        36.0        10.0  \n",
       "\n",
       "[5 rows x 551 columns]"
      ]
     },
     "execution_count": 6,
     "metadata": {},
     "output_type": "execute_result"
    }
   ],
   "source": [
    "training_set[0:5]"
   ]
  },
  {
   "cell_type": "markdown",
   "metadata": {},
   "source": [
    "## Split page column"
   ]
  },
  {
   "cell_type": "code",
   "execution_count": null,
   "metadata": {
    "collapsed": true
   },
   "outputs": [],
   "source": [
    "df_new = pd.DataFrame([i.split(\"_\")[-3:] for i in training_set.Page], columns = ['project', 'access', 'agent'])"
   ]
  },
  {
   "cell_type": "code",
   "execution_count": 131,
   "metadata": {
    "collapsed": true
   },
   "outputs": [],
   "source": [
    "training_set = training_set.drop('Page', 1)"
   ]
  },
  {
   "cell_type": "code",
   "execution_count": 165,
   "metadata": {},
   "outputs": [
    {
     "data": {
      "text/html": [
       "<div>\n",
       "<style>\n",
       "    .dataframe thead tr:only-child th {\n",
       "        text-align: right;\n",
       "    }\n",
       "\n",
       "    .dataframe thead th {\n",
       "        text-align: left;\n",
       "    }\n",
       "\n",
       "    .dataframe tbody tr th {\n",
       "        vertical-align: top;\n",
       "    }\n",
       "</style>\n",
       "<table border=\"1\" class=\"dataframe\">\n",
       "  <thead>\n",
       "    <tr style=\"text-align: right;\">\n",
       "      <th></th>\n",
       "      <th>2015-07-01</th>\n",
       "      <th>2015-07-02</th>\n",
       "      <th>2015-07-03</th>\n",
       "      <th>2015-07-04</th>\n",
       "      <th>2015-07-05</th>\n",
       "      <th>2015-07-06</th>\n",
       "      <th>2015-07-07</th>\n",
       "      <th>2015-07-08</th>\n",
       "      <th>2015-07-09</th>\n",
       "      <th>2015-07-10</th>\n",
       "      <th>...</th>\n",
       "      <th>2016-12-25</th>\n",
       "      <th>2016-12-26</th>\n",
       "      <th>2016-12-27</th>\n",
       "      <th>2016-12-28</th>\n",
       "      <th>2016-12-29</th>\n",
       "      <th>2016-12-30</th>\n",
       "      <th>2016-12-31</th>\n",
       "      <th>project</th>\n",
       "      <th>access</th>\n",
       "      <th>agent</th>\n",
       "    </tr>\n",
       "  </thead>\n",
       "  <tbody>\n",
       "    <tr>\n",
       "      <th>0</th>\n",
       "      <td>18.0</td>\n",
       "      <td>11.0</td>\n",
       "      <td>5.0</td>\n",
       "      <td>13.0</td>\n",
       "      <td>14.0</td>\n",
       "      <td>9.0</td>\n",
       "      <td>9.0</td>\n",
       "      <td>22.0</td>\n",
       "      <td>26.0</td>\n",
       "      <td>24.0</td>\n",
       "      <td>...</td>\n",
       "      <td>26.0</td>\n",
       "      <td>14.0</td>\n",
       "      <td>20.0</td>\n",
       "      <td>22.0</td>\n",
       "      <td>19.0</td>\n",
       "      <td>18.0</td>\n",
       "      <td>20.0</td>\n",
       "      <td>zh.wikipedia.org</td>\n",
       "      <td>all-access</td>\n",
       "      <td>spider</td>\n",
       "    </tr>\n",
       "    <tr>\n",
       "      <th>1</th>\n",
       "      <td>11.0</td>\n",
       "      <td>14.0</td>\n",
       "      <td>15.0</td>\n",
       "      <td>18.0</td>\n",
       "      <td>11.0</td>\n",
       "      <td>13.0</td>\n",
       "      <td>22.0</td>\n",
       "      <td>11.0</td>\n",
       "      <td>10.0</td>\n",
       "      <td>4.0</td>\n",
       "      <td>...</td>\n",
       "      <td>15.0</td>\n",
       "      <td>9.0</td>\n",
       "      <td>30.0</td>\n",
       "      <td>52.0</td>\n",
       "      <td>45.0</td>\n",
       "      <td>26.0</td>\n",
       "      <td>20.0</td>\n",
       "      <td>zh.wikipedia.org</td>\n",
       "      <td>all-access</td>\n",
       "      <td>spider</td>\n",
       "    </tr>\n",
       "    <tr>\n",
       "      <th>2</th>\n",
       "      <td>1.0</td>\n",
       "      <td>0.0</td>\n",
       "      <td>1.0</td>\n",
       "      <td>1.0</td>\n",
       "      <td>0.0</td>\n",
       "      <td>4.0</td>\n",
       "      <td>0.0</td>\n",
       "      <td>3.0</td>\n",
       "      <td>4.0</td>\n",
       "      <td>4.0</td>\n",
       "      <td>...</td>\n",
       "      <td>7.0</td>\n",
       "      <td>4.0</td>\n",
       "      <td>4.0</td>\n",
       "      <td>6.0</td>\n",
       "      <td>3.0</td>\n",
       "      <td>4.0</td>\n",
       "      <td>17.0</td>\n",
       "      <td>zh.wikipedia.org</td>\n",
       "      <td>all-access</td>\n",
       "      <td>spider</td>\n",
       "    </tr>\n",
       "    <tr>\n",
       "      <th>3</th>\n",
       "      <td>35.0</td>\n",
       "      <td>13.0</td>\n",
       "      <td>10.0</td>\n",
       "      <td>94.0</td>\n",
       "      <td>4.0</td>\n",
       "      <td>26.0</td>\n",
       "      <td>14.0</td>\n",
       "      <td>9.0</td>\n",
       "      <td>11.0</td>\n",
       "      <td>16.0</td>\n",
       "      <td>...</td>\n",
       "      <td>27.0</td>\n",
       "      <td>16.0</td>\n",
       "      <td>11.0</td>\n",
       "      <td>17.0</td>\n",
       "      <td>19.0</td>\n",
       "      <td>10.0</td>\n",
       "      <td>11.0</td>\n",
       "      <td>zh.wikipedia.org</td>\n",
       "      <td>all-access</td>\n",
       "      <td>spider</td>\n",
       "    </tr>\n",
       "    <tr>\n",
       "      <th>4</th>\n",
       "      <td>NaN</td>\n",
       "      <td>NaN</td>\n",
       "      <td>NaN</td>\n",
       "      <td>NaN</td>\n",
       "      <td>NaN</td>\n",
       "      <td>NaN</td>\n",
       "      <td>NaN</td>\n",
       "      <td>NaN</td>\n",
       "      <td>NaN</td>\n",
       "      <td>NaN</td>\n",
       "      <td>...</td>\n",
       "      <td>13.0</td>\n",
       "      <td>3.0</td>\n",
       "      <td>11.0</td>\n",
       "      <td>27.0</td>\n",
       "      <td>13.0</td>\n",
       "      <td>36.0</td>\n",
       "      <td>10.0</td>\n",
       "      <td>zh.wikipedia.org</td>\n",
       "      <td>all-access</td>\n",
       "      <td>spider</td>\n",
       "    </tr>\n",
       "  </tbody>\n",
       "</table>\n",
       "<p>5 rows × 553 columns</p>\n",
       "</div>"
      ],
      "text/plain": [
       "   2015-07-01  2015-07-02  2015-07-03  2015-07-04  2015-07-05  2015-07-06  \\\n",
       "0        18.0        11.0         5.0        13.0        14.0         9.0   \n",
       "1        11.0        14.0        15.0        18.0        11.0        13.0   \n",
       "2         1.0         0.0         1.0         1.0         0.0         4.0   \n",
       "3        35.0        13.0        10.0        94.0         4.0        26.0   \n",
       "4         NaN         NaN         NaN         NaN         NaN         NaN   \n",
       "\n",
       "   2015-07-07  2015-07-08  2015-07-09  2015-07-10   ...    2016-12-25  \\\n",
       "0         9.0        22.0        26.0        24.0   ...          26.0   \n",
       "1        22.0        11.0        10.0         4.0   ...          15.0   \n",
       "2         0.0         3.0         4.0         4.0   ...           7.0   \n",
       "3        14.0         9.0        11.0        16.0   ...          27.0   \n",
       "4         NaN         NaN         NaN         NaN   ...          13.0   \n",
       "\n",
       "   2016-12-26  2016-12-27  2016-12-28  2016-12-29  2016-12-30  2016-12-31  \\\n",
       "0        14.0        20.0        22.0        19.0        18.0        20.0   \n",
       "1         9.0        30.0        52.0        45.0        26.0        20.0   \n",
       "2         4.0         4.0         6.0         3.0         4.0        17.0   \n",
       "3        16.0        11.0        17.0        19.0        10.0        11.0   \n",
       "4         3.0        11.0        27.0        13.0        36.0        10.0   \n",
       "\n",
       "            project      access   agent  \n",
       "0  zh.wikipedia.org  all-access  spider  \n",
       "1  zh.wikipedia.org  all-access  spider  \n",
       "2  zh.wikipedia.org  all-access  spider  \n",
       "3  zh.wikipedia.org  all-access  spider  \n",
       "4  zh.wikipedia.org  all-access  spider  \n",
       "\n",
       "[5 rows x 553 columns]"
      ]
     },
     "execution_count": 165,
     "metadata": {},
     "output_type": "execute_result"
    }
   ],
   "source": [
    "train_new = pd.concat([training_set, df_new], axis = 1)\n",
    "train_new[0:5]"
   ]
  },
  {
   "cell_type": "markdown",
   "metadata": {},
   "source": [
    "## Fill NaNs /Drop"
   ]
  },
  {
   "cell_type": "code",
   "execution_count": 167,
   "metadata": {
    "collapsed": true
   },
   "outputs": [],
   "source": [
    "num_nans = train_new.isnull().T.any().sum()"
   ]
  },
  {
   "cell_type": "code",
   "execution_count": 572,
   "metadata": {},
   "outputs": [
    {
     "data": {
      "text/plain": [
       "145063"
      ]
     },
     "execution_count": 572,
     "metadata": {},
     "output_type": "execute_result"
    }
   ],
   "source": [
    "train_new.shape[0]"
   ]
  },
  {
   "cell_type": "code",
   "execution_count": 573,
   "metadata": {},
   "outputs": [
    {
     "data": {
      "text/plain": [
       "27786"
      ]
     },
     "execution_count": 573,
     "metadata": {},
     "output_type": "execute_result"
    }
   ],
   "source": [
    "num_nans"
   ]
  },
  {
   "cell_type": "code",
   "execution_count": 574,
   "metadata": {},
   "outputs": [
    {
     "data": {
      "text/plain": [
       "19.154436348345204"
      ]
     },
     "execution_count": 574,
     "metadata": {},
     "output_type": "execute_result"
    }
   ],
   "source": [
    "(float(num_nans)/train_new.shape[0]) * 100"
   ]
  },
  {
   "cell_type": "code",
   "execution_count": 169,
   "metadata": {
    "collapsed": true
   },
   "outputs": [],
   "source": [
    "train_no_na = train_new.dropna()"
   ]
  },
  {
   "cell_type": "code",
   "execution_count": 170,
   "metadata": {},
   "outputs": [
    {
     "data": {
      "text/plain": [
       "(117277, 553)"
      ]
     },
     "execution_count": 170,
     "metadata": {},
     "output_type": "execute_result"
    }
   ],
   "source": [
    "train_no_na.shape"
   ]
  },
  {
   "cell_type": "code",
   "execution_count": 171,
   "metadata": {},
   "outputs": [
    {
     "data": {
      "text/html": [
       "<div>\n",
       "<style>\n",
       "    .dataframe thead tr:only-child th {\n",
       "        text-align: right;\n",
       "    }\n",
       "\n",
       "    .dataframe thead th {\n",
       "        text-align: left;\n",
       "    }\n",
       "\n",
       "    .dataframe tbody tr th {\n",
       "        vertical-align: top;\n",
       "    }\n",
       "</style>\n",
       "<table border=\"1\" class=\"dataframe\">\n",
       "  <thead>\n",
       "    <tr style=\"text-align: right;\">\n",
       "      <th></th>\n",
       "      <th>2015-07-01</th>\n",
       "      <th>2015-07-02</th>\n",
       "      <th>2015-07-03</th>\n",
       "      <th>2015-07-04</th>\n",
       "      <th>2015-07-05</th>\n",
       "      <th>2015-07-06</th>\n",
       "      <th>2015-07-07</th>\n",
       "      <th>2015-07-08</th>\n",
       "      <th>2015-07-09</th>\n",
       "      <th>2015-07-10</th>\n",
       "      <th>...</th>\n",
       "      <th>2016-12-25</th>\n",
       "      <th>2016-12-26</th>\n",
       "      <th>2016-12-27</th>\n",
       "      <th>2016-12-28</th>\n",
       "      <th>2016-12-29</th>\n",
       "      <th>2016-12-30</th>\n",
       "      <th>2016-12-31</th>\n",
       "      <th>project</th>\n",
       "      <th>access</th>\n",
       "      <th>agent</th>\n",
       "    </tr>\n",
       "  </thead>\n",
       "  <tbody>\n",
       "    <tr>\n",
       "      <th>0</th>\n",
       "      <td>18.0</td>\n",
       "      <td>11.0</td>\n",
       "      <td>5.0</td>\n",
       "      <td>13.0</td>\n",
       "      <td>14.0</td>\n",
       "      <td>9.0</td>\n",
       "      <td>9.0</td>\n",
       "      <td>22.0</td>\n",
       "      <td>26.0</td>\n",
       "      <td>24.0</td>\n",
       "      <td>...</td>\n",
       "      <td>26.0</td>\n",
       "      <td>14.0</td>\n",
       "      <td>20.0</td>\n",
       "      <td>22.0</td>\n",
       "      <td>19.0</td>\n",
       "      <td>18.0</td>\n",
       "      <td>20.0</td>\n",
       "      <td>zh.wikipedia.org</td>\n",
       "      <td>all-access</td>\n",
       "      <td>spider</td>\n",
       "    </tr>\n",
       "    <tr>\n",
       "      <th>1</th>\n",
       "      <td>11.0</td>\n",
       "      <td>14.0</td>\n",
       "      <td>15.0</td>\n",
       "      <td>18.0</td>\n",
       "      <td>11.0</td>\n",
       "      <td>13.0</td>\n",
       "      <td>22.0</td>\n",
       "      <td>11.0</td>\n",
       "      <td>10.0</td>\n",
       "      <td>4.0</td>\n",
       "      <td>...</td>\n",
       "      <td>15.0</td>\n",
       "      <td>9.0</td>\n",
       "      <td>30.0</td>\n",
       "      <td>52.0</td>\n",
       "      <td>45.0</td>\n",
       "      <td>26.0</td>\n",
       "      <td>20.0</td>\n",
       "      <td>zh.wikipedia.org</td>\n",
       "      <td>all-access</td>\n",
       "      <td>spider</td>\n",
       "    </tr>\n",
       "    <tr>\n",
       "      <th>2</th>\n",
       "      <td>1.0</td>\n",
       "      <td>0.0</td>\n",
       "      <td>1.0</td>\n",
       "      <td>1.0</td>\n",
       "      <td>0.0</td>\n",
       "      <td>4.0</td>\n",
       "      <td>0.0</td>\n",
       "      <td>3.0</td>\n",
       "      <td>4.0</td>\n",
       "      <td>4.0</td>\n",
       "      <td>...</td>\n",
       "      <td>7.0</td>\n",
       "      <td>4.0</td>\n",
       "      <td>4.0</td>\n",
       "      <td>6.0</td>\n",
       "      <td>3.0</td>\n",
       "      <td>4.0</td>\n",
       "      <td>17.0</td>\n",
       "      <td>zh.wikipedia.org</td>\n",
       "      <td>all-access</td>\n",
       "      <td>spider</td>\n",
       "    </tr>\n",
       "    <tr>\n",
       "      <th>3</th>\n",
       "      <td>35.0</td>\n",
       "      <td>13.0</td>\n",
       "      <td>10.0</td>\n",
       "      <td>94.0</td>\n",
       "      <td>4.0</td>\n",
       "      <td>26.0</td>\n",
       "      <td>14.0</td>\n",
       "      <td>9.0</td>\n",
       "      <td>11.0</td>\n",
       "      <td>16.0</td>\n",
       "      <td>...</td>\n",
       "      <td>27.0</td>\n",
       "      <td>16.0</td>\n",
       "      <td>11.0</td>\n",
       "      <td>17.0</td>\n",
       "      <td>19.0</td>\n",
       "      <td>10.0</td>\n",
       "      <td>11.0</td>\n",
       "      <td>zh.wikipedia.org</td>\n",
       "      <td>all-access</td>\n",
       "      <td>spider</td>\n",
       "    </tr>\n",
       "    <tr>\n",
       "      <th>5</th>\n",
       "      <td>12.0</td>\n",
       "      <td>7.0</td>\n",
       "      <td>4.0</td>\n",
       "      <td>5.0</td>\n",
       "      <td>20.0</td>\n",
       "      <td>8.0</td>\n",
       "      <td>5.0</td>\n",
       "      <td>17.0</td>\n",
       "      <td>24.0</td>\n",
       "      <td>7.0</td>\n",
       "      <td>...</td>\n",
       "      <td>17.0</td>\n",
       "      <td>32.0</td>\n",
       "      <td>19.0</td>\n",
       "      <td>23.0</td>\n",
       "      <td>17.0</td>\n",
       "      <td>17.0</td>\n",
       "      <td>50.0</td>\n",
       "      <td>zh.wikipedia.org</td>\n",
       "      <td>all-access</td>\n",
       "      <td>spider</td>\n",
       "    </tr>\n",
       "  </tbody>\n",
       "</table>\n",
       "<p>5 rows × 553 columns</p>\n",
       "</div>"
      ],
      "text/plain": [
       "   2015-07-01  2015-07-02  2015-07-03  2015-07-04  2015-07-05  2015-07-06  \\\n",
       "0        18.0        11.0         5.0        13.0        14.0         9.0   \n",
       "1        11.0        14.0        15.0        18.0        11.0        13.0   \n",
       "2         1.0         0.0         1.0         1.0         0.0         4.0   \n",
       "3        35.0        13.0        10.0        94.0         4.0        26.0   \n",
       "5        12.0         7.0         4.0         5.0        20.0         8.0   \n",
       "\n",
       "   2015-07-07  2015-07-08  2015-07-09  2015-07-10   ...    2016-12-25  \\\n",
       "0         9.0        22.0        26.0        24.0   ...          26.0   \n",
       "1        22.0        11.0        10.0         4.0   ...          15.0   \n",
       "2         0.0         3.0         4.0         4.0   ...           7.0   \n",
       "3        14.0         9.0        11.0        16.0   ...          27.0   \n",
       "5         5.0        17.0        24.0         7.0   ...          17.0   \n",
       "\n",
       "   2016-12-26  2016-12-27  2016-12-28  2016-12-29  2016-12-30  2016-12-31  \\\n",
       "0        14.0        20.0        22.0        19.0        18.0        20.0   \n",
       "1         9.0        30.0        52.0        45.0        26.0        20.0   \n",
       "2         4.0         4.0         6.0         3.0         4.0        17.0   \n",
       "3        16.0        11.0        17.0        19.0        10.0        11.0   \n",
       "5        32.0        19.0        23.0        17.0        17.0        50.0   \n",
       "\n",
       "            project      access   agent  \n",
       "0  zh.wikipedia.org  all-access  spider  \n",
       "1  zh.wikipedia.org  all-access  spider  \n",
       "2  zh.wikipedia.org  all-access  spider  \n",
       "3  zh.wikipedia.org  all-access  spider  \n",
       "5  zh.wikipedia.org  all-access  spider  \n",
       "\n",
       "[5 rows x 553 columns]"
      ]
     },
     "execution_count": 171,
     "metadata": {},
     "output_type": "execute_result"
    }
   ],
   "source": [
    "train_no_na[0:5]"
   ]
  },
  {
   "cell_type": "markdown",
   "metadata": {},
   "source": [
    "### Analyze the project, access and agent"
   ]
  },
  {
   "cell_type": "code",
   "execution_count": 201,
   "metadata": {},
   "outputs": [
    {
     "data": {
      "text/plain": [
       "array(['all-agents', 'spider'], dtype=object)"
      ]
     },
     "execution_count": 201,
     "metadata": {},
     "output_type": "execute_result"
    }
   ],
   "source": [
    "np.unique(train_no_na.agent.values)"
   ]
  },
  {
   "cell_type": "code",
   "execution_count": 215,
   "metadata": {
    "collapsed": true
   },
   "outputs": [],
   "source": [
    "%matplotlib inline\n",
    "from collections import Counter\n",
    "def plothist(series):\n",
    "    counter = Counter(series.values)\n",
    "    pd.DataFrame.from_dict(counter, orient='index').plot(kind='bar')"
   ]
  },
  {
   "cell_type": "code",
   "execution_count": 216,
   "metadata": {},
   "outputs": [
    {
     "data": {
      "image/png": "[encoded data removed]",
      "text/plain": [
       "<matplotlib.figure.Figure at 0x1f61fac10>"
      ]
     },
     "metadata": {},
     "output_type": "display_data"
    }
   ],
   "source": [
    "plothist(train_no_na.agent)"
   ]
  },
  {
   "cell_type": "code",
   "execution_count": 217,
   "metadata": {},
   "outputs": [
    {
     "data": {
      "image/png": "[encoded data removed]",
      "text/plain": [
       "<matplotlib.figure.Figure at 0x1f5e3cc90>"
      ]
     },
     "metadata": {},
     "output_type": "display_data"
    }
   ],
   "source": [
    "plothist(train_no_na.access)"
   ]
  },
  {
   "cell_type": "code",
   "execution_count": 218,
   "metadata": {},
   "outputs": [
    {
     "data": {
      "image/png": "[encoded data removed]",
      "text/plain": [
       "<matplotlib.figure.Figure at 0x1c82236d0>"
      ]
     },
     "metadata": {},
     "output_type": "display_data"
    }
   ],
   "source": [
    "plothist(train_no_na.project)"
   ]
  },
  {
   "cell_type": "code",
   "execution_count": 273,
   "metadata": {},
   "outputs": [
    {
     "data": {
      "text/plain": [
       "<matplotlib.axes._subplots.AxesSubplot at 0x20b5d5f10>"
      ]
     },
     "execution_count": 273,
     "metadata": {},
     "output_type": "execute_result"
    },
    {
     "data": {
      "image/png": "[encoded data removed]",
      "text/plain": [
       "<matplotlib.figure.Figure at 0x20334ab50>"
      ]
     },
     "metadata": {},
     "output_type": "display_data"
    }
   ],
   "source": [
    "%matplotlib inline \n",
    "train_no_na.iloc[0:1,0:-3].T.plot()"
   ]
  },
  {
   "cell_type": "markdown",
   "metadata": {},
   "source": [
    "# Strcuture the data for training"
   ]
  },
  {
   "cell_type": "markdown",
   "metadata": {},
   "source": [
    "### To do\n",
    "\n",
    "    1.how to include multiple features -> multivariate input. in keras (batch_size, timesteps, input_dim)\n",
    "        1.1 effect of including features that are constant per input X(i) \n",
    "    2. check for trend, seasonality in time series\n",
    "    3. make the series stationary if needed (based on 2)\n",
    "    4. produce multi-step output\n",
    "    5. normalize input - no needed since the scale is same\n",
    "    6. check outliers\n",
    "    7. structure the data to the form that Keras expects"
   ]
  },
  {
   "cell_type": "markdown",
   "metadata": {},
   "source": [
    "Split the data into train, valid and test"
   ]
  },
  {
   "cell_type": "code",
   "execution_count": 575,
   "metadata": {
    "collapsed": true
   },
   "outputs": [],
   "source": [
    "data = train_no_na"
   ]
  },
  {
   "cell_type": "code",
   "execution_count": 299,
   "metadata": {
    "collapsed": true
   },
   "outputs": [],
   "source": [
    "#helper function to split dataset in to train, valid and test\n",
    "def splitDataset(data, valid_perc, test_perc):\n",
    "    p1, p2, p3 = (data.shape[0], int(data.shape[0]*valid_perc), int(data.shape[0]*test_perc))\n",
    "    train = data[0:p1 - (p2+p3)]\n",
    "    valid = data[p1 - (p2 + p3): p1 - p3]\n",
    "    test = data [p1 - p3:]\n",
    "    return (train, valid, test)"
   ]
  },
  {
   "cell_type": "code",
   "execution_count": 576,
   "metadata": {},
   "outputs": [
    {
     "data": {
      "text/html": [
       "<div>\n",
       "<style>\n",
       "    .dataframe thead tr:only-child th {\n",
       "        text-align: right;\n",
       "    }\n",
       "\n",
       "    .dataframe thead th {\n",
       "        text-align: left;\n",
       "    }\n",
       "\n",
       "    .dataframe tbody tr th {\n",
       "        vertical-align: top;\n",
       "    }\n",
       "</style>\n",
       "<table border=\"1\" class=\"dataframe\">\n",
       "  <thead>\n",
       "    <tr style=\"text-align: right;\">\n",
       "      <th></th>\n",
       "      <th>2015-07-01</th>\n",
       "      <th>2015-07-02</th>\n",
       "      <th>2015-07-03</th>\n",
       "      <th>2015-07-04</th>\n",
       "      <th>2015-07-05</th>\n",
       "      <th>2015-07-06</th>\n",
       "      <th>2015-07-07</th>\n",
       "      <th>2015-07-08</th>\n",
       "      <th>2015-07-09</th>\n",
       "      <th>2015-07-10</th>\n",
       "      <th>...</th>\n",
       "      <th>2016-12-25</th>\n",
       "      <th>2016-12-26</th>\n",
       "      <th>2016-12-27</th>\n",
       "      <th>2016-12-28</th>\n",
       "      <th>2016-12-29</th>\n",
       "      <th>2016-12-30</th>\n",
       "      <th>2016-12-31</th>\n",
       "      <th>project</th>\n",
       "      <th>access</th>\n",
       "      <th>agent</th>\n",
       "    </tr>\n",
       "  </thead>\n",
       "  <tbody>\n",
       "    <tr>\n",
       "      <th>0</th>\n",
       "      <td>18.0</td>\n",
       "      <td>11.0</td>\n",
       "      <td>5.0</td>\n",
       "      <td>13.0</td>\n",
       "      <td>14.0</td>\n",
       "      <td>9.0</td>\n",
       "      <td>9.0</td>\n",
       "      <td>22.0</td>\n",
       "      <td>26.0</td>\n",
       "      <td>24.0</td>\n",
       "      <td>...</td>\n",
       "      <td>26.0</td>\n",
       "      <td>14.0</td>\n",
       "      <td>20.0</td>\n",
       "      <td>22.0</td>\n",
       "      <td>19.0</td>\n",
       "      <td>18.0</td>\n",
       "      <td>20.0</td>\n",
       "      <td>zh.wikipedia.org</td>\n",
       "      <td>all-access</td>\n",
       "      <td>spider</td>\n",
       "    </tr>\n",
       "    <tr>\n",
       "      <th>1</th>\n",
       "      <td>11.0</td>\n",
       "      <td>14.0</td>\n",
       "      <td>15.0</td>\n",
       "      <td>18.0</td>\n",
       "      <td>11.0</td>\n",
       "      <td>13.0</td>\n",
       "      <td>22.0</td>\n",
       "      <td>11.0</td>\n",
       "      <td>10.0</td>\n",
       "      <td>4.0</td>\n",
       "      <td>...</td>\n",
       "      <td>15.0</td>\n",
       "      <td>9.0</td>\n",
       "      <td>30.0</td>\n",
       "      <td>52.0</td>\n",
       "      <td>45.0</td>\n",
       "      <td>26.0</td>\n",
       "      <td>20.0</td>\n",
       "      <td>zh.wikipedia.org</td>\n",
       "      <td>all-access</td>\n",
       "      <td>spider</td>\n",
       "    </tr>\n",
       "    <tr>\n",
       "      <th>2</th>\n",
       "      <td>1.0</td>\n",
       "      <td>0.0</td>\n",
       "      <td>1.0</td>\n",
       "      <td>1.0</td>\n",
       "      <td>0.0</td>\n",
       "      <td>4.0</td>\n",
       "      <td>0.0</td>\n",
       "      <td>3.0</td>\n",
       "      <td>4.0</td>\n",
       "      <td>4.0</td>\n",
       "      <td>...</td>\n",
       "      <td>7.0</td>\n",
       "      <td>4.0</td>\n",
       "      <td>4.0</td>\n",
       "      <td>6.0</td>\n",
       "      <td>3.0</td>\n",
       "      <td>4.0</td>\n",
       "      <td>17.0</td>\n",
       "      <td>zh.wikipedia.org</td>\n",
       "      <td>all-access</td>\n",
       "      <td>spider</td>\n",
       "    </tr>\n",
       "    <tr>\n",
       "      <th>3</th>\n",
       "      <td>35.0</td>\n",
       "      <td>13.0</td>\n",
       "      <td>10.0</td>\n",
       "      <td>94.0</td>\n",
       "      <td>4.0</td>\n",
       "      <td>26.0</td>\n",
       "      <td>14.0</td>\n",
       "      <td>9.0</td>\n",
       "      <td>11.0</td>\n",
       "      <td>16.0</td>\n",
       "      <td>...</td>\n",
       "      <td>27.0</td>\n",
       "      <td>16.0</td>\n",
       "      <td>11.0</td>\n",
       "      <td>17.0</td>\n",
       "      <td>19.0</td>\n",
       "      <td>10.0</td>\n",
       "      <td>11.0</td>\n",
       "      <td>zh.wikipedia.org</td>\n",
       "      <td>all-access</td>\n",
       "      <td>spider</td>\n",
       "    </tr>\n",
       "    <tr>\n",
       "      <th>5</th>\n",
       "      <td>12.0</td>\n",
       "      <td>7.0</td>\n",
       "      <td>4.0</td>\n",
       "      <td>5.0</td>\n",
       "      <td>20.0</td>\n",
       "      <td>8.0</td>\n",
       "      <td>5.0</td>\n",
       "      <td>17.0</td>\n",
       "      <td>24.0</td>\n",
       "      <td>7.0</td>\n",
       "      <td>...</td>\n",
       "      <td>17.0</td>\n",
       "      <td>32.0</td>\n",
       "      <td>19.0</td>\n",
       "      <td>23.0</td>\n",
       "      <td>17.0</td>\n",
       "      <td>17.0</td>\n",
       "      <td>50.0</td>\n",
       "      <td>zh.wikipedia.org</td>\n",
       "      <td>all-access</td>\n",
       "      <td>spider</td>\n",
       "    </tr>\n",
       "  </tbody>\n",
       "</table>\n",
       "<p>5 rows × 553 columns</p>\n",
       "</div>"
      ],
      "text/plain": [
       "   2015-07-01  2015-07-02  2015-07-03  2015-07-04  2015-07-05  2015-07-06  \\\n",
       "0        18.0        11.0         5.0        13.0        14.0         9.0   \n",
       "1        11.0        14.0        15.0        18.0        11.0        13.0   \n",
       "2         1.0         0.0         1.0         1.0         0.0         4.0   \n",
       "3        35.0        13.0        10.0        94.0         4.0        26.0   \n",
       "5        12.0         7.0         4.0         5.0        20.0         8.0   \n",
       "\n",
       "   2015-07-07  2015-07-08  2015-07-09  2015-07-10   ...    2016-12-25  \\\n",
       "0         9.0        22.0        26.0        24.0   ...          26.0   \n",
       "1        22.0        11.0        10.0         4.0   ...          15.0   \n",
       "2         0.0         3.0         4.0         4.0   ...           7.0   \n",
       "3        14.0         9.0        11.0        16.0   ...          27.0   \n",
       "5         5.0        17.0        24.0         7.0   ...          17.0   \n",
       "\n",
       "   2016-12-26  2016-12-27  2016-12-28  2016-12-29  2016-12-30  2016-12-31  \\\n",
       "0        14.0        20.0        22.0        19.0        18.0        20.0   \n",
       "1         9.0        30.0        52.0        45.0        26.0        20.0   \n",
       "2         4.0         4.0         6.0         3.0         4.0        17.0   \n",
       "3        16.0        11.0        17.0        19.0        10.0        11.0   \n",
       "5        32.0        19.0        23.0        17.0        17.0        50.0   \n",
       "\n",
       "            project      access   agent  \n",
       "0  zh.wikipedia.org  all-access  spider  \n",
       "1  zh.wikipedia.org  all-access  spider  \n",
       "2  zh.wikipedia.org  all-access  spider  \n",
       "3  zh.wikipedia.org  all-access  spider  \n",
       "5  zh.wikipedia.org  all-access  spider  \n",
       "\n",
       "[5 rows x 553 columns]"
      ]
     },
     "execution_count": 576,
     "metadata": {},
     "output_type": "execute_result"
    }
   ],
   "source": [
    "data[0:5]"
   ]
  },
  {
   "cell_type": "markdown",
   "metadata": {},
   "source": [
    "## Check for Trend, Seasonality"
   ]
  },
  {
   "cell_type": "markdown",
   "metadata": {},
   "source": [
    "select only the time info columns"
   ]
  },
  {
   "cell_type": "code",
   "execution_count": 315,
   "metadata": {
    "collapsed": true
   },
   "outputs": [],
   "source": [
    "tr_data = data.iloc[:, 0:-3]"
   ]
  },
  {
   "cell_type": "markdown",
   "metadata": {},
   "source": [
    "choose one series"
   ]
  },
  {
   "cell_type": "code",
   "execution_count": 317,
   "metadata": {
    "collapsed": true
   },
   "outputs": [],
   "source": [
    "tr_data_1 = tr_data[0:1]"
   ]
  },
  {
   "cell_type": "code",
   "execution_count": 335,
   "metadata": {},
   "outputs": [
    {
     "data": {
      "text/html": [
       "<div>\n",
       "<style>\n",
       "    .dataframe thead tr:only-child th {\n",
       "        text-align: right;\n",
       "    }\n",
       "\n",
       "    .dataframe thead th {\n",
       "        text-align: left;\n",
       "    }\n",
       "\n",
       "    .dataframe tbody tr th {\n",
       "        vertical-align: top;\n",
       "    }\n",
       "</style>\n",
       "<table border=\"1\" class=\"dataframe\">\n",
       "  <thead>\n",
       "    <tr style=\"text-align: right;\">\n",
       "      <th></th>\n",
       "      <th>2015-07-01</th>\n",
       "      <th>2015-07-02</th>\n",
       "      <th>2015-07-03</th>\n",
       "      <th>2015-07-04</th>\n",
       "      <th>2015-07-05</th>\n",
       "      <th>2015-07-06</th>\n",
       "      <th>2015-07-07</th>\n",
       "      <th>2015-07-08</th>\n",
       "      <th>2015-07-09</th>\n",
       "      <th>2015-07-10</th>\n",
       "      <th>...</th>\n",
       "      <th>2015-07-22</th>\n",
       "      <th>2015-07-23</th>\n",
       "      <th>2015-07-24</th>\n",
       "      <th>2015-07-25</th>\n",
       "      <th>2015-07-26</th>\n",
       "      <th>2015-07-27</th>\n",
       "      <th>2015-07-28</th>\n",
       "      <th>2015-07-29</th>\n",
       "      <th>2015-07-30</th>\n",
       "      <th>2015-07-31</th>\n",
       "    </tr>\n",
       "  </thead>\n",
       "  <tbody>\n",
       "    <tr>\n",
       "      <th>0</th>\n",
       "      <td>18.0</td>\n",
       "      <td>11.0</td>\n",
       "      <td>5.0</td>\n",
       "      <td>13.0</td>\n",
       "      <td>14.0</td>\n",
       "      <td>9.0</td>\n",
       "      <td>9.0</td>\n",
       "      <td>22.0</td>\n",
       "      <td>26.0</td>\n",
       "      <td>24.0</td>\n",
       "      <td>...</td>\n",
       "      <td>10.0</td>\n",
       "      <td>20.0</td>\n",
       "      <td>18.0</td>\n",
       "      <td>15.0</td>\n",
       "      <td>14.0</td>\n",
       "      <td>49.0</td>\n",
       "      <td>10.0</td>\n",
       "      <td>16.0</td>\n",
       "      <td>18.0</td>\n",
       "      <td>8.0</td>\n",
       "    </tr>\n",
       "  </tbody>\n",
       "</table>\n",
       "<p>1 rows × 31 columns</p>\n",
       "</div>"
      ],
      "text/plain": [
       "   2015-07-01  2015-07-02  2015-07-03  2015-07-04  2015-07-05  2015-07-06  \\\n",
       "0        18.0        11.0         5.0        13.0        14.0         9.0   \n",
       "\n",
       "   2015-07-07  2015-07-08  2015-07-09  2015-07-10     ...      2015-07-22  \\\n",
       "0         9.0        22.0        26.0        24.0     ...            10.0   \n",
       "\n",
       "   2015-07-23  2015-07-24  2015-07-25  2015-07-26  2015-07-27  2015-07-28  \\\n",
       "0        20.0        18.0        15.0        14.0        49.0        10.0   \n",
       "\n",
       "   2015-07-29  2015-07-30  2015-07-31  \n",
       "0        16.0        18.0         8.0  \n",
       "\n",
       "[1 rows x 31 columns]"
      ]
     },
     "execution_count": 335,
     "metadata": {},
     "output_type": "execute_result"
    }
   ],
   "source": [
    "tr_data_1.iloc[:,0:31]"
   ]
  },
  {
   "cell_type": "code",
   "execution_count": 334,
   "metadata": {},
   "outputs": [
    {
     "data": {
      "text/plain": [
       "<matplotlib.axes._subplots.AxesSubplot at 0x199563dd0>"
      ]
     },
     "execution_count": 334,
     "metadata": {},
     "output_type": "execute_result"
    },
    {
     "data": {
      "image/png": "[encoded data removed]",
      "text/plain": [
       "<matplotlib.figure.Figure at 0x19d3e2c10>"
      ]
     },
     "metadata": {},
     "output_type": "display_data"
    }
   ],
   "source": [
    "tr_data_1.iloc[:,0:31].T.plot()"
   ]
  },
  {
   "cell_type": "code",
   "execution_count": 336,
   "metadata": {},
   "outputs": [
    {
     "data": {
      "text/plain": [
       "<matplotlib.axes._subplots.AxesSubplot at 0x19d40c410>"
      ]
     },
     "execution_count": 336,
     "metadata": {},
     "output_type": "execute_result"
    },
    {
     "data": {
      "image/png": "[encoded data removed]",
      "text/plain": [
       "<matplotlib.figure.Figure at 0x19d403e90>"
      ]
     },
     "metadata": {},
     "output_type": "display_data"
    }
   ],
   "source": [
    "tr_data_1.iloc[:,31:62].T.plot()"
   ]
  },
  {
   "cell_type": "code",
   "execution_count": 337,
   "metadata": {},
   "outputs": [
    {
     "data": {
      "text/plain": [
       "<matplotlib.axes._subplots.AxesSubplot at 0x19d530d90>"
      ]
     },
     "execution_count": 337,
     "metadata": {},
     "output_type": "execute_result"
    },
    {
     "data": {
      "image/png": "[encoded data removed]",
      "text/plain": [
       "<matplotlib.figure.Figure at 0x19d3e2b10>"
      ]
     },
     "metadata": {},
     "output_type": "display_data"
    }
   ],
   "source": [
    "tr_data_1.iloc[:,62:93].T.plot()"
   ]
  },
  {
   "cell_type": "markdown",
   "metadata": {},
   "source": [
    "## Check for weekly trends/seasonality"
   ]
  },
  {
   "cell_type": "code",
   "execution_count": 338,
   "metadata": {},
   "outputs": [
    {
     "data": {
      "text/plain": [
       "(1, 550)"
      ]
     },
     "execution_count": 338,
     "metadata": {},
     "output_type": "execute_result"
    }
   ],
   "source": [
    "tr_data_1.shape"
   ]
  },
  {
   "cell_type": "code",
   "execution_count": 344,
   "metadata": {},
   "outputs": [
    {
     "data": {
      "text/plain": [
       "(0    18.0\n",
       " Name: 2015-07-01, dtype: float64, 0    20.0\n",
       " Name: 2016-12-31, dtype: float64)"
      ]
     },
     "execution_count": 344,
     "metadata": {},
     "output_type": "execute_result"
    }
   ],
   "source": [
    "tr_data_1.iloc[:,0],tr_data_1.iloc[:,549],"
   ]
  },
  {
   "cell_type": "code",
   "execution_count": 360,
   "metadata": {
    "collapsed": true
   },
   "outputs": [],
   "source": [
    "tr_d_1_t = tr_data_1.T\n",
    "tr_d_1_t.columns = ['views']"
   ]
  },
  {
   "cell_type": "code",
   "execution_count": 364,
   "metadata": {
    "collapsed": true
   },
   "outputs": [],
   "source": [
    "tr_d_1_t.index.name = 'date'"
   ]
  },
  {
   "cell_type": "code",
   "execution_count": 403,
   "metadata": {},
   "outputs": [
    {
     "data": {
      "text/html": [
       "<div>\n",
       "<style>\n",
       "    .dataframe thead tr:only-child th {\n",
       "        text-align: right;\n",
       "    }\n",
       "\n",
       "    .dataframe thead th {\n",
       "        text-align: left;\n",
       "    }\n",
       "\n",
       "    .dataframe tbody tr th {\n",
       "        vertical-align: top;\n",
       "    }\n",
       "</style>\n",
       "<table border=\"1\" class=\"dataframe\">\n",
       "  <thead>\n",
       "    <tr style=\"text-align: right;\">\n",
       "      <th></th>\n",
       "      <th>views</th>\n",
       "    </tr>\n",
       "    <tr>\n",
       "      <th>date</th>\n",
       "      <th></th>\n",
       "    </tr>\n",
       "  </thead>\n",
       "  <tbody>\n",
       "    <tr>\n",
       "      <th>2015-07-01</th>\n",
       "      <td>18.0</td>\n",
       "    </tr>\n",
       "    <tr>\n",
       "      <th>2015-07-02</th>\n",
       "      <td>11.0</td>\n",
       "    </tr>\n",
       "    <tr>\n",
       "      <th>2015-07-03</th>\n",
       "      <td>5.0</td>\n",
       "    </tr>\n",
       "    <tr>\n",
       "      <th>2015-07-04</th>\n",
       "      <td>13.0</td>\n",
       "    </tr>\n",
       "    <tr>\n",
       "      <th>2015-07-05</th>\n",
       "      <td>14.0</td>\n",
       "    </tr>\n",
       "  </tbody>\n",
       "</table>\n",
       "</div>"
      ],
      "text/plain": [
       "            views\n",
       "date             \n",
       "2015-07-01   18.0\n",
       "2015-07-02   11.0\n",
       "2015-07-03    5.0\n",
       "2015-07-04   13.0\n",
       "2015-07-05   14.0"
      ]
     },
     "execution_count": 403,
     "metadata": {},
     "output_type": "execute_result"
    }
   ],
   "source": [
    "tr_d_1_t[0:5]"
   ]
  },
  {
   "cell_type": "code",
   "execution_count": 369,
   "metadata": {},
   "outputs": [
    {
     "data": {
      "text/plain": [
       "pandas.core.indexes.base.Index"
      ]
     },
     "execution_count": 369,
     "metadata": {},
     "output_type": "execute_result"
    }
   ],
   "source": [
    "type(tr_d_1_t.index)"
   ]
  },
  {
   "cell_type": "code",
   "execution_count": 370,
   "metadata": {
    "collapsed": true
   },
   "outputs": [],
   "source": [
    "tr_d_1_t.index = pd.to_datetime(tr_d_1_t.index)"
   ]
  },
  {
   "cell_type": "code",
   "execution_count": 371,
   "metadata": {},
   "outputs": [
    {
     "data": {
      "text/plain": [
       "pandas.core.indexes.datetimes.DatetimeIndex"
      ]
     },
     "execution_count": 371,
     "metadata": {},
     "output_type": "execute_result"
    }
   ],
   "source": [
    "type(tr_d_1_t.index)"
   ]
  },
  {
   "cell_type": "code",
   "execution_count": 377,
   "metadata": {
    "collapsed": true
   },
   "outputs": [],
   "source": [
    "weekly = tr_d_1_t.groupby(pd.TimeGrouper(\"W\"))"
   ]
  },
  {
   "cell_type": "code",
   "execution_count": 383,
   "metadata": {},
   "outputs": [
    {
     "data": {
      "text/plain": [
       "date\n",
       "2015-07-05    5\n",
       "2015-07-12    7\n",
       "2015-07-19    7\n",
       "2015-07-26    7\n",
       "2015-08-02    7\n",
       "Freq: W-SUN, dtype: int64"
      ]
     },
     "execution_count": 383,
     "metadata": {},
     "output_type": "execute_result"
    }
   ],
   "source": [
    "weekly.size()[0:5]"
   ]
  },
  {
   "cell_type": "code",
   "execution_count": 421,
   "metadata": {},
   "outputs": [
    {
     "name": "stdout",
     "output_type": "stream",
     "text": [
      "empty\n"
     ]
    }
   ],
   "source": [
    "weekly_data = np.array([[]])\n",
    "if weekly_data.size == 0:\n",
    "    print(\"empty\")"
   ]
  },
  {
   "cell_type": "code",
   "execution_count": 433,
   "metadata": {},
   "outputs": [
    {
     "name": "stdout",
     "output_type": "stream",
     "text": [
      "[1, 2, 3]\n",
      "[0, 1, 2, 3]\n",
      "4\n"
     ]
    }
   ],
   "source": [
    "v = [1,2,3]\n",
    "print(v)\n",
    "v = [0] + v\n",
    "print(v)\n",
    "print(len(v))\n"
   ]
  },
  {
   "cell_type": "code",
   "execution_count": 496,
   "metadata": {
    "collapsed": true
   },
   "outputs": [],
   "source": [
    "weekly_data = np.array([[]])\n",
    "for g,v in weekly:\n",
    "    views = v.values.T\n",
    "    while views.size < 7:\n",
    "        views = np.append([0], views)\n",
    "    views = views.reshape((1, 7))\n",
    "    if weekly_data.size == 0:\n",
    "        weekly_data = views\n",
    "    else:\n",
    "        weekly_data = np.vstack((weekly_data, views))"
   ]
  },
  {
   "cell_type": "code",
   "execution_count": 499,
   "metadata": {},
   "outputs": [
    {
     "data": {
      "text/plain": [
       "array([  0.,   0.,  18.,  11.,   5.,  13.,  14.])"
      ]
     },
     "execution_count": 499,
     "metadata": {},
     "output_type": "execute_result"
    }
   ],
   "source": []
  },
  {
   "cell_type": "code",
   "execution_count": 506,
   "metadata": {},
   "outputs": [
    {
     "data": {
      "image/png": "[encoded data removed]",
      "text/plain": [
       "<matplotlib.figure.Figure at 0x20fdb6990>"
      ]
     },
     "metadata": {},
     "output_type": "display_data"
    }
   ],
   "source": [
    "plt.figure(1)\n",
    "for i in range(0, 4):\n",
    "    plt.plot(weekly_data[i])\n",
    "plt.show()"
   ]
  },
  {
   "cell_type": "code",
   "execution_count": 514,
   "metadata": {},
   "outputs": [
    {
     "data": {
      "image/png": "[encoded data removed]",
      "text/plain": [
       "<matplotlib.figure.Figure at 0x20ff8e450>"
      ]
     },
     "metadata": {},
     "output_type": "display_data"
    }
   ],
   "source": [
    "plt.plot(weekly_data.mean(axis = 0))\n",
    "plt.show()"
   ]
  },
  {
   "cell_type": "markdown",
   "metadata": {},
   "source": [
    "## Monthly"
   ]
  },
  {
   "cell_type": "code",
   "execution_count": 522,
   "metadata": {
    "collapsed": true
   },
   "outputs": [],
   "source": [
    "monthly = tr_d_1_t.groupby(pd.TimeGrouper(\"M\"))\n",
    "monthly_data = np.array([[]])\n",
    "for g,v in monthly:\n",
    "    views = v.values.T\n",
    "    while views.size < 31:\n",
    "        views = np.append([0], views)\n",
    "    views = views.reshape((1, 31))\n",
    "    if monthly_data.size == 0:\n",
    "        monthly_data = views\n",
    "    else:\n",
    "        monthly_data = np.vstack((monthly_data, views))"
   ]
  },
  {
   "cell_type": "code",
   "execution_count": 533,
   "metadata": {},
   "outputs": [
    {
     "data": {
      "image/png": "[encoded data removed]",
      "text/plain": [
       "<matplotlib.figure.Figure at 0x210be5710>"
      ]
     },
     "metadata": {},
     "output_type": "display_data"
    }
   ],
   "source": [
    "plt.figure(1)\n",
    "for i in range(0, 4):\n",
    "    plt.plot(monthly_data[i])\n",
    "plt.show()"
   ]
  },
  {
   "cell_type": "code",
   "execution_count": 521,
   "metadata": {},
   "outputs": [
    {
     "data": {
      "image/png": "[encoded data removed]",
      "text/plain": [
       "<matplotlib.figure.Figure at 0x2106eedd0>"
      ]
     },
     "metadata": {},
     "output_type": "display_data"
    }
   ],
   "source": [
    "plt.plot(monthly_data.mean(axis = 0))\n",
    "plt.show()"
   ]
  },
  {
   "cell_type": "markdown",
   "metadata": {},
   "source": [
    "## Yearly"
   ]
  },
  {
   "cell_type": "code",
   "execution_count": 527,
   "metadata": {
    "collapsed": true
   },
   "outputs": [],
   "source": [
    "yearly = tr_d_1_t.groupby(pd.TimeGrouper(\"A\"))\n",
    "yearly_data = np.array([[]])\n",
    "for g,v in yearly:\n",
    "    views = v.values.T\n",
    "    while views.size < 366:\n",
    "        views = np.append([0], views)\n",
    "    views = views.reshape((1, 366))\n",
    "    if yearly_data.size == 0:\n",
    "        yearly_data = views\n",
    "    else:\n",
    "        yearly_data = np.vstack((yearly_data, views))"
   ]
  },
  {
   "cell_type": "code",
   "execution_count": 532,
   "metadata": {},
   "outputs": [
    {
     "data": {
      "image/png": "[encoded data removed]",
      "text/plain": [
       "<matplotlib.figure.Figure at 0x210b85490>"
      ]
     },
     "metadata": {},
     "output_type": "display_data"
    }
   ],
   "source": [
    "plt.figure(1)\n",
    "for i in range(0, 2):\n",
    "    plt.plot(yearly_data[i])\n",
    "plt.show()"
   ]
  },
  {
   "cell_type": "markdown",
   "metadata": {},
   "source": [
    "## Average accross all data"
   ]
  },
  {
   "cell_type": "code",
   "execution_count": 539,
   "metadata": {},
   "outputs": [
    {
     "data": {
      "text/plain": [
       "(117277, 550)"
      ]
     },
     "execution_count": 539,
     "metadata": {},
     "output_type": "execute_result"
    }
   ],
   "source": [
    "tr_data.shape"
   ]
  },
  {
   "cell_type": "code",
   "execution_count": 540,
   "metadata": {
    "collapsed": true
   },
   "outputs": [],
   "source": [
    "mean_data = tr_data.mean(axis = 0)"
   ]
  },
  {
   "cell_type": "code",
   "execution_count": 541,
   "metadata": {},
   "outputs": [
    {
     "data": {
      "text/plain": [
       "(550,)"
      ]
     },
     "execution_count": 541,
     "metadata": {},
     "output_type": "execute_result"
    }
   ],
   "source": [
    "mean_data.shape"
   ]
  },
  {
   "cell_type": "code",
   "execution_count": 542,
   "metadata": {},
   "outputs": [
    {
     "data": {
      "text/plain": [
       "<matplotlib.axes._subplots.AxesSubplot at 0x210b85ed0>"
      ]
     },
     "execution_count": 542,
     "metadata": {},
     "output_type": "execute_result"
    },
    {
     "data": {
      "image/png": "[encoded data removed]",
      "text/plain": [
       "<matplotlib.figure.Figure at 0x210ba6c50>"
      ]
     },
     "metadata": {},
     "output_type": "display_data"
    }
   ],
   "source": [
    "mean_data.plot()"
   ]
  },
  {
   "cell_type": "code",
   "execution_count": 544,
   "metadata": {
    "collapsed": true
   },
   "outputs": [],
   "source": [
    "mean_data.index = pd.to_datetime(mean_data.index)"
   ]
  },
  {
   "cell_type": "markdown",
   "metadata": {},
   "source": [
    "## Weekly"
   ]
  },
  {
   "cell_type": "code",
   "execution_count": 545,
   "metadata": {
    "collapsed": true
   },
   "outputs": [],
   "source": [
    "m_weekly = mean_data.groupby(pd.TimeGrouper(\"W\"))\n",
    "m_weekly_data = np.array([[]])\n",
    "for g,v in m_weekly:\n",
    "    views = v.values.T\n",
    "    while views.size < 7:\n",
    "        views = np.append([0], views)\n",
    "    views = views.reshape((1, 7))\n",
    "    if m_weekly_data.size == 0:\n",
    "        m_weekly_data = views\n",
    "    else:\n",
    "        m_weekly_data = np.vstack((m_weekly_data, views))"
   ]
  },
  {
   "cell_type": "code",
   "execution_count": 548,
   "metadata": {},
   "outputs": [
    {
     "data": {
      "image/png": "[encoded data removed]",
      "text/plain": [
       "<matplotlib.figure.Figure at 0x211975f90>"
      ]
     },
     "metadata": {},
     "output_type": "display_data"
    }
   ],
   "source": [
    "plt.figure(1)\n",
    "for i in range(1, 5):\n",
    "    plt.plot(m_weekly_data[i])\n",
    "plt.show()"
   ]
  },
  {
   "cell_type": "markdown",
   "metadata": {},
   "source": [
    "There seems to be some seasonality in weekly data"
   ]
  },
  {
   "cell_type": "code",
   "execution_count": 550,
   "metadata": {},
   "outputs": [
    {
     "data": {
      "image/png": "[encoded data removed]",
      "text/plain": [
       "<matplotlib.figure.Figure at 0x211bcc690>"
      ]
     },
     "metadata": {},
     "output_type": "display_data"
    }
   ],
   "source": [
    "plt.plot(m_weekly_data.mean(axis =0))\n",
    "plt.show()"
   ]
  },
  {
   "cell_type": "markdown",
   "metadata": {},
   "source": [
    "## Monthly data"
   ]
  },
  {
   "cell_type": "code",
   "execution_count": 551,
   "metadata": {
    "collapsed": true
   },
   "outputs": [],
   "source": [
    "m_monthly = mean_data.groupby(pd.TimeGrouper(\"M\"))\n",
    "m_monthly_data = np.array([[]])\n",
    "for g,v in m_monthly:\n",
    "    views = v.values.T\n",
    "    while views.size < 31:\n",
    "        views = np.append([0], views)\n",
    "    views = views.reshape((1, 31))\n",
    "    if m_monthly_data.size == 0:\n",
    "        m_monthly_data = views\n",
    "    else:\n",
    "        m_monthly_data = np.vstack((m_monthly_data, views))"
   ]
  },
  {
   "cell_type": "code",
   "execution_count": 563,
   "metadata": {},
   "outputs": [
    {
     "data": {
      "image/png": "[encoded data removed]",
      "text/plain": [
       "<matplotlib.figure.Figure at 0x199702e10>"
      ]
     },
     "metadata": {},
     "output_type": "display_data"
    }
   ],
   "source": [
    "plt.figure(1)\n",
    "for i in range(10, 18):\n",
    "    plt.plot(m_monthly_data[i])\n",
    "plt.show()"
   ]
  },
  {
   "cell_type": "markdown",
   "metadata": {},
   "source": [
    "most of the weeks seems to follow same pattern, while there are few pages which behave differently "
   ]
  },
  {
   "cell_type": "code",
   "execution_count": 564,
   "metadata": {},
   "outputs": [
    {
     "data": {
      "image/png": "[encoded data removed]",
      "text/plain": [
       "<matplotlib.figure.Figure at 0x212963810>"
      ]
     },
     "metadata": {},
     "output_type": "display_data"
    }
   ],
   "source": [
    "plt.plot(m_monthly_data.mean(axis =0))\n",
    "plt.show()"
   ]
  },
  {
   "cell_type": "markdown",
   "metadata": {},
   "source": [
    "## Yearly"
   ]
  },
  {
   "cell_type": "code",
   "execution_count": 565,
   "metadata": {
    "collapsed": true
   },
   "outputs": [],
   "source": [
    "m_yearly = tr_d_1_t.groupby(pd.TimeGrouper(\"A\"))\n",
    "m_yearly_data = np.array([[]])\n",
    "for g,v in m_yearly:\n",
    "    views = v.values.T\n",
    "    while views.size < 366:\n",
    "        views = np.append([0], views)\n",
    "    views = views.reshape((1, 366))\n",
    "    if m_yearly_data.size == 0:\n",
    "        m_yearly_data = views\n",
    "    else:\n",
    "        m_yearly_data = np.vstack((m_yearly_data, views))"
   ]
  },
  {
   "cell_type": "code",
   "execution_count": 567,
   "metadata": {},
   "outputs": [
    {
     "data": {
      "image/png": "[encoded data removed]",
      "text/plain": [
       "<matplotlib.figure.Figure at 0x212aeb090>"
      ]
     },
     "metadata": {},
     "output_type": "display_data"
    }
   ],
   "source": [
    "plt.figure(1)\n",
    "for i in range(0, 2):\n",
    "    plt.plot(m_yearly_data[i])\n",
    "plt.show()"
   ]
  },
  {
   "cell_type": "code",
   "execution_count": 568,
   "metadata": {},
   "outputs": [
    {
     "data": {
      "image/png": "[encoded data removed]",
      "text/plain": [
       "<matplotlib.figure.Figure at 0x212ca8250>"
      ]
     },
     "metadata": {},
     "output_type": "display_data"
    }
   ],
   "source": [
    "plt.plot(m_yearly_data.mean(axis =0))\n",
    "plt.show()"
   ]
  },
  {
   "cell_type": "markdown",
   "metadata": {},
   "source": [
    "## Structure the data"
   ]
  },
  {
   "cell_type": "code",
   "execution_count": 13,
   "metadata": {
    "collapsed": true
   },
   "outputs": [],
   "source": [
    "import pandas as pd\n",
    "import numpy as np"
   ]
  },
  {
   "cell_type": "code",
   "execution_count": 14,
   "metadata": {
    "collapsed": true
   },
   "outputs": [],
   "source": [
    "training_set = pd.read_csv('train_1.csv')"
   ]
  },
  {
   "cell_type": "code",
   "execution_count": 15,
   "metadata": {
    "collapsed": true
   },
   "outputs": [],
   "source": [
    "stationary_fields = pd.DataFrame([i.split(\"_\")[-3:] for i in training_set.Page], columns = ['project', 'access', 'agent'])"
   ]
  },
  {
   "cell_type": "code",
   "execution_count": 16,
   "metadata": {
    "collapsed": true
   },
   "outputs": [],
   "source": [
    "training_set = training_set.drop('Page', 1)"
   ]
  },
  {
   "cell_type": "code",
   "execution_count": 17,
   "metadata": {},
   "outputs": [
    {
     "data": {
      "text/html": [
       "<div>\n",
       "<style>\n",
       "    .dataframe thead tr:only-child th {\n",
       "        text-align: right;\n",
       "    }\n",
       "\n",
       "    .dataframe thead th {\n",
       "        text-align: left;\n",
       "    }\n",
       "\n",
       "    .dataframe tbody tr th {\n",
       "        vertical-align: top;\n",
       "    }\n",
       "</style>\n",
       "<table border=\"1\" class=\"dataframe\">\n",
       "  <thead>\n",
       "    <tr style=\"text-align: right;\">\n",
       "      <th></th>\n",
       "      <th>2015-07-01</th>\n",
       "      <th>2015-07-02</th>\n",
       "      <th>2015-07-03</th>\n",
       "      <th>2015-07-04</th>\n",
       "      <th>2015-07-05</th>\n",
       "      <th>2015-07-06</th>\n",
       "      <th>2015-07-07</th>\n",
       "      <th>2015-07-08</th>\n",
       "      <th>2015-07-09</th>\n",
       "      <th>2015-07-10</th>\n",
       "      <th>...</th>\n",
       "      <th>2016-12-22</th>\n",
       "      <th>2016-12-23</th>\n",
       "      <th>2016-12-24</th>\n",
       "      <th>2016-12-25</th>\n",
       "      <th>2016-12-26</th>\n",
       "      <th>2016-12-27</th>\n",
       "      <th>2016-12-28</th>\n",
       "      <th>2016-12-29</th>\n",
       "      <th>2016-12-30</th>\n",
       "      <th>2016-12-31</th>\n",
       "    </tr>\n",
       "  </thead>\n",
       "  <tbody>\n",
       "    <tr>\n",
       "      <th>0</th>\n",
       "      <td>18.0</td>\n",
       "      <td>11.0</td>\n",
       "      <td>5.0</td>\n",
       "      <td>13.0</td>\n",
       "      <td>14.0</td>\n",
       "      <td>9.0</td>\n",
       "      <td>9.0</td>\n",
       "      <td>22.0</td>\n",
       "      <td>26.0</td>\n",
       "      <td>24.0</td>\n",
       "      <td>...</td>\n",
       "      <td>32.0</td>\n",
       "      <td>63.0</td>\n",
       "      <td>15.0</td>\n",
       "      <td>26.0</td>\n",
       "      <td>14.0</td>\n",
       "      <td>20.0</td>\n",
       "      <td>22.0</td>\n",
       "      <td>19.0</td>\n",
       "      <td>18.0</td>\n",
       "      <td>20.0</td>\n",
       "    </tr>\n",
       "    <tr>\n",
       "      <th>1</th>\n",
       "      <td>11.0</td>\n",
       "      <td>14.0</td>\n",
       "      <td>15.0</td>\n",
       "      <td>18.0</td>\n",
       "      <td>11.0</td>\n",
       "      <td>13.0</td>\n",
       "      <td>22.0</td>\n",
       "      <td>11.0</td>\n",
       "      <td>10.0</td>\n",
       "      <td>4.0</td>\n",
       "      <td>...</td>\n",
       "      <td>17.0</td>\n",
       "      <td>42.0</td>\n",
       "      <td>28.0</td>\n",
       "      <td>15.0</td>\n",
       "      <td>9.0</td>\n",
       "      <td>30.0</td>\n",
       "      <td>52.0</td>\n",
       "      <td>45.0</td>\n",
       "      <td>26.0</td>\n",
       "      <td>20.0</td>\n",
       "    </tr>\n",
       "    <tr>\n",
       "      <th>2</th>\n",
       "      <td>1.0</td>\n",
       "      <td>0.0</td>\n",
       "      <td>1.0</td>\n",
       "      <td>1.0</td>\n",
       "      <td>0.0</td>\n",
       "      <td>4.0</td>\n",
       "      <td>0.0</td>\n",
       "      <td>3.0</td>\n",
       "      <td>4.0</td>\n",
       "      <td>4.0</td>\n",
       "      <td>...</td>\n",
       "      <td>3.0</td>\n",
       "      <td>1.0</td>\n",
       "      <td>1.0</td>\n",
       "      <td>7.0</td>\n",
       "      <td>4.0</td>\n",
       "      <td>4.0</td>\n",
       "      <td>6.0</td>\n",
       "      <td>3.0</td>\n",
       "      <td>4.0</td>\n",
       "      <td>17.0</td>\n",
       "    </tr>\n",
       "    <tr>\n",
       "      <th>3</th>\n",
       "      <td>35.0</td>\n",
       "      <td>13.0</td>\n",
       "      <td>10.0</td>\n",
       "      <td>94.0</td>\n",
       "      <td>4.0</td>\n",
       "      <td>26.0</td>\n",
       "      <td>14.0</td>\n",
       "      <td>9.0</td>\n",
       "      <td>11.0</td>\n",
       "      <td>16.0</td>\n",
       "      <td>...</td>\n",
       "      <td>32.0</td>\n",
       "      <td>10.0</td>\n",
       "      <td>26.0</td>\n",
       "      <td>27.0</td>\n",
       "      <td>16.0</td>\n",
       "      <td>11.0</td>\n",
       "      <td>17.0</td>\n",
       "      <td>19.0</td>\n",
       "      <td>10.0</td>\n",
       "      <td>11.0</td>\n",
       "    </tr>\n",
       "    <tr>\n",
       "      <th>4</th>\n",
       "      <td>NaN</td>\n",
       "      <td>NaN</td>\n",
       "      <td>NaN</td>\n",
       "      <td>NaN</td>\n",
       "      <td>NaN</td>\n",
       "      <td>NaN</td>\n",
       "      <td>NaN</td>\n",
       "      <td>NaN</td>\n",
       "      <td>NaN</td>\n",
       "      <td>NaN</td>\n",
       "      <td>...</td>\n",
       "      <td>48.0</td>\n",
       "      <td>9.0</td>\n",
       "      <td>25.0</td>\n",
       "      <td>13.0</td>\n",
       "      <td>3.0</td>\n",
       "      <td>11.0</td>\n",
       "      <td>27.0</td>\n",
       "      <td>13.0</td>\n",
       "      <td>36.0</td>\n",
       "      <td>10.0</td>\n",
       "    </tr>\n",
       "  </tbody>\n",
       "</table>\n",
       "<p>5 rows × 550 columns</p>\n",
       "</div>"
      ],
      "text/plain": [
       "   2015-07-01  2015-07-02  2015-07-03  2015-07-04  2015-07-05  2015-07-06  \\\n",
       "0        18.0        11.0         5.0        13.0        14.0         9.0   \n",
       "1        11.0        14.0        15.0        18.0        11.0        13.0   \n",
       "2         1.0         0.0         1.0         1.0         0.0         4.0   \n",
       "3        35.0        13.0        10.0        94.0         4.0        26.0   \n",
       "4         NaN         NaN         NaN         NaN         NaN         NaN   \n",
       "\n",
       "   2015-07-07  2015-07-08  2015-07-09  2015-07-10     ...      2016-12-22  \\\n",
       "0         9.0        22.0        26.0        24.0     ...            32.0   \n",
       "1        22.0        11.0        10.0         4.0     ...            17.0   \n",
       "2         0.0         3.0         4.0         4.0     ...             3.0   \n",
       "3        14.0         9.0        11.0        16.0     ...            32.0   \n",
       "4         NaN         NaN         NaN         NaN     ...            48.0   \n",
       "\n",
       "   2016-12-23  2016-12-24  2016-12-25  2016-12-26  2016-12-27  2016-12-28  \\\n",
       "0        63.0        15.0        26.0        14.0        20.0        22.0   \n",
       "1        42.0        28.0        15.0         9.0        30.0        52.0   \n",
       "2         1.0         1.0         7.0         4.0         4.0         6.0   \n",
       "3        10.0        26.0        27.0        16.0        11.0        17.0   \n",
       "4         9.0        25.0        13.0         3.0        11.0        27.0   \n",
       "\n",
       "   2016-12-29  2016-12-30  2016-12-31  \n",
       "0        19.0        18.0        20.0  \n",
       "1        45.0        26.0        20.0  \n",
       "2         3.0         4.0        17.0  \n",
       "3        19.0        10.0        11.0  \n",
       "4        13.0        36.0        10.0  \n",
       "\n",
       "[5 rows x 550 columns]"
      ]
     },
     "execution_count": 17,
     "metadata": {},
     "output_type": "execute_result"
    }
   ],
   "source": [
    "training_set[0:5]"
   ]
  },
  {
   "cell_type": "markdown",
   "metadata": {},
   "source": [
    "fill NaNs with 0"
   ]
  },
  {
   "cell_type": "code",
   "execution_count": 18,
   "metadata": {
    "collapsed": true
   },
   "outputs": [],
   "source": [
    "training_set_no_na = training_set.fillna(0)"
   ]
  },
  {
   "cell_type": "code",
   "execution_count": 19,
   "metadata": {
    "collapsed": true
   },
   "outputs": [],
   "source": [
    "stationary_fields = pd.get_dummies(stationary_fields)"
   ]
  },
  {
   "cell_type": "code",
   "execution_count": 20,
   "metadata": {},
   "outputs": [
    {
     "data": {
      "text/plain": [
       "(145063, 14)"
      ]
     },
     "execution_count": 20,
     "metadata": {},
     "output_type": "execute_result"
    }
   ],
   "source": [
    "stationary_fields.shape"
   ]
  },
  {
   "cell_type": "code",
   "execution_count": 93,
   "metadata": {},
   "outputs": [
    {
     "data": {
      "text/plain": [
       "(145063, 550)"
      ]
     },
     "execution_count": 93,
     "metadata": {},
     "output_type": "execute_result"
    }
   ],
   "source": [
    "training_set_no_na.shape"
   ]
  },
  {
   "cell_type": "markdown",
   "metadata": {},
   "source": [
    "for each training set, input is the stationary fields + #lag fields"
   ]
  },
  {
   "cell_type": "code",
   "execution_count": 22,
   "metadata": {
    "collapsed": true
   },
   "outputs": [],
   "source": [
    "lag = 1"
   ]
  },
  {
   "cell_type": "code",
   "execution_count": 23,
   "metadata": {
    "collapsed": true
   },
   "outputs": [],
   "source": [
    "num_stat_fields = 0"
   ]
  },
  {
   "cell_type": "code",
   "execution_count": 89,
   "metadata": {
    "collapsed": true
   },
   "outputs": [],
   "source": [
    "def produceLagggedInput(data, lag = 1, progress_interval = 10):\n",
    "    num_examples = data.shape[0]\n",
    "    x_d1 = num_examples * (data.shape[1] - lag)\n",
    "    x_d2 = lag\n",
    "    data_x = np.empty((x_d1,x_d2))\n",
    "    data_y = np.empty((x_d1, 1))\n",
    "    #for reach training example\n",
    "    progress = 0.0\n",
    "    for i in range(0, num_examples):\n",
    "        #for each date, starting from lag+1\n",
    "        row = data.iloc[i]\n",
    "        for j in range(lag, row.shape[0]):\n",
    "            #append the stat_fields with each ow\n",
    "            x = row[j - lag:j]\n",
    "            y = row[j]\n",
    "            #initialize the arrays\n",
    "            index = i*(data.shape[1] - lag) +(j - lag)\n",
    "            if (index/float(x_d1))*100 - progress > progress_interval:\n",
    "                progress = (index/float(x_d1))*100\n",
    "                print progress\n",
    "            data_x[index]  = x\n",
    "            data_y[index] = y\n",
    "    return data_x, data_y"
   ]
  },
  {
   "cell_type": "code",
   "execution_count": 91,
   "metadata": {
    "collapsed": true
   },
   "outputs": [],
   "source": [
    "from sklearn.utils import shuffle\n",
    "data = shuffle(training_set_no_na)"
   ]
  },
  {
   "cell_type": "code",
   "execution_count": 94,
   "metadata": {},
   "outputs": [
    {
     "data": {
      "text/plain": [
       "(145063, 550)"
      ]
     },
     "execution_count": 94,
     "metadata": {},
     "output_type": "execute_result"
    }
   ],
   "source": [
    "data.shape"
   ]
  },
  {
   "cell_type": "code",
   "execution_count": 105,
   "metadata": {
    "collapsed": true
   },
   "outputs": [],
   "source": [
    "num_examples = 150"
   ]
  },
  {
   "cell_type": "code",
   "execution_count": 106,
   "metadata": {
    "collapsed": true
   },
   "outputs": [],
   "source": [
    "subset = data.iloc[0:num_examples]"
   ]
  },
  {
   "cell_type": "code",
   "execution_count": 107,
   "metadata": {
    "collapsed": true
   },
   "outputs": [],
   "source": [
    "#helper function to split dataset in to train, valid and test\n",
    "def splitDataset(data, valid_perc, test_perc):\n",
    "    p1, p2, p3 = (data.shape[0], int(data.shape[0]*(valid_perc/100.0)), int(data.shape[0]*(test_perc/100.0)))\n",
    "    print(p1, p2, p3)\n",
    "    train = data[0:p1 - (p2+p3)]\n",
    "    print(\"train\", 0, (p1 - (p2+p3)))\n",
    "    valid = data[p1 - (p2 + p3): p1 - p3]\n",
    "    print(\"valid\", (p1 - (p2+p3)), p1 - p3)\n",
    "    test = data [p1 - p3:]\n",
    "    print(\"test\", (p1 - p3),data.shape[0])\n",
    "    return (train, valid, test)"
   ]
  },
  {
   "cell_type": "code",
   "execution_count": 108,
   "metadata": {},
   "outputs": [
    {
     "name": "stdout",
     "output_type": "stream",
     "text": [
      "(150, 22, 22)\n",
      "('train', 0, 106)\n",
      "('valid', 106, 128)\n",
      "('test', 128, 150)\n"
     ]
    }
   ],
   "source": [
    "train, valid, test = splitDataset(subset, 15, 15)"
   ]
  },
  {
   "cell_type": "code",
   "execution_count": 109,
   "metadata": {},
   "outputs": [
    {
     "name": "stdout",
     "output_type": "stream",
     "text": [
      "10.0010310341\n",
      "20.0020620683\n",
      "30.0030931024\n",
      "40.0041241365\n",
      "50.0051551706\n",
      "60.0061862048\n",
      "70.0072172389\n",
      "80.008248273\n",
      "90.0092793071\n",
      "10.0016559033\n",
      "20.0033118066\n",
      "30.0049677099\n",
      "40.0066236132\n",
      "50.0082795165\n",
      "60.0099354198\n",
      "70.0115913231\n",
      "80.0132472264\n",
      "90.0149031297\n",
      "10.0016559033\n",
      "20.0033118066\n",
      "30.0049677099\n",
      "40.0066236132\n",
      "50.0082795165\n",
      "60.0099354198\n",
      "70.0115913231\n",
      "80.0132472264\n",
      "90.0149031297\n"
     ]
    }
   ],
   "source": [
    "train_x, train_y = produceLagggedInput(train)\n",
    "valid_x, valid_y = produceLagggedInput(valid)\n",
    "test_x, test_y = produceLagggedInput(test)"
   ]
  },
  {
   "cell_type": "code",
   "execution_count": 113,
   "metadata": {},
   "outputs": [
    {
     "data": {
      "text/plain": [
       "(58194, 1)"
      ]
     },
     "execution_count": 113,
     "metadata": {},
     "output_type": "execute_result"
    }
   ],
   "source": [
    "train_x.shape"
   ]
  },
  {
   "cell_type": "markdown",
   "metadata": {},
   "source": [
    "# Build the MODEL"
   ]
  },
  {
   "cell_type": "code",
   "execution_count": 130,
   "metadata": {
    "collapsed": true
   },
   "outputs": [],
   "source": [
    "from keras.models import Sequential\n",
    "from keras.layers import Dense\n",
    "from keras.layers import LSTM\n",
    "from keras.layers import Dropout\n",
    "from keras.optimizers import Adam"
   ]
  },
  {
   "cell_type": "code",
   "execution_count": 111,
   "metadata": {
    "collapsed": true
   },
   "outputs": [],
   "source": [
    "def reshapeHelper(data, timesteps = 1):\n",
    "    print(data.shape[0], timesteps, data.shape[1])\n",
    "    return data.reshape(data.shape[0], timesteps, data.shape[1])"
   ]
  },
  {
   "cell_type": "code",
   "execution_count": 120,
   "metadata": {
    "collapsed": true
   },
   "outputs": [],
   "source": [
    "batch_size = 32"
   ]
  },
  {
   "cell_type": "code",
   "execution_count": 157,
   "metadata": {
    "collapsed": true
   },
   "outputs": [],
   "source": [
    "def buildLSTMModel(X, Y, units = 50, lr = 0.001, activation = 'relu'):\n",
    "    adam = Adam(lr = lr)\n",
    "    model = Sequential()\n",
    "    print(X.shape)\n",
    "    model.add(LSTM(units, input_shape=(1, X.shape[1]), return_sequences=True))\n",
    "    model.add(Dropout(0.2))\n",
    "    model.add(LSTM(units, return_sequences=True))\n",
    "    model.add(Dropout(0.2))\n",
    "    model.add(LSTM(units))\n",
    "    model.add(Dropout(0.2))\n",
    "    model.add(Dense(units = 1, activation=activation))\n",
    "    model.compile(optimizer=adam, loss='mean_squared_error')\n",
    "    return model"
   ]
  },
  {
   "cell_type": "code",
   "execution_count": 123,
   "metadata": {},
   "outputs": [
    {
     "name": "stdout",
     "output_type": "stream",
     "text": [
      "(58194, 1)\n"
     ]
    }
   ],
   "source": [
    "model = buildLSTMModel(train_x, train_y)"
   ]
  },
  {
   "cell_type": "code",
   "execution_count": 128,
   "metadata": {},
   "outputs": [
    {
     "name": "stdout",
     "output_type": "stream",
     "text": [
      "(58194, 1, 1)\n",
      "(12078, 1, 1)\n",
      "Train on 58194 samples, validate on 12078 samples\n",
      "Epoch 1/10\n",
      "58194/58194 [==============================] - 35s - loss: 42951808.8641 - val_loss: 17050426.5315\n",
      "Epoch 2/10\n",
      "58194/58194 [==============================] - 34s - loss: 42877156.2260 - val_loss: 16979897.0740\n",
      "Epoch 3/10\n",
      "58194/58194 [==============================] - 36s - loss: 42802329.2140 - val_loss: 16910996.6391\n",
      "Epoch 4/10\n",
      "58194/58194 [==============================] - 37s - loss: 42727332.2261 - val_loss: 16842749.5546\n",
      "Epoch 5/10\n",
      "58194/58194 [==============================] - 37s - loss: 42655054.3127 - val_loss: 16782943.2078\n",
      "Epoch 6/10\n",
      "58194/58194 [==============================] - 40s - loss: 42601136.5735 - val_loss: 16722497.6788\n",
      "Epoch 7/10\n",
      "58194/58194 [==============================] - 42s - loss: 42534346.8791 - val_loss: 16659749.424886\n",
      "Epoch 8/10\n",
      "58194/58194 [==============================] - 41s - loss: 42469345.6694 - val_loss: 16597354.6824\n",
      "Epoch 9/10\n",
      "58194/58194 [==============================] - 39s - loss: 42403315.1710 - val_loss: 16537437.8535\n",
      "Epoch 10/10\n",
      "58194/58194 [==============================] - 40s - loss: 42339036.2679 - val_loss: 16481283.0653\n"
     ]
    }
   ],
   "source": [
    "history = model.fit(reshapeHelper(train_x), train_y, epochs = 10, validation_data=(reshapeHelper(valid_x), valid_y), batch_size=batch_size)"
   ]
  },
  {
   "cell_type": "code",
   "execution_count": 125,
   "metadata": {},
   "outputs": [
    {
     "name": "stderr",
     "output_type": "stream",
     "text": [
      "/Users/vviswanath/anaconda/lib/python2.7/site-packages/bokeh/util/deprecation.py:34: BokehDeprecationWarning: \n",
      "The bokeh.charts API has moved to a separate 'bkcharts' package.\n",
      "\n",
      "This compatibility shim will remain until Bokeh 1.0 is released.\n",
      "After that, if you want to use this API you will have to install\n",
      "the bkcharts package explicitly.\n",
      "\n",
      "  warn(message)\n"
     ]
    },
    {
     "data": {
      "text/html": [
       "\n",
       "    <div class=\"bk-root\">\n",
       "        <a href=\"http://bokeh.pydata.org\" target=\"_blank\" class=\"bk-logo bk-logo-small bk-logo-notebook\"></a>\n",
       "        <span id=\"d63b63c6-b434-42fa-8bba-43509b92f928\">Loading BokehJS ...</span>\n",
       "    </div>"
      ]
     },
     "metadata": {},
     "output_type": "display_data"
    },
    {
     "data": {
      "application/javascript": [
       "\n",
       "(function(global) {\n",
       "  function now() {\n",
       "    return new Date();\n",
       "  }\n",
       "\n",
       "  var force = true;\n",
       "\n",
       "  if (typeof (window._bokeh_onload_callbacks) === \"undefined\" || force === true) {\n",
       "    window._bokeh_onload_callbacks = [];\n",
       "    window._bokeh_is_loading = undefined;\n",
       "  }\n",
       "\n",
       "\n",
       "  \n",
       "  if (typeof (window._bokeh_timeout) === \"undefined\" || force === true) {\n",
       "    window._bokeh_timeout = Date.now() + 5000;\n",
       "    window._bokeh_failed_load = false;\n",
       "  }\n",
       "\n",
       "  var NB_LOAD_WARNING = {'data': {'text/html':\n",
       "     \"<div style='background-color: #fdd'>\\n\"+\n",
       "     \"<p>\\n\"+\n",
       "     \"BokehJS does not appear to have successfully loaded. If loading BokehJS from CDN, this \\n\"+\n",
       "     \"may be due to a slow or bad network connection. Possible fixes:\\n\"+\n",
       "     \"</p>\\n\"+\n",
       "     \"<ul>\\n\"+\n",
       "     \"<li>re-rerun `output_notebook()` to attempt to load from CDN again, or</li>\\n\"+\n",
       "     \"<li>use INLINE resources instead, as so:</li>\\n\"+\n",
       "     \"</ul>\\n\"+\n",
       "     \"<code>\\n\"+\n",
       "     \"from bokeh.resources import INLINE\\n\"+\n",
       "     \"output_notebook(resources=INLINE)\\n\"+\n",
       "     \"</code>\\n\"+\n",
       "     \"</div>\"}};\n",
       "\n",
       "  function display_loaded() {\n",
       "    if (window.Bokeh !== undefined) {\n",
       "      var el = document.getElementById(\"d63b63c6-b434-42fa-8bba-43509b92f928\");\n",
       "      el.textContent = \"BokehJS \" + Bokeh.version + \" successfully loaded.\";\n",
       "    } else if (Date.now() < window._bokeh_timeout) {\n",
       "      setTimeout(display_loaded, 100)\n",
       "    }\n",
       "  }\n",
       "\n",
       "  function run_callbacks() {\n",
       "    try {\n",
       "      window._bokeh_onload_callbacks.forEach(function(callback) { callback() });\n",
       "    }\n",
       "    finally {\n",
       "      delete window._bokeh_onload_callbacks\n",
       "    }\n",
       "    console.info(\"Bokeh: all callbacks have finished\");\n",
       "  }\n",
       "\n",
       "  function load_libs(js_urls, callback) {\n",
       "    window._bokeh_onload_callbacks.push(callback);\n",
       "    if (window._bokeh_is_loading > 0) {\n",
       "      console.log(\"Bokeh: BokehJS is being loaded, scheduling callback at\", now());\n",
       "      return null;\n",
       "    }\n",
       "    if (js_urls == null || js_urls.length === 0) {\n",
       "      run_callbacks();\n",
       "      return null;\n",
       "    }\n",
       "    console.log(\"Bokeh: BokehJS not loaded, scheduling load and callback at\", now());\n",
       "    window._bokeh_is_loading = js_urls.length;\n",
       "    for (var i = 0; i < js_urls.length; i++) {\n",
       "      var url = js_urls[i];\n",
       "      var s = document.createElement('script');\n",
       "      s.src = url;\n",
       "      s.async = false;\n",
       "      s.onreadystatechange = s.onload = function() {\n",
       "        window._bokeh_is_loading--;\n",
       "        if (window._bokeh_is_loading === 0) {\n",
       "          console.log(\"Bokeh: all BokehJS libraries loaded\");\n",
       "          run_callbacks()\n",
       "        }\n",
       "      };\n",
       "      s.onerror = function() {\n",
       "        console.warn(\"failed to load library \" + url);\n",
       "      };\n",
       "      console.log(\"Bokeh: injecting script tag for BokehJS library: \", url);\n",
       "      document.getElementsByTagName(\"head\")[0].appendChild(s);\n",
       "    }\n",
       "  };var element = document.getElementById(\"d63b63c6-b434-42fa-8bba-43509b92f928\");\n",
       "  if (element == null) {\n",
       "    console.log(\"Bokeh: ERROR: autoload.js configured with elementid 'd63b63c6-b434-42fa-8bba-43509b92f928' but no matching script tag was found. \")\n",
       "    return false;\n",
       "  }\n",
       "\n",
       "  var js_urls = [\"https://cdn.pydata.org/bokeh/release/bokeh-0.12.6.min.js\", \"https://cdn.pydata.org/bokeh/release/bokeh-widgets-0.12.6.min.js\"];\n",
       "\n",
       "  var inline_js = [\n",
       "    function(Bokeh) {\n",
       "      Bokeh.set_log_level(\"info\");\n",
       "    },\n",
       "    \n",
       "    function(Bokeh) {\n",
       "      \n",
       "    },\n",
       "    \n",
       "    function(Bokeh) {\n",
       "      \n",
       "      document.getElementById(\"d63b63c6-b434-42fa-8bba-43509b92f928\").textContent = \"BokehJS is loading...\";\n",
       "    },\n",
       "    function(Bokeh) {\n",
       "      console.log(\"Bokeh: injecting CSS: https://cdn.pydata.org/bokeh/release/bokeh-0.12.6.min.css\");\n",
       "      Bokeh.embed.inject_css(\"https://cdn.pydata.org/bokeh/release/bokeh-0.12.6.min.css\");\n",
       "      console.log(\"Bokeh: injecting CSS: https://cdn.pydata.org/bokeh/release/bokeh-widgets-0.12.6.min.css\");\n",
       "      Bokeh.embed.inject_css(\"https://cdn.pydata.org/bokeh/release/bokeh-widgets-0.12.6.min.css\");\n",
       "    }\n",
       "  ];\n",
       "\n",
       "  function run_inline_js() {\n",
       "    \n",
       "    if ((window.Bokeh !== undefined) || (force === true)) {\n",
       "      for (var i = 0; i < inline_js.length; i++) {\n",
       "        inline_js[i](window.Bokeh);\n",
       "      }if (force === true) {\n",
       "        display_loaded();\n",
       "      }} else if (Date.now() < window._bokeh_timeout) {\n",
       "      setTimeout(run_inline_js, 100);\n",
       "    } else if (!window._bokeh_failed_load) {\n",
       "      console.log(\"Bokeh: BokehJS failed to load within specified timeout.\");\n",
       "      window._bokeh_failed_load = true;\n",
       "    } else if (force !== true) {\n",
       "      var cell = $(document.getElementById(\"d63b63c6-b434-42fa-8bba-43509b92f928\")).parents('.cell').data().cell;\n",
       "      cell.output_area.append_execute_result(NB_LOAD_WARNING)\n",
       "    }\n",
       "\n",
       "  }\n",
       "\n",
       "  if (window._bokeh_is_loading === 0) {\n",
       "    console.log(\"Bokeh: BokehJS loaded, going straight to plotting\");\n",
       "    run_inline_js();\n",
       "  } else {\n",
       "    load_libs(js_urls, function() {\n",
       "      console.log(\"Bokeh: BokehJS plotting callback run at\", now());\n",
       "      run_inline_js();\n",
       "    });\n",
       "  }\n",
       "}(this));"
      ]
     },
     "metadata": {},
     "output_type": "display_data"
    }
   ],
   "source": [
    "%matplotlib inline\n",
    "from matplotlib import pylab as plt\n",
    "from bokeh.charts import TimeSeries, output_file, show\n",
    "from bokeh.io import output_notebook\n",
    "output_notebook()"
   ]
  },
  {
   "cell_type": "code",
   "execution_count": 129,
   "metadata": {},
   "outputs": [
    {
     "data": {
      "text/plain": [
       "<matplotlib.legend.Legend at 0x1661fafd0>"
      ]
     },
     "execution_count": 129,
     "metadata": {},
     "output_type": "execute_result"
    },
    {
     "data": {
      "image/png": "[encoded data removed]",
      "text/plain": [
       "<matplotlib.figure.Figure at 0x164b0bad0>"
      ]
     },
     "metadata": {},
     "output_type": "display_data"
    }
   ],
   "source": [
    "plt.plot(history.history['loss'], label ='train')\n",
    "plt.plot(history.history['val_loss'], label='valid')\n",
    "plt.legend()"
   ]
  },
  {
   "cell_type": "markdown",
   "metadata": {},
   "source": [
    "- may be dying Relu problem: https://datascience.stackexchange.com/questions/5706/what-is-the-dying-relu-problem-in-neural-networks\n",
    "- or due to lower learning rate\n",
    "- lack of normalization/standardization\n",
    "- or increase the number of units in LSTM"
   ]
  },
  {
   "cell_type": "code",
   "execution_count": 132,
   "metadata": {},
   "outputs": [
    {
     "name": "stdout",
     "output_type": "stream",
     "text": [
      "(58194, 1)\n",
      "(58194, 1, 1)\n",
      "(12078, 1, 1)\n",
      "Train on 58194 samples, validate on 12078 samples\n",
      "Epoch 1/10\n",
      "58194/58194 [==============================] - 43s - loss: 42765686.1951 - val_loss: 16958575.4489\n",
      "Epoch 2/10\n",
      "58194/58194 [==============================] - 42s - loss: 42237886.2550 - val_loss: 16240808.4408\n",
      "Epoch 3/10\n",
      "58194/58194 [==============================] - 42s - loss: 41929488.6645 - val_loss: 15883839.3026\n",
      "Epoch 4/10\n",
      "58194/58194 [==============================] - 39s - loss: 41946712.8598 - val_loss: 16501206.4084\n",
      "Epoch 5/10\n",
      "58194/58194 [==============================] - 39s - loss: 42265942.4703 - val_loss: 16519813.0414\n",
      "Epoch 6/10\n",
      "58194/58194 [==============================] - 38s - loss: 42254125.2793 - val_loss: 16512602.3128\n",
      "Epoch 7/10\n",
      "58194/58194 [==============================] - 39s - loss: 42246440.3171 - val_loss: 16511212.7898\n",
      "Epoch 8/10\n",
      "58194/58194 [==============================] - 38s - loss: 42266736.8867 - val_loss: 16524424.0129\n",
      "Epoch 9/10\n",
      "58194/58194 [==============================] - 39s - loss: 42259674.7385 - val_loss: 16515130.1643\n",
      "Epoch 10/10\n",
      "58194/58194 [==============================] - 39s - loss: 42268427.6225 - val_loss: 16510868.8263\n"
     ]
    }
   ],
   "source": [
    "#increase learning rate\n",
    "model = buildLSTMModel(train_x, train_y, lr=0.01)\n",
    "history = model.fit(reshapeHelper(train_x), train_y, epochs = 10, validation_data=(reshapeHelper(valid_x), valid_y), batch_size=batch_size)"
   ]
  },
  {
   "cell_type": "code",
   "execution_count": 133,
   "metadata": {
    "collapsed": true
   },
   "outputs": [],
   "source": [
    "def visualizeLoss(history):\n",
    "    plt.plot(history.history['loss'], label ='train')\n",
    "    plt.plot(history.history['val_loss'], label='valid')\n",
    "    plt.legend()"
   ]
  },
  {
   "cell_type": "code",
   "execution_count": 134,
   "metadata": {},
   "outputs": [
    {
     "data": {
      "image/png": "[encoded data removed]",
      "text/plain": [
       "<matplotlib.figure.Figure at 0x208d15190>"
      ]
     },
     "metadata": {},
     "output_type": "display_data"
    }
   ],
   "source": [
    "visualizeLoss(history)"
   ]
  },
  {
   "cell_type": "code",
   "execution_count": 151,
   "metadata": {
    "collapsed": true
   },
   "outputs": [],
   "source": [
    "#normalize input\n",
    "from sklearn.utils import shuffle\n",
    "def preprocessData(data, normalize = True, subset_size = -1, lag = 1, nan_handler = 'drop', shuffle_data = True, val_perc = 10, test_perc=10):\n",
    "    #Nan handling\n",
    "    if nan_handler == 'drop':\n",
    "        data = data.dropna()\n",
    "    elif nan_handler == 'zero':\n",
    "        data = data.fillna(0)\n",
    "    \n",
    "    #shuffle\n",
    "    if shuffle_data:\n",
    "        data = shuffle(data)\n",
    "    \n",
    "    #take subset\n",
    "    if subset_size != -1:\n",
    "        data = data[0:subset_size]\n",
    "    \n",
    "    #normalize\n",
    "    if normalize:\n",
    "        data_norm = (data - data.mean()) / (data.max() - data.min())\n",
    "    \n",
    "    train, valid, test = splitDataset(data_norm, val_perc, test_perc)\n",
    "    train_x, train_y = produceLagggedInput(train,lag=lag)\n",
    "    valid_x, valid_y = produceLagggedInput(valid,lag=lag)\n",
    "    test_x, test_y = produceLagggedInput(test,lag=lag)\n",
    "    \n",
    "    return train_x, train_y, valid_x, valid_y, test_x, test_y"
   ]
  },
  {
   "cell_type": "code",
   "execution_count": 152,
   "metadata": {},
   "outputs": [
    {
     "name": "stdout",
     "output_type": "stream",
     "text": [
      "(100, 10, 10)\n",
      "('train', 0, 80)\n",
      "('valid', 80, 90)\n",
      "('test', 90, 100)\n",
      "10.002276867\n",
      "20.0045537341\n",
      "30.0068306011\n",
      "40.0091074681\n",
      "50.0113843352\n",
      "60.0136612022\n",
      "70.0136612022\n",
      "80.0159380692\n",
      "90.0182149362\n",
      "10.0182149362\n",
      "20.0364298725\n",
      "30.0546448087\n",
      "40.072859745\n",
      "50.0910746812\n",
      "60.0910746812\n",
      "70.1092896175\n",
      "80.1275045537\n",
      "90.14571949\n",
      "10.0182149362\n",
      "20.0364298725\n",
      "30.0546448087\n",
      "40.072859745\n",
      "50.0910746812\n",
      "60.0910746812\n",
      "70.1092896175\n",
      "80.1275045537\n",
      "90.14571949\n"
     ]
    }
   ],
   "source": [
    "train_x, train_y, valid_x, valid_y, test_x, test_y = preprocessData(training_set, subset_size=100)"
   ]
  },
  {
   "cell_type": "code",
   "execution_count": 153,
   "metadata": {},
   "outputs": [
    {
     "data": {
      "text/plain": [
       "array([[-0.02838557],\n",
       "       [-0.03725727],\n",
       "       [-0.03511681],\n",
       "       [-0.02524129],\n",
       "       [-0.02439909],\n",
       "       [-0.03034854],\n",
       "       [-0.03505029],\n",
       "       [-0.04034413],\n",
       "       [-0.0433332 ],\n",
       "       [-0.04159372]])"
      ]
     },
     "execution_count": 153,
     "metadata": {},
     "output_type": "execute_result"
    }
   ],
   "source": [
    "train_x[0:10]"
   ]
  },
  {
   "cell_type": "code",
   "execution_count": 179,
   "metadata": {
    "collapsed": true
   },
   "outputs": [],
   "source": [
    "def buildAndFitLSTM(train_x, train_y, valid_x, valid_y, activation = 'relu', lr = 0.01, epochs = 10, batch_size = 32):\n",
    "    model = buildLSTMModel(train_x, train_y, lr=lr, activation=activation)\n",
    "    history = model.fit(reshapeHelper(train_x), train_y, epochs = epochs,  validation_data=(reshapeHelper(valid_x), valid_y), batch_size=batch_size)\n",
    "    return history, model"
   ]
  },
  {
   "cell_type": "code",
   "execution_count": null,
   "metadata": {
    "collapsed": true
   },
   "outputs": [],
   "source": [
    "history, model = buildAndFitLSTM(train_x, train_y, valid_x, valid_y)"
   ]
  },
  {
   "cell_type": "code",
   "execution_count": 156,
   "metadata": {},
   "outputs": [
    {
     "data": {
      "image/png": "[encoded data removed]",
      "text/plain": [
       "<matplotlib.figure.Figure at 0x20d6614d0>"
      ]
     },
     "metadata": {},
     "output_type": "display_data"
    }
   ],
   "source": [
    "visualizeLoss(history)"
   ]
  },
  {
   "cell_type": "code",
   "execution_count": 184,
   "metadata": {},
   "outputs": [
    {
     "name": "stdout",
     "output_type": "stream",
     "text": [
      "(43920, 1)\n",
      "(43920, 1, 1)\n",
      "(5490, 1, 1)\n",
      "Train on 43920 samples, validate on 5490 samples\n",
      "Epoch 1/10\n",
      "43920/43920 [==============================] - 34s - loss: 0.0035 - val_loss: 0.0012\n",
      "Epoch 2/10\n",
      "43920/43920 [==============================] - 28s - loss: 0.0033 - val_loss: 0.0012\n",
      "Epoch 3/10\n",
      "43920/43920 [==============================] - 28s - loss: 0.0031 - val_loss: 0.0014\n",
      "Epoch 4/10\n",
      "43920/43920 [==============================] - 27s - loss: 0.0031 - val_loss: 0.0013\n",
      "Epoch 5/10\n",
      "43920/43920 [==============================] - 27s - loss: 0.0031 - val_loss: 0.0016\n",
      "Epoch 6/10\n",
      "43920/43920 [==============================] - 27s - loss: 0.0031 - val_loss: 0.0013\n",
      "Epoch 7/10\n",
      "43920/43920 [==============================] - 27s - loss: 0.0031 - val_loss: 0.0012\n",
      "Epoch 8/10\n",
      "43920/43920 [==============================] - 28s - loss: 0.0030 - val_loss: 0.0013\n",
      "Epoch 9/10\n",
      "43920/43920 [==============================] - 27s - loss: 0.0030 - val_loss: 0.0013\n",
      "Epoch 10/10\n",
      "43920/43920 [==============================] - 27s - loss: 0.0030 - val_loss: 0.0013\n"
     ]
    }
   ],
   "source": [
    "#trying with tanh activation\n",
    "history, model = buildAndFitLSTM(train_x, train_y, valid_x, valid_y, activation='tanh', epochs=10)"
   ]
  },
  {
   "cell_type": "code",
   "execution_count": 185,
   "metadata": {},
   "outputs": [
    {
     "data": {
      "image/png": "[encoded data removed]",
      "text/plain": [
       "<matplotlib.figure.Figure at 0x22f03c490>"
      ]
     },
     "metadata": {},
     "output_type": "display_data"
    }
   ],
   "source": [
    "visualizeLoss(history)"
   ]
  },
  {
   "cell_type": "code",
   "execution_count": 161,
   "metadata": {},
   "outputs": [
    {
     "name": "stdout",
     "output_type": "stream",
     "text": [
      "(43920, 1)\n",
      "(43920, 1, 1)\n",
      "(5490, 1, 1)\n",
      "Train on 43920 samples, validate on 5490 samples\n",
      "Epoch 1/100\n",
      "43920/43920 [==============================] - 31s - loss: 0.0035 - val_loss: 0.0017\n",
      "Epoch 2/100\n",
      "43920/43920 [==============================] - 27s - loss: 0.0033 - val_loss: 0.0013\n",
      "Epoch 3/100\n",
      "43920/43920 [==============================] - 26s - loss: 0.0031 - val_loss: 0.0014\n",
      "Epoch 4/100\n",
      "43920/43920 [==============================] - 26s - loss: 0.0031 - val_loss: 0.0013\n",
      "Epoch 5/100\n",
      "43920/43920 [==============================] - 26s - loss: 0.0031 - val_loss: 0.0010\n",
      "Epoch 6/100\n",
      "43920/43920 [==============================] - 26s - loss: 0.0031 - val_loss: 0.0014\n",
      "Epoch 7/100\n",
      "43920/43920 [==============================] - 26s - loss: 0.0030 - val_loss: 0.0013\n",
      "Epoch 8/100\n",
      "43920/43920 [==============================] - 26s - loss: 0.0031 - val_loss: 0.0012\n",
      "Epoch 9/100\n",
      "43920/43920 [==============================] - 26s - loss: 0.0030 - val_loss: 0.0013\n",
      "Epoch 10/100\n",
      "43920/43920 [==============================] - 26s - loss: 0.0030 - val_loss: 0.0012\n",
      "Epoch 11/100\n",
      "43920/43920 [==============================] - 26s - loss: 0.0030 - val_loss: 0.0013\n",
      "Epoch 12/100\n",
      "43920/43920 [==============================] - 26s - loss: 0.0030 - val_loss: 0.0011\n",
      "Epoch 13/100\n",
      "43920/43920 [==============================] - 26s - loss: 0.0030 - val_loss: 0.0015\n",
      "Epoch 14/100\n",
      "43920/43920 [==============================] - 26s - loss: 0.0030 - val_loss: 0.0012\n",
      "Epoch 15/100\n",
      "43920/43920 [==============================] - 26s - loss: 0.0030 - val_loss: 0.0011\n",
      "Epoch 16/100\n",
      "43920/43920 [==============================] - 26s - loss: 0.0030 - val_loss: 0.0011\n",
      "Epoch 17/100\n",
      "43920/43920 [==============================] - 26s - loss: 0.0029 - val_loss: 0.0012\n",
      "Epoch 18/100\n",
      "43920/43920 [==============================] - 27s - loss: 0.0030 - val_loss: 0.0012\n",
      "Epoch 19/100\n",
      "43920/43920 [==============================] - 26s - loss: 0.0030 - val_loss: 0.0014\n",
      "Epoch 20/100\n",
      "43920/43920 [==============================] - 26s - loss: 0.0030 - val_loss: 0.0012\n",
      "Epoch 21/100\n",
      "43920/43920 [==============================] - 26s - loss: 0.0029 - val_loss: 0.0011\n",
      "Epoch 22/100\n",
      "43920/43920 [==============================] - 26s - loss: 0.0029 - val_loss: 0.0013\n",
      "Epoch 23/100\n",
      "43920/43920 [==============================] - 26s - loss: 0.0030 - val_loss: 0.0012\n",
      "Epoch 24/100\n",
      "43920/43920 [==============================] - 26s - loss: 0.0030 - val_loss: 0.0011\n",
      "Epoch 25/100\n",
      "43920/43920 [==============================] - 27s - loss: 0.0029 - val_loss: 0.0011\n",
      "Epoch 26/100\n",
      "43920/43920 [==============================] - 27s - loss: 0.0029 - val_loss: 0.0013\n",
      "Epoch 27/100\n",
      "43920/43920 [==============================] - 26s - loss: 0.0029 - val_loss: 0.0012\n",
      "Epoch 28/100\n",
      "43920/43920 [==============================] - 26s - loss: 0.0029 - val_loss: 0.0012\n",
      "Epoch 29/100\n",
      "43920/43920 [==============================] - 26s - loss: 0.0029 - val_loss: 9.9731e-04\n",
      "Epoch 30/100\n",
      "43920/43920 [==============================] - 27s - loss: 0.0029 - val_loss: 0.0012\n",
      "Epoch 31/100\n",
      "43920/43920 [==============================] - 26s - loss: 0.0029 - val_loss: 0.0012\n",
      "Epoch 32/100\n",
      "43920/43920 [==============================] - 28s - loss: 0.0029 - val_loss: 0.0013\n",
      "Epoch 33/100\n",
      "43920/43920 [==============================] - 33s - loss: 0.0029 - val_loss: 0.0012\n",
      "Epoch 34/100\n",
      "43920/43920 [==============================] - 38s - loss: 0.0029 - val_loss: 0.0012\n",
      "Epoch 35/100\n",
      "43920/43920 [==============================] - 40s - loss: 0.0029 - val_loss: 0.0012\n",
      "Epoch 36/100\n",
      "43920/43920 [==============================] - 31s - loss: 0.0029 - val_loss: 0.0012\n",
      "Epoch 37/100\n",
      "43920/43920 [==============================] - 42s - loss: 0.0030 - val_loss: 0.0013\n",
      "Epoch 38/100\n",
      "43920/43920 [==============================] - 42s - loss: 0.0029 - val_loss: 0.0010\n",
      "Epoch 39/100\n",
      "43920/43920 [==============================] - 34s - loss: 0.0029 - val_loss: 0.0011\n",
      "Epoch 40/100\n",
      "43920/43920 [==============================] - 32s - loss: 0.0029 - val_loss: 0.0014\n",
      "Epoch 41/100\n",
      "43920/43920 [==============================] - 33s - loss: 0.0030 - val_loss: 0.0012\n",
      "Epoch 42/100\n",
      "43920/43920 [==============================] - 33s - loss: 0.0029 - val_loss: 0.0014\n",
      "Epoch 43/100\n",
      "43920/43920 [==============================] - 30s - loss: 0.0029 - val_loss: 0.0011\n",
      "Epoch 44/100\n",
      "43920/43920 [==============================] - 34s - loss: 0.0029 - val_loss: 0.0014\n",
      "Epoch 45/100\n",
      "43920/43920 [==============================] - 32s - loss: 0.0029 - val_loss: 0.0011\n",
      "Epoch 46/100\n",
      "43920/43920 [==============================] - 33s - loss: 0.0029 - val_loss: 0.0012\n",
      "Epoch 47/100\n",
      "43920/43920 [==============================] - 27s - loss: 0.0029 - val_loss: 0.0012\n",
      "Epoch 48/100\n",
      "43920/43920 [==============================] - 27s - loss: 0.0029 - val_loss: 0.0014\n",
      "Epoch 49/100\n",
      "43920/43920 [==============================] - 27s - loss: 0.0029 - val_loss: 0.0012\n",
      "Epoch 50/100\n",
      "43920/43920 [==============================] - 27s - loss: 0.0029 - val_loss: 0.0011\n",
      "Epoch 51/100\n",
      "43920/43920 [==============================] - 27s - loss: 0.0029 - val_loss: 0.0013\n",
      "Epoch 52/100\n",
      "43920/43920 [==============================] - 36s - loss: 0.0029 - val_loss: 0.0012\n",
      "Epoch 53/100\n",
      "43920/43920 [==============================] - 31s - loss: 0.0029 - val_loss: 0.0015\n",
      "Epoch 54/100\n",
      "43920/43920 [==============================] - 28s - loss: 0.0029 - val_loss: 0.0013\n",
      "Epoch 55/100\n",
      "43920/43920 [==============================] - 29s - loss: 0.0029 - val_loss: 0.0016\n",
      "Epoch 56/100\n",
      "43920/43920 [==============================] - 27s - loss: 0.0029 - val_loss: 0.0016\n",
      "Epoch 57/100\n",
      "43920/43920 [==============================] - 28s - loss: 0.0029 - val_loss: 0.0011\n",
      "Epoch 58/100\n",
      "43920/43920 [==============================] - 28s - loss: 0.0029 - val_loss: 0.0014\n",
      "Epoch 59/100\n",
      "43920/43920 [==============================] - 30s - loss: 0.0029 - val_loss: 0.0012\n",
      "Epoch 60/100\n",
      "43920/43920 [==============================] - 31s - loss: 0.0029 - val_loss: 0.0011\n",
      "Epoch 61/100\n",
      "43920/43920 [==============================] - 28s - loss: 0.0029 - val_loss: 0.0011\n",
      "Epoch 62/100\n",
      "43920/43920 [==============================] - 28s - loss: 0.0029 - val_loss: 0.0011\n",
      "Epoch 63/100\n",
      "43920/43920 [==============================] - 28s - loss: 0.0029 - val_loss: 0.0013\n",
      "Epoch 64/100\n",
      "43920/43920 [==============================] - 26s - loss: 0.0029 - val_loss: 0.0011\n",
      "Epoch 65/100\n",
      "43920/43920 [==============================] - 27s - loss: 0.0029 - val_loss: 0.0014\n",
      "Epoch 66/100\n",
      "43920/43920 [==============================] - 26s - loss: 0.0029 - val_loss: 0.0012\n",
      "Epoch 67/100\n",
      "43920/43920 [==============================] - 26s - loss: 0.0029 - val_loss: 0.0014\n",
      "Epoch 68/100\n",
      "43920/43920 [==============================] - 26s - loss: 0.0029 - val_loss: 0.0012\n",
      "Epoch 69/100\n",
      "43920/43920 [==============================] - 26s - loss: 0.0029 - val_loss: 0.0013\n",
      "Epoch 70/100\n",
      "43920/43920 [==============================] - 26s - loss: 0.0029 - val_loss: 0.0013\n",
      "Epoch 71/100\n",
      "43920/43920 [==============================] - 26s - loss: 0.0029 - val_loss: 0.0014\n",
      "Epoch 72/100\n",
      "43920/43920 [==============================] - 27s - loss: 0.0029 - val_loss: 0.0015\n",
      "Epoch 73/100\n",
      "43920/43920 [==============================] - 27s - loss: 0.0029 - val_loss: 0.0012\n",
      "Epoch 74/100\n",
      "43920/43920 [==============================] - 26s - loss: 0.0029 - val_loss: 0.0021\n",
      "Epoch 75/100\n",
      "43920/43920 [==============================] - 26s - loss: 0.0029 - val_loss: 0.0014\n",
      "Epoch 76/100\n",
      "43920/43920 [==============================] - 27s - loss: 0.0029 - val_loss: 0.0013\n",
      "Epoch 77/100\n",
      "43920/43920 [==============================] - 25s - loss: 0.0029 - val_loss: 0.0013\n",
      "Epoch 78/100\n",
      "43920/43920 [==============================] - 26s - loss: 0.0029 - val_loss: 0.0012\n",
      "Epoch 79/100\n",
      "43920/43920 [==============================] - 26s - loss: 0.0029 - val_loss: 0.0015\n",
      "Epoch 80/100\n",
      "43920/43920 [==============================] - 26s - loss: 0.0029 - val_loss: 0.0013\n",
      "Epoch 81/100\n",
      "43920/43920 [==============================] - 26s - loss: 0.0029 - val_loss: 0.0012\n",
      "Epoch 82/100\n",
      "43920/43920 [==============================] - 26s - loss: 0.0029 - val_loss: 0.0012\n",
      "Epoch 83/100\n",
      "43920/43920 [==============================] - 26s - loss: 0.0029 - val_loss: 0.0012\n",
      "Epoch 84/100\n",
      "43920/43920 [==============================] - 26s - loss: 0.0029 - val_loss: 0.0012\n",
      "Epoch 85/100\n",
      "43920/43920 [==============================] - 26s - loss: 0.0029 - val_loss: 0.0015\n",
      "Epoch 86/100\n",
      "43920/43920 [==============================] - 27s - loss: 0.0029 - val_loss: 0.0017\n",
      "Epoch 87/100\n",
      "43920/43920 [==============================] - 40s - loss: 0.0029 - val_loss: 0.0017\n",
      "Epoch 88/100\n",
      "43920/43920 [==============================] - 37s - loss: 0.0029 - val_loss: 0.0016\n",
      "Epoch 89/100\n",
      "43920/43920 [==============================] - 35s - loss: 0.0029 - val_loss: 0.0014\n",
      "Epoch 90/100\n",
      "43920/43920 [==============================] - 31s - loss: 0.0029 - val_loss: 0.0012\n",
      "Epoch 91/100\n",
      "43920/43920 [==============================] - 36s - loss: 0.0029 - val_loss: 0.0015\n",
      "Epoch 92/100\n",
      "43920/43920 [==============================] - 38s - loss: 0.0029 - val_loss: 0.0013\n",
      "Epoch 93/100\n",
      "43920/43920 [==============================] - 37s - loss: 0.0029 - val_loss: 0.0015\n",
      "Epoch 94/100\n",
      "43920/43920 [==============================] - 40s - loss: 0.0029 - val_loss: 0.0012\n",
      "Epoch 95/100\n",
      "43920/43920 [==============================] - 33s - loss: 0.0029 - val_loss: 0.0011\n",
      "Epoch 96/100\n",
      "43920/43920 [==============================] - 31s - loss: 0.0029 - val_loss: 0.0013\n",
      "Epoch 97/100\n",
      "43920/43920 [==============================] - 27s - loss: 0.0029 - val_loss: 0.0015\n",
      "Epoch 98/100\n",
      "43920/43920 [==============================] - 27s - loss: 0.0029 - val_loss: 0.0015\n",
      "Epoch 99/100\n",
      "43920/43920 [==============================] - 26s - loss: 0.0029 - val_loss: 0.0016\n",
      "Epoch 100/100\n",
      "43920/43920 [==============================] - 29s - loss: 0.0029 - val_loss: 0.0012\n"
     ]
    }
   ],
   "source": [
    "#train for 100 epochs\n",
    "history,model = buildAndFitLSTM(train_x, train_y, valid_x, valid_y, activation='tanh', epochs=100)"
   ]
  },
  {
   "cell_type": "code",
   "execution_count": 162,
   "metadata": {},
   "outputs": [
    {
     "data": {
      "image/png": "[encoded data removed]",
      "text/plain": [
       "<matplotlib.figure.Figure at 0x21dfa1610>"
      ]
     },
     "metadata": {},
     "output_type": "display_data"
    }
   ],
   "source": [
    "visualizeLoss(history)"
   ]
  },
  {
   "cell_type": "code",
   "execution_count": 186,
   "metadata": {},
   "outputs": [
    {
     "name": "stdout",
     "output_type": "stream",
     "text": [
      "(5490, 1, 1)\n"
     ]
    }
   ],
   "source": [
    "predictions = model.predict(reshapeHelper(test_x))"
   ]
  },
  {
   "cell_type": "code",
   "execution_count": 187,
   "metadata": {},
   "outputs": [
    {
     "data": {
      "text/plain": [
       "(5490, 1)"
      ]
     },
     "execution_count": 187,
     "metadata": {},
     "output_type": "execute_result"
    }
   ],
   "source": [
    "test_y.shape"
   ]
  },
  {
   "cell_type": "code",
   "execution_count": 212,
   "metadata": {},
   "outputs": [
    {
     "data": {
      "text/html": [
       "\n",
       "    <div class=\"bk-root\">\n",
       "        <a href=\"http://bokeh.pydata.org\" target=\"_blank\" class=\"bk-logo bk-logo-small bk-logo-notebook\"></a>\n",
       "        <span id=\"43879fff-9d7d-47a5-84f2-0dfd51ad98ca\">Loading BokehJS ...</span>\n",
       "    </div>"
      ]
     },
     "metadata": {},
     "output_type": "display_data"
    },
    {
     "data": {
      "application/javascript": [
       "\n",
       "(function(global) {\n",
       "  function now() {\n",
       "    return new Date();\n",
       "  }\n",
       "\n",
       "  var force = true;\n",
       "\n",
       "  if (typeof (window._bokeh_onload_callbacks) === \"undefined\" || force === true) {\n",
       "    window._bokeh_onload_callbacks = [];\n",
       "    window._bokeh_is_loading = undefined;\n",
       "  }\n",
       "\n",
       "\n",
       "  \n",
       "  if (typeof (window._bokeh_timeout) === \"undefined\" || force === true) {\n",
       "    window._bokeh_timeout = Date.now() + 5000;\n",
       "    window._bokeh_failed_load = false;\n",
       "  }\n",
       "\n",
       "  var NB_LOAD_WARNING = {'data': {'text/html':\n",
       "     \"<div style='background-color: #fdd'>\\n\"+\n",
       "     \"<p>\\n\"+\n",
       "     \"BokehJS does not appear to have successfully loaded. If loading BokehJS from CDN, this \\n\"+\n",
       "     \"may be due to a slow or bad network connection. Possible fixes:\\n\"+\n",
       "     \"</p>\\n\"+\n",
       "     \"<ul>\\n\"+\n",
       "     \"<li>re-rerun `output_notebook()` to attempt to load from CDN again, or</li>\\n\"+\n",
       "     \"<li>use INLINE resources instead, as so:</li>\\n\"+\n",
       "     \"</ul>\\n\"+\n",
       "     \"<code>\\n\"+\n",
       "     \"from bokeh.resources import INLINE\\n\"+\n",
       "     \"output_notebook(resources=INLINE)\\n\"+\n",
       "     \"</code>\\n\"+\n",
       "     \"</div>\"}};\n",
       "\n",
       "  function display_loaded() {\n",
       "    if (window.Bokeh !== undefined) {\n",
       "      var el = document.getElementById(\"43879fff-9d7d-47a5-84f2-0dfd51ad98ca\");\n",
       "      el.textContent = \"BokehJS \" + Bokeh.version + \" successfully loaded.\";\n",
       "    } else if (Date.now() < window._bokeh_timeout) {\n",
       "      setTimeout(display_loaded, 100)\n",
       "    }\n",
       "  }\n",
       "\n",
       "  function run_callbacks() {\n",
       "    try {\n",
       "      window._bokeh_onload_callbacks.forEach(function(callback) { callback() });\n",
       "    }\n",
       "    finally {\n",
       "      delete window._bokeh_onload_callbacks\n",
       "    }\n",
       "    console.info(\"Bokeh: all callbacks have finished\");\n",
       "  }\n",
       "\n",
       "  function load_libs(js_urls, callback) {\n",
       "    window._bokeh_onload_callbacks.push(callback);\n",
       "    if (window._bokeh_is_loading > 0) {\n",
       "      console.log(\"Bokeh: BokehJS is being loaded, scheduling callback at\", now());\n",
       "      return null;\n",
       "    }\n",
       "    if (js_urls == null || js_urls.length === 0) {\n",
       "      run_callbacks();\n",
       "      return null;\n",
       "    }\n",
       "    console.log(\"Bokeh: BokehJS not loaded, scheduling load and callback at\", now());\n",
       "    window._bokeh_is_loading = js_urls.length;\n",
       "    for (var i = 0; i < js_urls.length; i++) {\n",
       "      var url = js_urls[i];\n",
       "      var s = document.createElement('script');\n",
       "      s.src = url;\n",
       "      s.async = false;\n",
       "      s.onreadystatechange = s.onload = function() {\n",
       "        window._bokeh_is_loading--;\n",
       "        if (window._bokeh_is_loading === 0) {\n",
       "          console.log(\"Bokeh: all BokehJS libraries loaded\");\n",
       "          run_callbacks()\n",
       "        }\n",
       "      };\n",
       "      s.onerror = function() {\n",
       "        console.warn(\"failed to load library \" + url);\n",
       "      };\n",
       "      console.log(\"Bokeh: injecting script tag for BokehJS library: \", url);\n",
       "      document.getElementsByTagName(\"head\")[0].appendChild(s);\n",
       "    }\n",
       "  };var element = document.getElementById(\"43879fff-9d7d-47a5-84f2-0dfd51ad98ca\");\n",
       "  if (element == null) {\n",
       "    console.log(\"Bokeh: ERROR: autoload.js configured with elementid '43879fff-9d7d-47a5-84f2-0dfd51ad98ca' but no matching script tag was found. \")\n",
       "    return false;\n",
       "  }\n",
       "\n",
       "  var js_urls = [\"https://cdn.pydata.org/bokeh/release/bokeh-0.12.6.min.js\", \"https://cdn.pydata.org/bokeh/release/bokeh-widgets-0.12.6.min.js\"];\n",
       "\n",
       "  var inline_js = [\n",
       "    function(Bokeh) {\n",
       "      Bokeh.set_log_level(\"info\");\n",
       "    },\n",
       "    \n",
       "    function(Bokeh) {\n",
       "      \n",
       "    },\n",
       "    \n",
       "    function(Bokeh) {\n",
       "      \n",
       "      document.getElementById(\"43879fff-9d7d-47a5-84f2-0dfd51ad98ca\").textContent = \"BokehJS is loading...\";\n",
       "    },\n",
       "    function(Bokeh) {\n",
       "      console.log(\"Bokeh: injecting CSS: https://cdn.pydata.org/bokeh/release/bokeh-0.12.6.min.css\");\n",
       "      Bokeh.embed.inject_css(\"https://cdn.pydata.org/bokeh/release/bokeh-0.12.6.min.css\");\n",
       "      console.log(\"Bokeh: injecting CSS: https://cdn.pydata.org/bokeh/release/bokeh-widgets-0.12.6.min.css\");\n",
       "      Bokeh.embed.inject_css(\"https://cdn.pydata.org/bokeh/release/bokeh-widgets-0.12.6.min.css\");\n",
       "    }\n",
       "  ];\n",
       "\n",
       "  function run_inline_js() {\n",
       "    \n",
       "    if ((window.Bokeh !== undefined) || (force === true)) {\n",
       "      for (var i = 0; i < inline_js.length; i++) {\n",
       "        inline_js[i](window.Bokeh);\n",
       "      }if (force === true) {\n",
       "        display_loaded();\n",
       "      }} else if (Date.now() < window._bokeh_timeout) {\n",
       "      setTimeout(run_inline_js, 100);\n",
       "    } else if (!window._bokeh_failed_load) {\n",
       "      console.log(\"Bokeh: BokehJS failed to load within specified timeout.\");\n",
       "      window._bokeh_failed_load = true;\n",
       "    } else if (force !== true) {\n",
       "      var cell = $(document.getElementById(\"43879fff-9d7d-47a5-84f2-0dfd51ad98ca\")).parents('.cell').data().cell;\n",
       "      cell.output_area.append_execute_result(NB_LOAD_WARNING)\n",
       "    }\n",
       "\n",
       "  }\n",
       "\n",
       "  if (window._bokeh_is_loading === 0) {\n",
       "    console.log(\"Bokeh: BokehJS loaded, going straight to plotting\");\n",
       "    run_inline_js();\n",
       "  } else {\n",
       "    load_libs(js_urls, function() {\n",
       "      console.log(\"Bokeh: BokehJS plotting callback run at\", now());\n",
       "      run_inline_js();\n",
       "    });\n",
       "  }\n",
       "}(this));"
      ]
     },
     "metadata": {},
     "output_type": "display_data"
    }
   ],
   "source": [
    "from bokeh.charts import TimeSeries, output_file, show\n",
    "from bokeh.io import output_notebook\n",
    "from bokeh.plotting import figure\n",
    "output_notebook()\n",
    "%matplotlib inline\n",
    "from matplotlib import pylab as plt\n",
    "\n",
    "def plotActualVsPrediction(actual, prediction):\n",
    "    p = figure(\n",
    "            tools=\"pan,box_zoom,reset,save\", \n",
    "            y_axis_label =\"views-normalized\",\n",
    "            x_axis_label =\"day-num\"\n",
    "        )\n",
    "    p.line(range(0, predictions.size), predictions.reshape((predictions.shape[0])), color=\"blue\", legend=\"predictions\")\n",
    "    p.line(range(0, test_y.size), test_y.reshape((test_y.shape[0])), color=\"red\", legend=\"actual\")\n",
    "    show(p)"
   ]
  },
  {
   "cell_type": "code",
   "execution_count": 213,
   "metadata": {},
   "outputs": [
    {
     "data": {
      "text/html": [
       "\n",
       "\n",
       "    <div class=\"bk-root\">\n",
       "        <div class=\"bk-plotdiv\" id=\"3e011baf-e981-41dc-be43-afad740970e1\"></div>\n",
       "    </div>\n",
       "<script type=\"text/javascript\">\n",
       "  \n",
       "  (function(global) {\n",
       "    function now() {\n",
       "      return new Date();\n",
       "    }\n",
       "  \n",
       "    var force = false;\n",
       "  \n",
       "    if (typeof (window._bokeh_onload_callbacks) === \"undefined\" || force === true) {\n",
       "      window._bokeh_onload_callbacks = [];\n",
       "      window._bokeh_is_loading = undefined;\n",
       "    }\n",
       "  \n",
       "  \n",
       "    \n",
       "    if (typeof (window._bokeh_timeout) === \"undefined\" || force === true) {\n",
       "      window._bokeh_timeout = Date.now() + 0;\n",
       "      window._bokeh_failed_load = false;\n",
       "    }\n",
       "  \n",
       "    var NB_LOAD_WARNING = {'data': {'text/html':\n",
       "       \"<div style='background-color: #fdd'>\\n\"+\n",
       "       \"<p>\\n\"+\n",
       "       \"BokehJS does not appear to have successfully loaded. If loading BokehJS from CDN, this \\n\"+\n",
       "       \"may be due to a slow or bad network connection. Possible fixes:\\n\"+\n",
       "       \"</p>\\n\"+\n",
       "       \"<ul>\\n\"+\n",
       "       \"<li>re-rerun `output_notebook()` to attempt to load from CDN again, or</li>\\n\"+\n",
       "       \"<li>use INLINE resources instead, as so:</li>\\n\"+\n",
       "       \"</ul>\\n\"+\n",
       "       \"<code>\\n\"+\n",
       "       \"from bokeh.resources import INLINE\\n\"+\n",
       "       \"output_notebook(resources=INLINE)\\n\"+\n",
       "       \"</code>\\n\"+\n",
       "       \"</div>\"}};\n",
       "  \n",
       "    function display_loaded() {\n",
       "      if (window.Bokeh !== undefined) {\n",
       "        var el = document.getElementById(\"3e011baf-e981-41dc-be43-afad740970e1\");\n",
       "        el.textContent = \"BokehJS \" + Bokeh.version + \" successfully loaded.\";\n",
       "      } else if (Date.now() < window._bokeh_timeout) {\n",
       "        setTimeout(display_loaded, 100)\n",
       "      }\n",
       "    }\n",
       "  \n",
       "    function run_callbacks() {\n",
       "      try {\n",
       "        window._bokeh_onload_callbacks.forEach(function(callback) { callback() });\n",
       "      }\n",
       "      finally {\n",
       "        delete window._bokeh_onload_callbacks\n",
       "      }\n",
       "      console.info(\"Bokeh: all callbacks have finished\");\n",
       "    }\n",
       "  \n",
       "    function load_libs(js_urls, callback) {\n",
       "      window._bokeh_onload_callbacks.push(callback);\n",
       "      if (window._bokeh_is_loading > 0) {\n",
       "        console.log(\"Bokeh: BokehJS is being loaded, scheduling callback at\", now());\n",
       "        return null;\n",
       "      }\n",
       "      if (js_urls == null || js_urls.length === 0) {\n",
       "        run_callbacks();\n",
       "        return null;\n",
       "      }\n",
       "      console.log(\"Bokeh: BokehJS not loaded, scheduling load and callback at\", now());\n",
       "      window._bokeh_is_loading = js_urls.length;\n",
       "      for (var i = 0; i < js_urls.length; i++) {\n",
       "        var url = js_urls[i];\n",
       "        var s = document.createElement('script');\n",
       "        s.src = url;\n",
       "        s.async = false;\n",
       "        s.onreadystatechange = s.onload = function() {\n",
       "          window._bokeh_is_loading--;\n",
       "          if (window._bokeh_is_loading === 0) {\n",
       "            console.log(\"Bokeh: all BokehJS libraries loaded\");\n",
       "            run_callbacks()\n",
       "          }\n",
       "        };\n",
       "        s.onerror = function() {\n",
       "          console.warn(\"failed to load library \" + url);\n",
       "        };\n",
       "        console.log(\"Bokeh: injecting script tag for BokehJS library: \", url);\n",
       "        document.getElementsByTagName(\"head\")[0].appendChild(s);\n",
       "      }\n",
       "    };var element = document.getElementById(\"3e011baf-e981-41dc-be43-afad740970e1\");\n",
       "    if (element == null) {\n",
       "      console.log(\"Bokeh: ERROR: autoload.js configured with elementid '3e011baf-e981-41dc-be43-afad740970e1' but no matching script tag was found. \")\n",
       "      return false;\n",
       "    }\n",
       "  \n",
       "    var js_urls = [];\n",
       "  \n",
       "    var inline_js = [\n",
       "      function(Bokeh) {\n",
       "        (function() {\n",
       "          var fn = function() {\n",
       "            var docs_json = {\"433adacb-86fb-4f35-ae37-3f8e85d2cee5\":{\"roots\":{\"references\":[{\"attributes\":{\"plot\":{\"id\":\"7926ab56-abbd-425c-b09c-99fb7b993c1d\",\"subtype\":\"Figure\",\"type\":\"Plot\"}},\"id\":\"5dfa3fec-94a4-4765-a7fa-04913bd38997\",\"type\":\"ResetTool\"},{\"attributes\":{},\"id\":\"715b4904-c80b-4659-a335-721f086ccfff\",\"type\":\"LinearScale\"},{\"attributes\":{\"data_source\":{\"id\":\"97a2b28f-974d-47bc-991b-fc534a9019e6\",\"type\":\"ColumnDataSource\"},\"glyph\":{\"id\":\"e799aa4b-63ad-4f46-8918-547d8167cc2c\",\"type\":\"Line\"},\"hover_glyph\":null,\"muted_glyph\":null,\"nonselection_glyph\":{\"id\":\"41fd6d53-603a-4bc7-9c46-374ca2dc634d\",\"type\":\"Line\"},\"selection_glyph\":null},\"id\":\"b779eab6-68f8-4825-b438-a09a2da29f76\",\"type\":\"GlyphRenderer\"},{\"attributes\":{},\"id\":\"b99b03de-d81b-4650-8eae-a4a1d361a0eb\",\"type\":\"BasicTicker\"},{\"attributes\":{\"line_alpha\":{\"value\":0.1},\"line_color\":{\"value\":\"#1f77b4\"},\"x\":{\"field\":\"x\"},\"y\":{\"field\":\"y\"}},\"id\":\"5d67c39a-256d-49e8-9b7a-802d3d670d40\",\"type\":\"Line\"},{\"attributes\":{\"line_color\":{\"value\":\"red\"},\"x\":{\"field\":\"x\"},\"y\":{\"field\":\"y\"}},\"id\":\"773db662-5ab5-4b48-bed5-a40634b0d50c\",\"type\":\"Line\"},{\"attributes\":{\"plot\":{\"id\":\"7926ab56-abbd-425c-b09c-99fb7b993c1d\",\"subtype\":\"Figure\",\"type\":\"Plot\"}},\"id\":\"881fab91-60ef-4eb1-9376-d6a5cc89a443\",\"type\":\"SaveTool\"},{\"attributes\":{\"axis_label\":\"views-normalized\",\"formatter\":{\"id\":\"9942e4a9-7a8b-4c75-9feb-08711f878f68\",\"type\":\"BasicTickFormatter\"},\"plot\":{\"id\":\"7926ab56-abbd-425c-b09c-99fb7b993c1d\",\"subtype\":\"Figure\",\"type\":\"Plot\"},\"ticker\":{\"id\":\"a11ecbd4-39d4-44ec-aeb0-47920a552777\",\"type\":\"BasicTicker\"}},\"id\":\"8f54b8e7-1b49-45b0-8630-8df7ff0374de\",\"type\":\"LinearAxis\"},{\"attributes\":{\"axis_label\":\"day-num\",\"formatter\":{\"id\":\"e6bac698-c579-42d2-8f10-9669a55909df\",\"type\":\"BasicTickFormatter\"},\"plot\":{\"id\":\"7926ab56-abbd-425c-b09c-99fb7b993c1d\",\"subtype\":\"Figure\",\"type\":\"Plot\"},\"ticker\":{\"id\":\"b99b03de-d81b-4650-8eae-a4a1d361a0eb\",\"type\":\"BasicTicker\"}},\"id\":\"c449f738-1be4-4835-8553-9a689c55b8eb\",\"type\":\"LinearAxis\"},{\"attributes\":{},\"id\":\"873bb809-8a45-4fba-ac40-c2fc1e870745\",\"type\":\"LinearScale\"},{\"attributes\":{},\"id\":\"a11ecbd4-39d4-44ec-aeb0-47920a552777\",\"type\":\"BasicTicker\"},{\"attributes\":{},\"id\":\"9942e4a9-7a8b-4c75-9feb-08711f878f68\",\"type\":\"BasicTickFormatter\"},{\"attributes\":{\"line_alpha\":{\"value\":0.1},\"line_color\":{\"value\":\"#1f77b4\"},\"x\":{\"field\":\"x\"},\"y\":{\"field\":\"y\"}},\"id\":\"41fd6d53-603a-4bc7-9c46-374ca2dc634d\",\"type\":\"Line\"},{\"attributes\":{\"bottom_units\":\"screen\",\"fill_alpha\":{\"value\":0.5},\"fill_color\":{\"value\":\"lightgrey\"},\"left_units\":\"screen\",\"level\":\"overlay\",\"line_alpha\":{\"value\":1.0},\"line_color\":{\"value\":\"black\"},\"line_dash\":[4,4],\"line_width\":{\"value\":2},\"plot\":null,\"render_mode\":\"css\",\"right_units\":\"screen\",\"top_units\":\"screen\"},\"id\":\"48ea9360-dbc7-46d8-bdf8-456a1f918397\",\"type\":\"BoxAnnotation\"},{\"attributes\":{\"label\":{\"value\":\"predictions\"},\"renderers\":[{\"id\":\"b779eab6-68f8-4825-b438-a09a2da29f76\",\"type\":\"GlyphRenderer\"}]},\"id\":\"1b947a6a-83c5-4b06-8d0c-74354c595e90\",\"type\":\"LegendItem\"},{\"attributes\":{\"active_drag\":\"auto\",\"active_inspect\":\"auto\",\"active_scroll\":\"auto\",\"active_tap\":\"auto\",\"tools\":[{\"id\":\"4096b1fa-8df0-4b98-ac7a-5eb0f8365c03\",\"type\":\"PanTool\"},{\"id\":\"ea435b5a-b7a0-40ac-a7a7-3b24dc91eabb\",\"type\":\"BoxZoomTool\"},{\"id\":\"5dfa3fec-94a4-4765-a7fa-04913bd38997\",\"type\":\"ResetTool\"},{\"id\":\"881fab91-60ef-4eb1-9376-d6a5cc89a443\",\"type\":\"SaveTool\"}]},\"id\":\"c7d7ffda-dcfc-4736-9ea1-bd502752cec5\",\"type\":\"Toolbar\"},{\"attributes\":{},\"id\":\"e6bac698-c579-42d2-8f10-9669a55909df\",\"type\":\"BasicTickFormatter\"},{\"attributes\":{\"callback\":null},\"id\":\"4bed1867-3247-4dda-99dc-014308a12ff8\",\"type\":\"DataRange1d\"},{\"attributes\":{\"callback\":null},\"id\":\"1b256aae-592c-43f0-9dc9-bd8c08f8d33d\",\"type\":\"DataRange1d\"},{\"attributes\":{\"label\":{\"value\":\"actual\"},\"renderers\":[{\"id\":\"849b7373-5241-4bdb-b76f-5a17a49fc44d\",\"type\":\"GlyphRenderer\"}]},\"id\":\"815b5edd-7d6d-4109-b081-917e742d0e91\",\"type\":\"LegendItem\"},{\"attributes\":{\"dimension\":1,\"plot\":{\"id\":\"7926ab56-abbd-425c-b09c-99fb7b993c1d\",\"subtype\":\"Figure\",\"type\":\"Plot\"},\"ticker\":{\"id\":\"a11ecbd4-39d4-44ec-aeb0-47920a552777\",\"type\":\"BasicTicker\"}},\"id\":\"b1186f40-c3dc-4c61-87fb-0c65db5ff4b5\",\"type\":\"Grid\"},{\"attributes\":{\"plot\":{\"id\":\"7926ab56-abbd-425c-b09c-99fb7b993c1d\",\"subtype\":\"Figure\",\"type\":\"Plot\"},\"ticker\":{\"id\":\"b99b03de-d81b-4650-8eae-a4a1d361a0eb\",\"type\":\"BasicTicker\"}},\"id\":\"e066b827-f070-46ff-93ef-466cbf0a9c65\",\"type\":\"Grid\"},{\"attributes\":{\"callback\":null,\"column_names\":[\"x\",\"y\"],\"data\":{\"x\":[0,1,2,3,4,5,6,7,8,9,10,11,12,13,14,15,16,17,18,19,20,21,22,23,24,25,26,27,28,29,30,31,32,33,34,35,36,37,38,39,40,41,42,43,44,45,46,47,48,49,50,51,52,53,54,55,56,57,58,59,60,61,62,63,64,65,66,67,68,69,70,71,72,73,74,75,76,77,78,79,80,81,82,83,84,85,86,87,88,89,90,91,92,93,94,95,96,97,98,99,100,101,102,103,104,105,106,107,108,109,110,111,112,113,114,115,116,117,118,119,120,121,122,123,124,125,126,127,128,129,130,131,132,133,134,135,136,137,138,139,140,141,142,143,144,145,146,147,148,149,150,151,152,153,154,155,156,157,158,159,160,161,162,163,164,165,166,167,168,169,170,171,172,173,174,175,176,177,178,179,180,181,182,183,184,185,186,187,188,189,190,191,192,193,194,195,196,197,198,199,200,201,202,203,204,205,206,207,208,209,210,211,212,213,214,215,216,217,218,219,220,221,222,223,224,225,226,227,228,229,230,231,232,233,234,235,236,237,238,239,240,241,242,243,244,245,246,247,248,249,250,251,252,253,254,255,256,257,258,259,260,261,262,263,264,265,266,267,268,269,270,271,272,273,274,275,276,277,278,279,280,281,282,283,284,285,286,287,288,289,290,291,292,293,294,295,296,297,298,299,300,301,302,303,304,305,306,307,308,309,310,311,312,313,314,315,316,317,318,319,320,321,322,323,324,325,326,327,328,329,330,331,332,333,334,335,336,337,338,339,340,341,342,343,344,345,346,347,348,349,350,351,352,353,354,355,356,357,358,359,360,361,362,363,364,365,366,367,368,369,370,371,372,373,374,375,376,377,378,379,380,381,382,383,384,385,386,387,388,389,390,391,392,393,394,395,396,397,398,399,400,401,402,403,404,405,406,407,408,409,410,411,412,413,414,415,416,417,418,419,420,421,422,423,424,425,426,427,428,429,430,431,432,433,434,435,436,437,438,439,440,441,442,443,444,445,446,447,448,449,450,451,452,453,454,455,456,457,458,459,460,461,462,463,464,465,466,467,468,469,470,471,472,473,474,475,476,477,478,479,480,481,482,483,484,485,486,487,488,489,490,491,492,493,494,495,496,497,498,499,500,501,502,503,504,505,506,507,508,509,510,511,512,513,514,515,516,517,518,519,520,521,522,523,524,525,526,527,528,529,530,531,532,533,534,535,536,537,538,539,540,541,542,543,544,545,546,547,548,549,550,551,552,553,554,555,556,557,558,559,560,561,562,563,564,565,566,567,568,569,570,571,572,573,574,575,576,577,578,579,580,581,582,583,584,585,586,587,588,589,590,591,592,593,594,595,596,597,598,599,600,601,602,603,604,605,606,607,608,609,610,611,612,613,614,615,616,617,618,619,620,621,622,623,624,625,626,627,628,629,630,631,632,633,634,635,636,637,638,639,640,641,642,643,644,645,646,647,648,649,650,651,652,653,654,655,656,657,658,659,660,661,662,663,664,665,666,667,668,669,670,671,672,673,674,675,676,677,678,679,680,681,682,683,684,685,686,687,688,689,690,691,692,693,694,695,696,697,698,699,700,701,702,703,704,705,706,707,708,709,710,711,712,713,714,715,716,717,718,719,720,721,722,723,724,725,726,727,728,729,730,731,732,733,734,735,736,737,738,739,740,741,742,743,744,745,746,747,748,749,750,751,752,753,754,755,756,757,758,759,760,761,762,763,764,765,766,767,768,769,770,771,772,773,774,775,776,777,778,779,780,781,782,783,784,785,786,787,788,789,790,791,792,793,794,795,796,797,798,799,800,801,802,803,804,805,806,807,808,809,810,811,812,813,814,815,816,817,818,819,820,821,822,823,824,825,826,827,828,829,830,831,832,833,834,835,836,837,838,839,840,841,842,843,844,845,846,847,848,849,850,851,852,853,854,855,856,857,858,859,860,861,862,863,864,865,866,867,868,869,870,871,872,873,874,875,876,877,878,879,880,881,882,883,884,885,886,887,888,889,890,891,892,893,894,895,896,897,898,899,900,901,902,903,904,905,906,907,908,909,910,911,912,913,914,915,916,917,918,919,920,921,922,923,924,925,926,927,928,929,930,931,932,933,934,935,936,937,938,939,940,941,942,943,944,945,946,947,948,949,950,951,952,953,954,955,956,957,958,959,960,961,962,963,964,965,966,967,968,969,970,971,972,973,974,975,976,977,978,979,980,981,982,983,984,985,986,987,988,989,990,991,992,993,994,995,996,997,998,999,1000,1001,1002,1003,1004,1005,1006,1007,1008,1009,1010,1011,1012,1013,1014,1015,1016,1017,1018,1019,1020,1021,1022,1023,1024,1025,1026,1027,1028,1029,1030,1031,1032,1033,1034,1035,1036,1037,1038,1039,1040,1041,1042,1043,1044,1045,1046,1047,1048,1049,1050,1051,1052,1053,1054,1055,1056,1057,1058,1059,1060,1061,1062,1063,1064,1065,1066,1067,1068,1069,1070,1071,1072,1073,1074,1075,1076,1077,1078,1079,1080,1081,1082,1083,1084,1085,1086,1087,1088,1089,1090,1091,1092,1093,1094,1095,1096,1097,1098,1099,1100,1101,1102,1103,1104,1105,1106,1107,1108,1109,1110,1111,1112,1113,1114,1115,1116,1117,1118,1119,1120,1121,1122,1123,1124,1125,1126,1127,1128,1129,1130,1131,1132,1133,1134,1135,1136,1137,1138,1139,1140,1141,1142,1143,1144,1145,1146,1147,1148,1149,1150,1151,1152,1153,1154,1155,1156,1157,1158,1159,1160,1161,1162,1163,1164,1165,1166,1167,1168,1169,1170,1171,1172,1173,1174,1175,1176,1177,1178,1179,1180,1181,1182,1183,1184,1185,1186,1187,1188,1189,1190,1191,1192,1193,1194,1195,1196,1197,1198,1199,1200,1201,1202,1203,1204,1205,1206,1207,1208,1209,1210,1211,1212,1213,1214,1215,1216,1217,1218,1219,1220,1221,1222,1223,1224,1225,1226,1227,1228,1229,1230,1231,1232,1233,1234,1235,1236,1237,1238,1239,1240,1241,1242,1243,1244,1245,1246,1247,1248,1249,1250,1251,1252,1253,1254,1255,1256,1257,1258,1259,1260,1261,1262,1263,1264,1265,1266,1267,1268,1269,1270,1271,1272,1273,1274,1275,1276,1277,1278,1279,1280,1281,1282,1283,1284,1285,1286,1287,1288,1289,1290,1291,1292,1293,1294,1295,1296,1297,1298,1299,1300,1301,1302,1303,1304,1305,1306,1307,1308,1309,1310,1311,1312,1313,1314,1315,1316,1317,1318,1319,1320,1321,1322,1323,1324,1325,1326,1327,1328,1329,1330,1331,1332,1333,1334,1335,1336,1337,1338,1339,1340,1341,1342,1343,1344,1345,1346,1347,1348,1349,1350,1351,1352,1353,1354,1355,1356,1357,1358,1359,1360,1361,1362,1363,1364,1365,1366,1367,1368,1369,1370,1371,1372,1373,1374,1375,1376,1377,1378,1379,1380,1381,1382,1383,1384,1385,1386,1387,1388,1389,1390,1391,1392,1393,1394,1395,1396,1397,1398,1399,1400,1401,1402,1403,1404,1405,1406,1407,1408,1409,1410,1411,1412,1413,1414,1415,1416,1417,1418,1419,1420,1421,1422,1423,1424,1425,1426,1427,1428,1429,1430,1431,1432,1433,1434,1435,1436,1437,1438,1439,1440,1441,1442,1443,1444,1445,1446,1447,1448,1449,1450,1451,1452,1453,1454,1455,1456,1457,1458,1459,1460,1461,1462,1463,1464,1465,1466,1467,1468,1469,1470,1471,1472,1473,1474,1475,1476,1477,1478,1479,1480,1481,1482,1483,1484,1485,1486,1487,1488,1489,1490,1491,1492,1493,1494,1495,1496,1497,1498,1499,1500,1501,1502,1503,1504,1505,1506,1507,1508,1509,1510,1511,1512,1513,1514,1515,1516,1517,1518,1519,1520,1521,1522,1523,1524,1525,1526,1527,1528,1529,1530,1531,1532,1533,1534,1535,1536,1537,1538,1539,1540,1541,1542,1543,1544,1545,1546,1547,1548,1549,1550,1551,1552,1553,1554,1555,1556,1557,1558,1559,1560,1561,1562,1563,1564,1565,1566,1567,1568,1569,1570,1571,1572,1573,1574,1575,1576,1577,1578,1579,1580,1581,1582,1583,1584,1585,1586,1587,1588,1589,1590,1591,1592,1593,1594,1595,1596,1597,1598,1599,1600,1601,1602,1603,1604,1605,1606,1607,1608,1609,1610,1611,1612,1613,1614,1615,1616,1617,1618,1619,1620,1621,1622,1623,1624,1625,1626,1627,1628,1629,1630,1631,1632,1633,1634,1635,1636,1637,1638,1639,1640,1641,1642,1643,1644,1645,1646,1647,1648,1649,1650,1651,1652,1653,1654,1655,1656,1657,1658,1659,1660,1661,1662,1663,1664,1665,1666,1667,1668,1669,1670,1671,1672,1673,1674,1675,1676,1677,1678,1679,1680,1681,1682,1683,1684,1685,1686,1687,1688,1689,1690,1691,1692,1693,1694,1695,1696,1697,1698,1699,1700,1701,1702,1703,1704,1705,1706,1707,1708,1709,1710,1711,1712,1713,1714,1715,1716,1717,1718,1719,1720,1721,1722,1723,1724,1725,1726,1727,1728,1729,1730,1731,1732,1733,1734,1735,1736,1737,1738,1739,1740,1741,1742,1743,1744,1745,1746,1747,1748,1749,1750,1751,1752,1753,1754,1755,1756,1757,1758,1759,1760,1761,1762,1763,1764,1765,1766,1767,1768,1769,1770,1771,1772,1773,1774,1775,1776,1777,1778,1779,1780,1781,1782,1783,1784,1785,1786,1787,1788,1789,1790,1791,1792,1793,1794,1795,1796,1797,1798,1799,1800,1801,1802,1803,1804,1805,1806,1807,1808,1809,1810,1811,1812,1813,1814,1815,1816,1817,1818,1819,1820,1821,1822,1823,1824,1825,1826,1827,1828,1829,1830,1831,1832,1833,1834,1835,1836,1837,1838,1839,1840,1841,1842,1843,1844,1845,1846,1847,1848,1849,1850,1851,1852,1853,1854,1855,1856,1857,1858,1859,1860,1861,1862,1863,1864,1865,1866,1867,1868,1869,1870,1871,1872,1873,1874,1875,1876,1877,1878,1879,1880,1881,1882,1883,1884,1885,1886,1887,1888,1889,1890,1891,1892,1893,1894,1895,1896,1897,1898,1899,1900,1901,1902,1903,1904,1905,1906,1907,1908,1909,1910,1911,1912,1913,1914,1915,1916,1917,1918,1919,1920,1921,1922,1923,1924,1925,1926,1927,1928,1929,1930,1931,1932,1933,1934,1935,1936,1937,1938,1939,1940,1941,1942,1943,1944,1945,1946,1947,1948,1949,1950,1951,1952,1953,1954,1955,1956,1957,1958,1959,1960,1961,1962,1963,1964,1965,1966,1967,1968,1969,1970,1971,1972,1973,1974,1975,1976,1977,1978,1979,1980,1981,1982,1983,1984,1985,1986,1987,1988,1989,1990,1991,1992,1993,1994,1995,1996,1997,1998,1999,2000,2001,2002,2003,2004,2005,2006,2007,2008,2009,2010,2011,2012,2013,2014,2015,2016,2017,2018,2019,2020,2021,2022,2023,2024,2025,2026,2027,2028,2029,2030,2031,2032,2033,2034,2035,2036,2037,2038,2039,2040,2041,2042,2043,2044,2045,2046,2047,2048,2049,2050,2051,2052,2053,2054,2055,2056,2057,2058,2059,2060,2061,2062,2063,2064,2065,2066,2067,2068,2069,2070,2071,2072,2073,2074,2075,2076,2077,2078,2079,2080,2081,2082,2083,2084,2085,2086,2087,2088,2089,2090,2091,2092,2093,2094,2095,2096,2097,2098,2099,2100,2101,2102,2103,2104,2105,2106,2107,2108,2109,2110,2111,2112,2113,2114,2115,2116,2117,2118,2119,2120,2121,2122,2123,2124,2125,2126,2127,2128,2129,2130,2131,2132,2133,2134,2135,2136,2137,2138,2139,2140,2141,2142,2143,2144,2145,2146,2147,2148,2149,2150,2151,2152,2153,2154,2155,2156,2157,2158,2159,2160,2161,2162,2163,2164,2165,2166,2167,2168,2169,2170,2171,2172,2173,2174,2175,2176,2177,2178,2179,2180,2181,2182,2183,2184,2185,2186,2187,2188,2189,2190,2191,2192,2193,2194,2195,2196,2197,2198,2199,2200,2201,2202,2203,2204,2205,2206,2207,2208,2209,2210,2211,2212,2213,2214,2215,2216,2217,2218,2219,2220,2221,2222,2223,2224,2225,2226,2227,2228,2229,2230,2231,2232,2233,2234,2235,2236,2237,2238,2239,2240,2241,2242,2243,2244,2245,2246,2247,2248,2249,2250,2251,2252,2253,2254,2255,2256,2257,2258,2259,2260,2261,2262,2263,2264,2265,2266,2267,2268,2269,2270,2271,2272,2273,2274,2275,2276,2277,2278,2279,2280,2281,2282,2283,2284,2285,2286,2287,2288,2289,2290,2291,2292,2293,2294,2295,2296,2297,2298,2299,2300,2301,2302,2303,2304,2305,2306,2307,2308,2309,2310,2311,2312,2313,2314,2315,2316,2317,2318,2319,2320,2321,2322,2323,2324,2325,2326,2327,2328,2329,2330,2331,2332,2333,2334,2335,2336,2337,2338,2339,2340,2341,2342,2343,2344,2345,2346,2347,2348,2349,2350,2351,2352,2353,2354,2355,2356,2357,2358,2359,2360,2361,2362,2363,2364,2365,2366,2367,2368,2369,2370,2371,2372,2373,2374,2375,2376,2377,2378,2379,2380,2381,2382,2383,2384,2385,2386,2387,2388,2389,2390,2391,2392,2393,2394,2395,2396,2397,2398,2399,2400,2401,2402,2403,2404,2405,2406,2407,2408,2409,2410,2411,2412,2413,2414,2415,2416,2417,2418,2419,2420,2421,2422,2423,2424,2425,2426,2427,2428,2429,2430,2431,2432,2433,2434,2435,2436,2437,2438,2439,2440,2441,2442,2443,2444,2445,2446,2447,2448,2449,2450,2451,2452,2453,2454,2455,2456,2457,2458,2459,2460,2461,2462,2463,2464,2465,2466,2467,2468,2469,2470,2471,2472,2473,2474,2475,2476,2477,2478,2479,2480,2481,2482,2483,2484,2485,2486,2487,2488,2489,2490,2491,2492,2493,2494,2495,2496,2497,2498,2499,2500,2501,2502,2503,2504,2505,2506,2507,2508,2509,2510,2511,2512,2513,2514,2515,2516,2517,2518,2519,2520,2521,2522,2523,2524,2525,2526,2527,2528,2529,2530,2531,2532,2533,2534,2535,2536,2537,2538,2539,2540,2541,2542,2543,2544,2545,2546,2547,2548,2549,2550,2551,2552,2553,2554,2555,2556,2557,2558,2559,2560,2561,2562,2563,2564,2565,2566,2567,2568,2569,2570,2571,2572,2573,2574,2575,2576,2577,2578,2579,2580,2581,2582,2583,2584,2585,2586,2587,2588,2589,2590,2591,2592,2593,2594,2595,2596,2597,2598,2599,2600,2601,2602,2603,2604,2605,2606,2607,2608,2609,2610,2611,2612,2613,2614,2615,2616,2617,2618,2619,2620,2621,2622,2623,2624,2625,2626,2627,2628,2629,2630,2631,2632,2633,2634,2635,2636,2637,2638,2639,2640,2641,2642,2643,2644,2645,2646,2647,2648,2649,2650,2651,2652,2653,2654,2655,2656,2657,2658,2659,2660,2661,2662,2663,2664,2665,2666,2667,2668,2669,2670,2671,2672,2673,2674,2675,2676,2677,2678,2679,2680,2681,2682,2683,2684,2685,2686,2687,2688,2689,2690,2691,2692,2693,2694,2695,2696,2697,2698,2699,2700,2701,2702,2703,2704,2705,2706,2707,2708,2709,2710,2711,2712,2713,2714,2715,2716,2717,2718,2719,2720,2721,2722,2723,2724,2725,2726,2727,2728,2729,2730,2731,2732,2733,2734,2735,2736,2737,2738,2739,2740,2741,2742,2743,2744,2745,2746,2747,2748,2749,2750,2751,2752,2753,2754,2755,2756,2757,2758,2759,2760,2761,2762,2763,2764,2765,2766,2767,2768,2769,2770,2771,2772,2773,2774,2775,2776,2777,2778,2779,2780,2781,2782,2783,2784,2785,2786,2787,2788,2789,2790,2791,2792,2793,2794,2795,2796,2797,2798,2799,2800,2801,2802,2803,2804,2805,2806,2807,2808,2809,2810,2811,2812,2813,2814,2815,2816,2817,2818,2819,2820,2821,2822,2823,2824,2825,2826,2827,2828,2829,2830,2831,2832,2833,2834,2835,2836,2837,2838,2839,2840,2841,2842,2843,2844,2845,2846,2847,2848,2849,2850,2851,2852,2853,2854,2855,2856,2857,2858,2859,2860,2861,2862,2863,2864,2865,2866,2867,2868,2869,2870,2871,2872,2873,2874,2875,2876,2877,2878,2879,2880,2881,2882,2883,2884,2885,2886,2887,2888,2889,2890,2891,2892,2893,2894,2895,2896,2897,2898,2899,2900,2901,2902,2903,2904,2905,2906,2907,2908,2909,2910,2911,2912,2913,2914,2915,2916,2917,2918,2919,2920,2921,2922,2923,2924,2925,2926,2927,2928,2929,2930,2931,2932,2933,2934,2935,2936,2937,2938,2939,2940,2941,2942,2943,2944,2945,2946,2947,2948,2949,2950,2951,2952,2953,2954,2955,2956,2957,2958,2959,2960,2961,2962,2963,2964,2965,2966,2967,2968,2969,2970,2971,2972,2973,2974,2975,2976,2977,2978,2979,2980,2981,2982,2983,2984,2985,2986,2987,2988,2989,2990,2991,2992,2993,2994,2995,2996,2997,2998,2999,3000,3001,3002,3003,3004,3005,3006,3007,3008,3009,3010,3011,3012,3013,3014,3015,3016,3017,3018,3019,3020,3021,3022,3023,3024,3025,3026,3027,3028,3029,3030,3031,3032,3033,3034,3035,3036,3037,3038,3039,3040,3041,3042,3043,3044,3045,3046,3047,3048,3049,3050,3051,3052,3053,3054,3055,3056,3057,3058,3059,3060,3061,3062,3063,3064,3065,3066,3067,3068,3069,3070,3071,3072,3073,3074,3075,3076,3077,3078,3079,3080,3081,3082,3083,3084,3085,3086,3087,3088,3089,3090,3091,3092,3093,3094,3095,3096,3097,3098,3099,3100,3101,3102,3103,3104,3105,3106,3107,3108,3109,3110,3111,3112,3113,3114,3115,3116,3117,3118,3119,3120,3121,3122,3123,3124,3125,3126,3127,3128,3129,3130,3131,3132,3133,3134,3135,3136,3137,3138,3139,3140,3141,3142,3143,3144,3145,3146,3147,3148,3149,3150,3151,3152,3153,3154,3155,3156,3157,3158,3159,3160,3161,3162,3163,3164,3165,3166,3167,3168,3169,3170,3171,3172,3173,3174,3175,3176,3177,3178,3179,3180,3181,3182,3183,3184,3185,3186,3187,3188,3189,3190,3191,3192,3193,3194,3195,3196,3197,3198,3199,3200,3201,3202,3203,3204,3205,3206,3207,3208,3209,3210,3211,3212,3213,3214,3215,3216,3217,3218,3219,3220,3221,3222,3223,3224,3225,3226,3227,3228,3229,3230,3231,3232,3233,3234,3235,3236,3237,3238,3239,3240,3241,3242,3243,3244,3245,3246,3247,3248,3249,3250,3251,3252,3253,3254,3255,3256,3257,3258,3259,3260,3261,3262,3263,3264,3265,3266,3267,3268,3269,3270,3271,3272,3273,3274,3275,3276,3277,3278,3279,3280,3281,3282,3283,3284,3285,3286,3287,3288,3289,3290,3291,3292,3293,3294,3295,3296,3297,3298,3299,3300,3301,3302,3303,3304,3305,3306,3307,3308,3309,3310,3311,3312,3313,3314,3315,3316,3317,3318,3319,3320,3321,3322,3323,3324,3325,3326,3327,3328,3329,3330,3331,3332,3333,3334,3335,3336,3337,3338,3339,3340,3341,3342,3343,3344,3345,3346,3347,3348,3349,3350,3351,3352,3353,3354,3355,3356,3357,3358,3359,3360,3361,3362,3363,3364,3365,3366,3367,3368,3369,3370,3371,3372,3373,3374,3375,3376,3377,3378,3379,3380,3381,3382,3383,3384,3385,3386,3387,3388,3389,3390,3391,3392,3393,3394,3395,3396,3397,3398,3399,3400,3401,3402,3403,3404,3405,3406,3407,3408,3409,3410,3411,3412,3413,3414,3415,3416,3417,3418,3419,3420,3421,3422,3423,3424,3425,3426,3427,3428,3429,3430,3431,3432,3433,3434,3435,3436,3437,3438,3439,3440,3441,3442,3443,3444,3445,3446,3447,3448,3449,3450,3451,3452,3453,3454,3455,3456,3457,3458,3459,3460,3461,3462,3463,3464,3465,3466,3467,3468,3469,3470,3471,3472,3473,3474,3475,3476,3477,3478,3479,3480,3481,3482,3483,3484,3485,3486,3487,3488,3489,3490,3491,3492,3493,3494,3495,3496,3497,3498,3499,3500,3501,3502,3503,3504,3505,3506,3507,3508,3509,3510,3511,3512,3513,3514,3515,3516,3517,3518,3519,3520,3521,3522,3523,3524,3525,3526,3527,3528,3529,3530,3531,3532,3533,3534,3535,3536,3537,3538,3539,3540,3541,3542,3543,3544,3545,3546,3547,3548,3549,3550,3551,3552,3553,3554,3555,3556,3557,3558,3559,3560,3561,3562,3563,3564,3565,3566,3567,3568,3569,3570,3571,3572,3573,3574,3575,3576,3577,3578,3579,3580,3581,3582,3583,3584,3585,3586,3587,3588,3589,3590,3591,3592,3593,3594,3595,3596,3597,3598,3599,3600,3601,3602,3603,3604,3605,3606,3607,3608,3609,3610,3611,3612,3613,3614,3615,3616,3617,3618,3619,3620,3621,3622,3623,3624,3625,3626,3627,3628,3629,3630,3631,3632,3633,3634,3635,3636,3637,3638,3639,3640,3641,3642,3643,3644,3645,3646,3647,3648,3649,3650,3651,3652,3653,3654,3655,3656,3657,3658,3659,3660,3661,3662,3663,3664,3665,3666,3667,3668,3669,3670,3671,3672,3673,3674,3675,3676,3677,3678,3679,3680,3681,3682,3683,3684,3685,3686,3687,3688,3689,3690,3691,3692,3693,3694,3695,3696,3697,3698,3699,3700,3701,3702,3703,3704,3705,3706,3707,3708,3709,3710,3711,3712,3713,3714,3715,3716,3717,3718,3719,3720,3721,3722,3723,3724,3725,3726,3727,3728,3729,3730,3731,3732,3733,3734,3735,3736,3737,3738,3739,3740,3741,3742,3743,3744,3745,3746,3747,3748,3749,3750,3751,3752,3753,3754,3755,3756,3757,3758,3759,3760,3761,3762,3763,3764,3765,3766,3767,3768,3769,3770,3771,3772,3773,3774,3775,3776,3777,3778,3779,3780,3781,3782,3783,3784,3785,3786,3787,3788,3789,3790,3791,3792,3793,3794,3795,3796,3797,3798,3799,3800,3801,3802,3803,3804,3805,3806,3807,3808,3809,3810,3811,3812,3813,3814,3815,3816,3817,3818,3819,3820,3821,3822,3823,3824,3825,3826,3827,3828,3829,3830,3831,3832,3833,3834,3835,3836,3837,3838,3839,3840,3841,3842,3843,3844,3845,3846,3847,3848,3849,3850,3851,3852,3853,3854,3855,3856,3857,3858,3859,3860,3861,3862,3863,3864,3865,3866,3867,3868,3869,3870,3871,3872,3873,3874,3875,3876,3877,3878,3879,3880,3881,3882,3883,3884,3885,3886,3887,3888,3889,3890,3891,3892,3893,3894,3895,3896,3897,3898,3899,3900,3901,3902,3903,3904,3905,3906,3907,3908,3909,3910,3911,3912,3913,3914,3915,3916,3917,3918,3919,3920,3921,3922,3923,3924,3925,3926,3927,3928,3929,3930,3931,3932,3933,3934,3935,3936,3937,3938,3939,3940,3941,3942,3943,3944,3945,3946,3947,3948,3949,3950,3951,3952,3953,3954,3955,3956,3957,3958,3959,3960,3961,3962,3963,3964,3965,3966,3967,3968,3969,3970,3971,3972,3973,3974,3975,3976,3977,3978,3979,3980,3981,3982,3983,3984,3985,3986,3987,3988,3989,3990,3991,3992,3993,3994,3995,3996,3997,3998,3999,4000,4001,4002,4003,4004,4005,4006,4007,4008,4009,4010,4011,4012,4013,4014,4015,4016,4017,4018,4019,4020,4021,4022,4023,4024,4025,4026,4027,4028,4029,4030,4031,4032,4033,4034,4035,4036,4037,4038,4039,4040,4041,4042,4043,4044,4045,4046,4047,4048,4049,4050,4051,4052,4053,4054,4055,4056,4057,4058,4059,4060,4061,4062,4063,4064,4065,4066,4067,4068,4069,4070,4071,4072,4073,4074,4075,4076,4077,4078,4079,4080,4081,4082,4083,4084,4085,4086,4087,4088,4089,4090,4091,4092,4093,4094,4095,4096,4097,4098,4099,4100,4101,4102,4103,4104,4105,4106,4107,4108,4109,4110,4111,4112,4113,4114,4115,4116,4117,4118,4119,4120,4121,4122,4123,4124,4125,4126,4127,4128,4129,4130,4131,4132,4133,4134,4135,4136,4137,4138,4139,4140,4141,4142,4143,4144,4145,4146,4147,4148,4149,4150,4151,4152,4153,4154,4155,4156,4157,4158,4159,4160,4161,4162,4163,4164,4165,4166,4167,4168,4169,4170,4171,4172,4173,4174,4175,4176,4177,4178,4179,4180,4181,4182,4183,4184,4185,4186,4187,4188,4189,4190,4191,4192,4193,4194,4195,4196,4197,4198,4199,4200,4201,4202,4203,4204,4205,4206,4207,4208,4209,4210,4211,4212,4213,4214,4215,4216,4217,4218,4219,4220,4221,4222,4223,4224,4225,4226,4227,4228,4229,4230,4231,4232,4233,4234,4235,4236,4237,4238,4239,4240,4241,4242,4243,4244,4245,4246,4247,4248,4249,4250,4251,4252,4253,4254,4255,4256,4257,4258,4259,4260,4261,4262,4263,4264,4265,4266,4267,4268,4269,4270,4271,4272,4273,4274,4275,4276,4277,4278,4279,4280,4281,4282,4283,4284,4285,4286,4287,4288,4289,4290,4291,4292,4293,4294,4295,4296,4297,4298,4299,4300,4301,4302,4303,4304,4305,4306,4307,4308,4309,4310,4311,4312,4313,4314,4315,4316,4317,4318,4319,4320,4321,4322,4323,4324,4325,4326,4327,4328,4329,4330,4331,4332,4333,4334,4335,4336,4337,4338,4339,4340,4341,4342,4343,4344,4345,4346,4347,4348,4349,4350,4351,4352,4353,4354,4355,4356,4357,4358,4359,4360,4361,4362,4363,4364,4365,4366,4367,4368,4369,4370,4371,4372,4373,4374,4375,4376,4377,4378,4379,4380,4381,4382,4383,4384,4385,4386,4387,4388,4389,4390,4391,4392,4393,4394,4395,4396,4397,4398,4399,4400,4401,4402,4403,4404,4405,4406,4407,4408,4409,4410,4411,4412,4413,4414,4415,4416,4417,4418,4419,4420,4421,4422,4423,4424,4425,4426,4427,4428,4429,4430,4431,4432,4433,4434,4435,4436,4437,4438,4439,4440,4441,4442,4443,4444,4445,4446,4447,4448,4449,4450,4451,4452,4453,4454,4455,4456,4457,4458,4459,4460,4461,4462,4463,4464,4465,4466,4467,4468,4469,4470,4471,4472,4473,4474,4475,4476,4477,4478,4479,4480,4481,4482,4483,4484,4485,4486,4487,4488,4489,4490,4491,4492,4493,4494,4495,4496,4497,4498,4499,4500,4501,4502,4503,4504,4505,4506,4507,4508,4509,4510,4511,4512,4513,4514,4515,4516,4517,4518,4519,4520,4521,4522,4523,4524,4525,4526,4527,4528,4529,4530,4531,4532,4533,4534,4535,4536,4537,4538,4539,4540,4541,4542,4543,4544,4545,4546,4547,4548,4549,4550,4551,4552,4553,4554,4555,4556,4557,4558,4559,4560,4561,4562,4563,4564,4565,4566,4567,4568,4569,4570,4571,4572,4573,4574,4575,4576,4577,4578,4579,4580,4581,4582,4583,4584,4585,4586,4587,4588,4589,4590,4591,4592,4593,4594,4595,4596,4597,4598,4599,4600,4601,4602,4603,4604,4605,4606,4607,4608,4609,4610,4611,4612,4613,4614,4615,4616,4617,4618,4619,4620,4621,4622,4623,4624,4625,4626,4627,4628,4629,4630,4631,4632,4633,4634,4635,4636,4637,4638,4639,4640,4641,4642,4643,4644,4645,4646,4647,4648,4649,4650,4651,4652,4653,4654,4655,4656,4657,4658,4659,4660,4661,4662,4663,4664,4665,4666,4667,4668,4669,4670,4671,4672,4673,4674,4675,4676,4677,4678,4679,4680,4681,4682,4683,4684,4685,4686,4687,4688,4689,4690,4691,4692,4693,4694,4695,4696,4697,4698,4699,4700,4701,4702,4703,4704,4705,4706,4707,4708,4709,4710,4711,4712,4713,4714,4715,4716,4717,4718,4719,4720,4721,4722,4723,4724,4725,4726,4727,4728,4729,4730,4731,4732,4733,4734,4735,4736,4737,4738,4739,4740,4741,4742,4743,4744,4745,4746,4747,4748,4749,4750,4751,4752,4753,4754,4755,4756,4757,4758,4759,4760,4761,4762,4763,4764,4765,4766,4767,4768,4769,4770,4771,4772,4773,4774,4775,4776,4777,4778,4779,4780,4781,4782,4783,4784,4785,4786,4787,4788,4789,4790,4791,4792,4793,4794,4795,4796,4797,4798,4799,4800,4801,4802,4803,4804,4805,4806,4807,4808,4809,4810,4811,4812,4813,4814,4815,4816,4817,4818,4819,4820,4821,4822,4823,4824,4825,4826,4827,4828,4829,4830,4831,4832,4833,4834,4835,4836,4837,4838,4839,4840,4841,4842,4843,4844,4845,4846,4847,4848,4849,4850,4851,4852,4853,4854,4855,4856,4857,4858,4859,4860,4861,4862,4863,4864,4865,4866,4867,4868,4869,4870,4871,4872,4873,4874,4875,4876,4877,4878,4879,4880,4881,4882,4883,4884,4885,4886,4887,4888,4889,4890,4891,4892,4893,4894,4895,4896,4897,4898,4899,4900,4901,4902,4903,4904,4905,4906,4907,4908,4909,4910,4911,4912,4913,4914,4915,4916,4917,4918,4919,4920,4921,4922,4923,4924,4925,4926,4927,4928,4929,4930,4931,4932,4933,4934,4935,4936,4937,4938,4939,4940,4941,4942,4943,4944,4945,4946,4947,4948,4949,4950,4951,4952,4953,4954,4955,4956,4957,4958,4959,4960,4961,4962,4963,4964,4965,4966,4967,4968,4969,4970,4971,4972,4973,4974,4975,4976,4977,4978,4979,4980,4981,4982,4983,4984,4985,4986,4987,4988,4989,4990,4991,4992,4993,4994,4995,4996,4997,4998,4999,5000,5001,5002,5003,5004,5005,5006,5007,5008,5009,5010,5011,5012,5013,5014,5015,5016,5017,5018,5019,5020,5021,5022,5023,5024,5025,5026,5027,5028,5029,5030,5031,5032,5033,5034,5035,5036,5037,5038,5039,5040,5041,5042,5043,5044,5045,5046,5047,5048,5049,5050,5051,5052,5053,5054,5055,5056,5057,5058,5059,5060,5061,5062,5063,5064,5065,5066,5067,5068,5069,5070,5071,5072,5073,5074,5075,5076,5077,5078,5079,5080,5081,5082,5083,5084,5085,5086,5087,5088,5089,5090,5091,5092,5093,5094,5095,5096,5097,5098,5099,5100,5101,5102,5103,5104,5105,5106,5107,5108,5109,5110,5111,5112,5113,5114,5115,5116,5117,5118,5119,5120,5121,5122,5123,5124,5125,5126,5127,5128,5129,5130,5131,5132,5133,5134,5135,5136,5137,5138,5139,5140,5141,5142,5143,5144,5145,5146,5147,5148,5149,5150,5151,5152,5153,5154,5155,5156,5157,5158,5159,5160,5161,5162,5163,5164,5165,5166,5167,5168,5169,5170,5171,5172,5173,5174,5175,5176,5177,5178,5179,5180,5181,5182,5183,5184,5185,5186,5187,5188,5189,5190,5191,5192,5193,5194,5195,5196,5197,5198,5199,5200,5201,5202,5203,5204,5205,5206,5207,5208,5209,5210,5211,5212,5213,5214,5215,5216,5217,5218,5219,5220,5221,5222,5223,5224,5225,5226,5227,5228,5229,5230,5231,5232,5233,5234,5235,5236,5237,5238,5239,5240,5241,5242,5243,5244,5245,5246,5247,5248,5249,5250,5251,5252,5253,5254,5255,5256,5257,5258,5259,5260,5261,5262,5263,5264,5265,5266,5267,5268,5269,5270,5271,5272,5273,5274,5275,5276,5277,5278,5279,5280,5281,5282,5283,5284,5285,5286,5287,5288,5289,5290,5291,5292,5293,5294,5295,5296,5297,5298,5299,5300,5301,5302,5303,5304,5305,5306,5307,5308,5309,5310,5311,5312,5313,5314,5315,5316,5317,5318,5319,5320,5321,5322,5323,5324,5325,5326,5327,5328,5329,5330,5331,5332,5333,5334,5335,5336,5337,5338,5339,5340,5341,5342,5343,5344,5345,5346,5347,5348,5349,5350,5351,5352,5353,5354,5355,5356,5357,5358,5359,5360,5361,5362,5363,5364,5365,5366,5367,5368,5369,5370,5371,5372,5373,5374,5375,5376,5377,5378,5379,5380,5381,5382,5383,5384,5385,5386,5387,5388,5389,5390,5391,5392,5393,5394,5395,5396,5397,5398,5399,5400,5401,5402,5403,5404,5405,5406,5407,5408,5409,5410,5411,5412,5413,5414,5415,5416,5417,5418,5419,5420,5421,5422,5423,5424,5425,5426,5427,5428,5429,5430,5431,5432,5433,5434,5435,5436,5437,5438,5439,5440,5441,5442,5443,5444,5445,5446,5447,5448,5449,5450,5451,5452,5453,5454,5455,5456,5457,5458,5459,5460,5461,5462,5463,5464,5465,5466,5467,5468,5469,5470,5471,5472,5473,5474,5475,5476,5477,5478,5479,5480,5481,5482,5483,5484,5485,5486,5487,5488,5489],\"y\":{\"__ndarray__\":\"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\",\"dtype\":\"float64\",\"shape\":[5490]}}},\"id\":\"32407b87-a00d-477c-9a49-5202fad4ae31\",\"type\":\"ColumnDataSource\"},{\"attributes\":{\"overlay\":{\"id\":\"48ea9360-dbc7-46d8-bdf8-456a1f918397\",\"type\":\"BoxAnnotation\"},\"plot\":{\"id\":\"7926ab56-abbd-425c-b09c-99fb7b993c1d\",\"subtype\":\"Figure\",\"type\":\"Plot\"}},\"id\":\"ea435b5a-b7a0-40ac-a7a7-3b24dc91eabb\",\"type\":\"BoxZoomTool\"},{\"attributes\":{\"plot\":{\"id\":\"7926ab56-abbd-425c-b09c-99fb7b993c1d\",\"subtype\":\"Figure\",\"type\":\"Plot\"}},\"id\":\"4096b1fa-8df0-4b98-ac7a-5eb0f8365c03\",\"type\":\"PanTool\"},{\"attributes\":{\"data_source\":{\"id\":\"32407b87-a00d-477c-9a49-5202fad4ae31\",\"type\":\"ColumnDataSource\"},\"glyph\":{\"id\":\"773db662-5ab5-4b48-bed5-a40634b0d50c\",\"type\":\"Line\"},\"hover_glyph\":null,\"muted_glyph\":null,\"nonselection_glyph\":{\"id\":\"5d67c39a-256d-49e8-9b7a-802d3d670d40\",\"type\":\"Line\"},\"selection_glyph\":null},\"id\":\"849b7373-5241-4bdb-b76f-5a17a49fc44d\",\"type\":\"GlyphRenderer\"},{\"attributes\":{\"below\":[{\"id\":\"c449f738-1be4-4835-8553-9a689c55b8eb\",\"type\":\"LinearAxis\"}],\"left\":[{\"id\":\"8f54b8e7-1b49-45b0-8630-8df7ff0374de\",\"type\":\"LinearAxis\"}],\"renderers\":[{\"id\":\"c449f738-1be4-4835-8553-9a689c55b8eb\",\"type\":\"LinearAxis\"},{\"id\":\"e066b827-f070-46ff-93ef-466cbf0a9c65\",\"type\":\"Grid\"},{\"id\":\"8f54b8e7-1b49-45b0-8630-8df7ff0374de\",\"type\":\"LinearAxis\"},{\"id\":\"b1186f40-c3dc-4c61-87fb-0c65db5ff4b5\",\"type\":\"Grid\"},{\"id\":\"48ea9360-dbc7-46d8-bdf8-456a1f918397\",\"type\":\"BoxAnnotation\"},{\"id\":\"384d2c5d-ffde-4b7a-8906-b503ee1c1fab\",\"type\":\"Legend\"},{\"id\":\"b779eab6-68f8-4825-b438-a09a2da29f76\",\"type\":\"GlyphRenderer\"},{\"id\":\"849b7373-5241-4bdb-b76f-5a17a49fc44d\",\"type\":\"GlyphRenderer\"}],\"title\":{\"id\":\"f02f6628-d271-451f-9e9d-0e40e1de3ff9\",\"type\":\"Title\"},\"tool_events\":{\"id\":\"48fbc842-be5c-4bf9-9ab3-b8369ff9c50c\",\"type\":\"ToolEvents\"},\"toolbar\":{\"id\":\"c7d7ffda-dcfc-4736-9ea1-bd502752cec5\",\"type\":\"Toolbar\"},\"x_range\":{\"id\":\"1b256aae-592c-43f0-9dc9-bd8c08f8d33d\",\"type\":\"DataRange1d\"},\"x_scale\":{\"id\":\"873bb809-8a45-4fba-ac40-c2fc1e870745\",\"type\":\"LinearScale\"},\"y_range\":{\"id\":\"4bed1867-3247-4dda-99dc-014308a12ff8\",\"type\":\"DataRange1d\"},\"y_scale\":{\"id\":\"715b4904-c80b-4659-a335-721f086ccfff\",\"type\":\"LinearScale\"}},\"id\":\"7926ab56-abbd-425c-b09c-99fb7b993c1d\",\"subtype\":\"Figure\",\"type\":\"Plot\"},{\"attributes\":{\"callback\":null,\"column_names\":[\"x\",\"y\"],\"data\":{\"x\":[0,1,2,3,4,5,6,7,8,9,10,11,12,13,14,15,16,17,18,19,20,21,22,23,24,25,26,27,28,29,30,31,32,33,34,35,36,37,38,39,40,41,42,43,44,45,46,47,48,49,50,51,52,53,54,55,56,57,58,59,60,61,62,63,64,65,66,67,68,69,70,71,72,73,74,75,76,77,78,79,80,81,82,83,84,85,86,87,88,89,90,91,92,93,94,95,96,97,98,99,100,101,102,103,104,105,106,107,108,109,110,111,112,113,114,115,116,117,118,119,120,121,122,123,124,125,126,127,128,129,130,131,132,133,134,135,136,137,138,139,140,141,142,143,144,145,146,147,148,149,150,151,152,153,154,155,156,157,158,159,160,161,162,163,164,165,166,167,168,169,170,171,172,173,174,175,176,177,178,179,180,181,182,183,184,185,186,187,188,189,190,191,192,193,194,195,196,197,198,199,200,201,202,203,204,205,206,207,208,209,210,211,212,213,214,215,216,217,218,219,220,221,222,223,224,225,226,227,228,229,230,231,232,233,234,235,236,237,238,239,240,241,242,243,244,245,246,247,248,249,250,251,252,253,254,255,256,257,258,259,260,261,262,263,264,265,266,267,268,269,270,271,272,273,274,275,276,277,278,279,280,281,282,283,284,285,286,287,288,289,290,291,292,293,294,295,296,297,298,299,300,301,302,303,304,305,306,307,308,309,310,311,312,313,314,315,316,317,318,319,320,321,322,323,324,325,326,327,328,329,330,331,332,333,334,335,336,337,338,339,340,341,342,343,344,345,346,347,348,349,350,351,352,353,354,355,356,357,358,359,360,361,362,363,364,365,366,367,368,369,370,371,372,373,374,375,376,377,378,379,380,381,382,383,384,385,386,387,388,389,390,391,392,393,394,395,396,397,398,399,400,401,402,403,404,405,406,407,408,409,410,411,412,413,414,415,416,417,418,419,420,421,422,423,424,425,426,427,428,429,430,431,432,433,434,435,436,437,438,439,440,441,442,443,444,445,446,447,448,449,450,451,452,453,454,455,456,457,458,459,460,461,462,463,464,465,466,467,468,469,470,471,472,473,474,475,476,477,478,479,480,481,482,483,484,485,486,487,488,489,490,491,492,493,494,495,496,497,498,499,500,501,502,503,504,505,506,507,508,509,510,511,512,513,514,515,516,517,518,519,520,521,522,523,524,525,526,527,528,529,530,531,532,533,534,535,536,537,538,539,540,541,542,543,544,545,546,547,548,549,550,551,552,553,554,555,556,557,558,559,560,561,562,563,564,565,566,567,568,569,570,571,572,573,574,575,576,577,578,579,580,581,582,583,584,585,586,587,588,589,590,591,592,593,594,595,596,597,598,599,600,601,602,603,604,605,606,607,608,609,610,611,612,613,614,615,616,617,618,619,620,621,622,623,624,625,626,627,628,629,630,631,632,633,634,635,636,637,638,639,640,641,642,643,644,645,646,647,648,649,650,651,652,653,654,655,656,657,658,659,660,661,662,663,664,665,666,667,668,669,670,671,672,673,674,675,676,677,678,679,680,681,682,683,684,685,686,687,688,689,690,691,692,693,694,695,696,697,698,699,700,701,702,703,704,705,706,707,708,709,710,711,712,713,714,715,716,717,718,719,720,721,722,723,724,725,726,727,728,729,730,731,732,733,734,735,736,737,738,739,740,741,742,743,744,745,746,747,748,749,750,751,752,753,754,755,756,757,758,759,760,761,762,763,764,765,766,767,768,769,770,771,772,773,774,775,776,777,778,779,780,781,782,783,784,785,786,787,788,789,790,791,792,793,794,795,796,797,798,799,800,801,802,803,804,805,806,807,808,809,810,811,812,813,814,815,816,817,818,819,820,821,822,823,824,825,826,827,828,829,830,831,832,833,834,835,836,837,838,839,840,841,842,843,844,845,846,847,848,849,850,851,852,853,854,855,856,857,858,859,860,861,862,863,864,865,866,867,868,869,870,871,872,873,874,875,876,877,878,879,880,881,882,883,884,885,886,887,888,889,890,891,892,893,894,895,896,897,898,899,900,901,902,903,904,905,906,907,908,909,910,911,912,913,914,915,916,917,918,919,920,921,922,923,924,925,926,927,928,929,930,931,932,933,934,935,936,937,938,939,940,941,942,943,944,945,946,947,948,949,950,951,952,953,954,955,956,957,958,959,960,961,962,963,964,965,966,967,968,969,970,971,972,973,974,975,976,977,978,979,980,981,982,983,984,985,986,987,988,989,990,991,992,993,994,995,996,997,998,999,1000,1001,1002,1003,1004,1005,1006,1007,1008,1009,1010,1011,1012,1013,1014,1015,1016,1017,1018,1019,1020,1021,1022,1023,1024,1025,1026,1027,1028,1029,1030,1031,1032,1033,1034,1035,1036,1037,1038,1039,1040,1041,1042,1043,1044,1045,1046,1047,1048,1049,1050,1051,1052,1053,1054,1055,1056,1057,1058,1059,1060,1061,1062,1063,1064,1065,1066,1067,1068,1069,1070,1071,1072,1073,1074,1075,1076,1077,1078,1079,1080,1081,1082,1083,1084,1085,1086,1087,1088,1089,1090,1091,1092,1093,1094,1095,1096,1097,1098,1099,1100,1101,1102,1103,1104,1105,1106,1107,1108,1109,1110,1111,1112,1113,1114,1115,1116,1117,1118,1119,1120,1121,1122,1123,1124,1125,1126,1127,1128,1129,1130,1131,1132,1133,1134,1135,1136,1137,1138,1139,1140,1141,1142,1143,1144,1145,1146,1147,1148,1149,1150,1151,1152,1153,1154,1155,1156,1157,1158,1159,1160,1161,1162,1163,1164,1165,1166,1167,1168,1169,1170,1171,1172,1173,1174,1175,1176,1177,1178,1179,1180,1181,1182,1183,1184,1185,1186,1187,1188,1189,1190,1191,1192,1193,1194,1195,1196,1197,1198,1199,1200,1201,1202,1203,1204,1205,1206,1207,1208,1209,1210,1211,1212,1213,1214,1215,1216,1217,1218,1219,1220,1221,1222,1223,1224,1225,1226,1227,1228,1229,1230,1231,1232,1233,1234,1235,1236,1237,1238,1239,1240,1241,1242,1243,1244,1245,1246,1247,1248,1249,1250,1251,1252,1253,1254,1255,1256,1257,1258,1259,1260,1261,1262,1263,1264,1265,1266,1267,1268,1269,1270,1271,1272,1273,1274,1275,1276,1277,1278,1279,1280,1281,1282,1283,1284,1285,1286,1287,1288,1289,1290,1291,1292,1293,1294,1295,1296,1297,1298,1299,1300,1301,1302,1303,1304,1305,1306,1307,1308,1309,1310,1311,1312,1313,1314,1315,1316,1317,1318,1319,1320,1321,1322,1323,1324,1325,1326,1327,1328,1329,1330,1331,1332,1333,1334,1335,1336,1337,1338,1339,1340,1341,1342,1343,1344,1345,1346,1347,1348,1349,1350,1351,1352,1353,1354,1355,1356,1357,1358,1359,1360,1361,1362,1363,1364,1365,1366,1367,1368,1369,1370,1371,1372,1373,1374,1375,1376,1377,1378,1379,1380,1381,1382,1383,1384,1385,1386,1387,1388,1389,1390,1391,1392,1393,1394,1395,1396,1397,1398,1399,1400,1401,1402,1403,1404,1405,1406,1407,1408,1409,1410,1411,1412,1413,1414,1415,1416,1417,1418,1419,1420,1421,1422,1423,1424,1425,1426,1427,1428,1429,1430,1431,1432,1433,1434,1435,1436,1437,1438,1439,1440,1441,1442,1443,1444,1445,1446,1447,1448,1449,1450,1451,1452,1453,1454,1455,1456,1457,1458,1459,1460,1461,1462,1463,1464,1465,1466,1467,1468,1469,1470,1471,1472,1473,1474,1475,1476,1477,1478,1479,1480,1481,1482,1483,1484,1485,1486,1487,1488,1489,1490,1491,1492,1493,1494,1495,1496,1497,1498,1499,1500,1501,1502,1503,1504,1505,1506,1507,1508,1509,1510,1511,1512,1513,1514,1515,1516,1517,1518,1519,1520,1521,1522,1523,1524,1525,1526,1527,1528,1529,1530,1531,1532,1533,1534,1535,1536,1537,1538,1539,1540,1541,1542,1543,1544,1545,1546,1547,1548,1549,1550,1551,1552,1553,1554,1555,1556,1557,1558,1559,1560,1561,1562,1563,1564,1565,1566,1567,1568,1569,1570,1571,1572,1573,1574,1575,1576,1577,1578,1579,1580,1581,1582,1583,1584,1585,1586,1587,1588,1589,1590,1591,1592,1593,1594,1595,1596,1597,1598,1599,1600,1601,1602,1603,1604,1605,1606,1607,1608,1609,1610,1611,1612,1613,1614,1615,1616,1617,1618,1619,1620,1621,1622,1623,1624,1625,1626,1627,1628,1629,1630,1631,1632,1633,1634,1635,1636,1637,1638,1639,1640,1641,1642,1643,1644,1645,1646,1647,1648,1649,1650,1651,1652,1653,1654,1655,1656,1657,1658,1659,1660,1661,1662,1663,1664,1665,1666,1667,1668,1669,1670,1671,1672,1673,1674,1675,1676,1677,1678,1679,1680,1681,1682,1683,1684,1685,1686,1687,1688,1689,1690,1691,1692,1693,1694,1695,1696,1697,1698,1699,1700,1701,1702,1703,1704,1705,1706,1707,1708,1709,1710,1711,1712,1713,1714,1715,1716,1717,1718,1719,1720,1721,1722,1723,1724,1725,1726,1727,1728,1729,1730,1731,1732,1733,1734,1735,1736,1737,1738,1739,1740,1741,1742,1743,1744,1745,1746,1747,1748,1749,1750,1751,1752,1753,1754,1755,1756,1757,1758,1759,1760,1761,1762,1763,1764,1765,1766,1767,1768,1769,1770,1771,1772,1773,1774,1775,1776,1777,1778,1779,1780,1781,1782,1783,1784,1785,1786,1787,1788,1789,1790,1791,1792,1793,1794,1795,1796,1797,1798,1799,1800,1801,1802,1803,1804,1805,1806,1807,1808,1809,1810,1811,1812,1813,1814,1815,1816,1817,1818,1819,1820,1821,1822,1823,1824,1825,1826,1827,1828,1829,1830,1831,1832,1833,1834,1835,1836,1837,1838,1839,1840,1841,1842,1843,1844,1845,1846,1847,1848,1849,1850,1851,1852,1853,1854,1855,1856,1857,1858,1859,1860,1861,1862,1863,1864,1865,1866,1867,1868,1869,1870,1871,1872,1873,1874,1875,1876,1877,1878,1879,1880,1881,1882,1883,1884,1885,1886,1887,1888,1889,1890,1891,1892,1893,1894,1895,1896,1897,1898,1899,1900,1901,1902,1903,1904,1905,1906,1907,1908,1909,1910,1911,1912,1913,1914,1915,1916,1917,1918,1919,1920,1921,1922,1923,1924,1925,1926,1927,1928,1929,1930,1931,1932,1933,1934,1935,1936,1937,1938,1939,1940,1941,1942,1943,1944,1945,1946,1947,1948,1949,1950,1951,1952,1953,1954,1955,1956,1957,1958,1959,1960,1961,1962,1963,1964,1965,1966,1967,1968,1969,1970,1971,1972,1973,1974,1975,1976,1977,1978,1979,1980,1981,1982,1983,1984,1985,1986,1987,1988,1989,1990,1991,1992,1993,1994,1995,1996,1997,1998,1999,2000,2001,2002,2003,2004,2005,2006,2007,2008,2009,2010,2011,2012,2013,2014,2015,2016,2017,2018,2019,2020,2021,2022,2023,2024,2025,2026,2027,2028,2029,2030,2031,2032,2033,2034,2035,2036,2037,2038,2039,2040,2041,2042,2043,2044,2045,2046,2047,2048,2049,2050,2051,2052,2053,2054,2055,2056,2057,2058,2059,2060,2061,2062,2063,2064,2065,2066,2067,2068,2069,2070,2071,2072,2073,2074,2075,2076,2077,2078,2079,2080,2081,2082,2083,2084,2085,2086,2087,2088,2089,2090,2091,2092,2093,2094,2095,2096,2097,2098,2099,2100,2101,2102,2103,2104,2105,2106,2107,2108,2109,2110,2111,2112,2113,2114,2115,2116,2117,2118,2119,2120,2121,2122,2123,2124,2125,2126,2127,2128,2129,2130,2131,2132,2133,2134,2135,2136,2137,2138,2139,2140,2141,2142,2143,2144,2145,2146,2147,2148,2149,2150,2151,2152,2153,2154,2155,2156,2157,2158,2159,2160,2161,2162,2163,2164,2165,2166,2167,2168,2169,2170,2171,2172,2173,2174,2175,2176,2177,2178,2179,2180,2181,2182,2183,2184,2185,2186,2187,2188,2189,2190,2191,2192,2193,2194,2195,2196,2197,2198,2199,2200,2201,2202,2203,2204,2205,2206,2207,2208,2209,2210,2211,2212,2213,2214,2215,2216,2217,2218,2219,2220,2221,2222,2223,2224,2225,2226,2227,2228,2229,2230,2231,2232,2233,2234,2235,2236,2237,2238,2239,2240,2241,2242,2243,2244,2245,2246,2247,2248,2249,2250,2251,2252,2253,2254,2255,2256,2257,2258,2259,2260,2261,2262,2263,2264,2265,2266,2267,2268,2269,2270,2271,2272,2273,2274,2275,2276,2277,2278,2279,2280,2281,2282,2283,2284,2285,2286,2287,2288,2289,2290,2291,2292,2293,2294,2295,2296,2297,2298,2299,2300,2301,2302,2303,2304,2305,2306,2307,2308,2309,2310,2311,2312,2313,2314,2315,2316,2317,2318,2319,2320,2321,2322,2323,2324,2325,2326,2327,2328,2329,2330,2331,2332,2333,2334,2335,2336,2337,2338,2339,2340,2341,2342,2343,2344,2345,2346,2347,2348,2349,2350,2351,2352,2353,2354,2355,2356,2357,2358,2359,2360,2361,2362,2363,2364,2365,2366,2367,2368,2369,2370,2371,2372,2373,2374,2375,2376,2377,2378,2379,2380,2381,2382,2383,2384,2385,2386,2387,2388,2389,2390,2391,2392,2393,2394,2395,2396,2397,2398,2399,2400,2401,2402,2403,2404,2405,2406,2407,2408,2409,2410,2411,2412,2413,2414,2415,2416,2417,2418,2419,2420,2421,2422,2423,2424,2425,2426,2427,2428,2429,2430,2431,2432,2433,2434,2435,2436,2437,2438,2439,2440,2441,2442,2443,2444,2445,2446,2447,2448,2449,2450,2451,2452,2453,2454,2455,2456,2457,2458,2459,2460,2461,2462,2463,2464,2465,2466,2467,2468,2469,2470,2471,2472,2473,2474,2475,2476,2477,2478,2479,2480,2481,2482,2483,2484,2485,2486,2487,2488,2489,2490,2491,2492,2493,2494,2495,2496,2497,2498,2499,2500,2501,2502,2503,2504,2505,2506,2507,2508,2509,2510,2511,2512,2513,2514,2515,2516,2517,2518,2519,2520,2521,2522,2523,2524,2525,2526,2527,2528,2529,2530,2531,2532,2533,2534,2535,2536,2537,2538,2539,2540,2541,2542,2543,2544,2545,2546,2547,2548,2549,2550,2551,2552,2553,2554,2555,2556,2557,2558,2559,2560,2561,2562,2563,2564,2565,2566,2567,2568,2569,2570,2571,2572,2573,2574,2575,2576,2577,2578,2579,2580,2581,2582,2583,2584,2585,2586,2587,2588,2589,2590,2591,2592,2593,2594,2595,2596,2597,2598,2599,2600,2601,2602,2603,2604,2605,2606,2607,2608,2609,2610,2611,2612,2613,2614,2615,2616,2617,2618,2619,2620,2621,2622,2623,2624,2625,2626,2627,2628,2629,2630,2631,2632,2633,2634,2635,2636,2637,2638,2639,2640,2641,2642,2643,2644,2645,2646,2647,2648,2649,2650,2651,2652,2653,2654,2655,2656,2657,2658,2659,2660,2661,2662,2663,2664,2665,2666,2667,2668,2669,2670,2671,2672,2673,2674,2675,2676,2677,2678,2679,2680,2681,2682,2683,2684,2685,2686,2687,2688,2689,2690,2691,2692,2693,2694,2695,2696,2697,2698,2699,2700,2701,2702,2703,2704,2705,2706,2707,2708,2709,2710,2711,2712,2713,2714,2715,2716,2717,2718,2719,2720,2721,2722,2723,2724,2725,2726,2727,2728,2729,2730,2731,2732,2733,2734,2735,2736,2737,2738,2739,2740,2741,2742,2743,2744,2745,2746,2747,2748,2749,2750,2751,2752,2753,2754,2755,2756,2757,2758,2759,2760,2761,2762,2763,2764,2765,2766,2767,2768,2769,2770,2771,2772,2773,2774,2775,2776,2777,2778,2779,2780,2781,2782,2783,2784,2785,2786,2787,2788,2789,2790,2791,2792,2793,2794,2795,2796,2797,2798,2799,2800,2801,2802,2803,2804,2805,2806,2807,2808,2809,2810,2811,2812,2813,2814,2815,2816,2817,2818,2819,2820,2821,2822,2823,2824,2825,2826,2827,2828,2829,2830,2831,2832,2833,2834,2835,2836,2837,2838,2839,2840,2841,2842,2843,2844,2845,2846,2847,2848,2849,2850,2851,2852,2853,2854,2855,2856,2857,2858,2859,2860,2861,2862,2863,2864,2865,2866,2867,2868,2869,2870,2871,2872,2873,2874,2875,2876,2877,2878,2879,2880,2881,2882,2883,2884,2885,2886,2887,2888,2889,2890,2891,2892,2893,2894,2895,2896,2897,2898,2899,2900,2901,2902,2903,2904,2905,2906,2907,2908,2909,2910,2911,2912,2913,2914,2915,2916,2917,2918,2919,2920,2921,2922,2923,2924,2925,2926,2927,2928,2929,2930,2931,2932,2933,2934,2935,2936,2937,2938,2939,2940,2941,2942,2943,2944,2945,2946,2947,2948,2949,2950,2951,2952,2953,2954,2955,2956,2957,2958,2959,2960,2961,2962,2963,2964,2965,2966,2967,2968,2969,2970,2971,2972,2973,2974,2975,2976,2977,2978,2979,2980,2981,2982,2983,2984,2985,2986,2987,2988,2989,2990,2991,2992,2993,2994,2995,2996,2997,2998,2999,3000,3001,3002,3003,3004,3005,3006,3007,3008,3009,3010,3011,3012,3013,3014,3015,3016,3017,3018,3019,3020,3021,3022,3023,3024,3025,3026,3027,3028,3029,3030,3031,3032,3033,3034,3035,3036,3037,3038,3039,3040,3041,3042,3043,3044,3045,3046,3047,3048,3049,3050,3051,3052,3053,3054,3055,3056,3057,3058,3059,3060,3061,3062,3063,3064,3065,3066,3067,3068,3069,3070,3071,3072,3073,3074,3075,3076,3077,3078,3079,3080,3081,3082,3083,3084,3085,3086,3087,3088,3089,3090,3091,3092,3093,3094,3095,3096,3097,3098,3099,3100,3101,3102,3103,3104,3105,3106,3107,3108,3109,3110,3111,3112,3113,3114,3115,3116,3117,3118,3119,3120,3121,3122,3123,3124,3125,3126,3127,3128,3129,3130,3131,3132,3133,3134,3135,3136,3137,3138,3139,3140,3141,3142,3143,3144,3145,3146,3147,3148,3149,3150,3151,3152,3153,3154,3155,3156,3157,3158,3159,3160,3161,3162,3163,3164,3165,3166,3167,3168,3169,3170,3171,3172,3173,3174,3175,3176,3177,3178,3179,3180,3181,3182,3183,3184,3185,3186,3187,3188,3189,3190,3191,3192,3193,3194,3195,3196,3197,3198,3199,3200,3201,3202,3203,3204,3205,3206,3207,3208,3209,3210,3211,3212,3213,3214,3215,3216,3217,3218,3219,3220,3221,3222,3223,3224,3225,3226,3227,3228,3229,3230,3231,3232,3233,3234,3235,3236,3237,3238,3239,3240,3241,3242,3243,3244,3245,3246,3247,3248,3249,3250,3251,3252,3253,3254,3255,3256,3257,3258,3259,3260,3261,3262,3263,3264,3265,3266,3267,3268,3269,3270,3271,3272,3273,3274,3275,3276,3277,3278,3279,3280,3281,3282,3283,3284,3285,3286,3287,3288,3289,3290,3291,3292,3293,3294,3295,3296,3297,3298,3299,3300,3301,3302,3303,3304,3305,3306,3307,3308,3309,3310,3311,3312,3313,3314,3315,3316,3317,3318,3319,3320,3321,3322,3323,3324,3325,3326,3327,3328,3329,3330,3331,3332,3333,3334,3335,3336,3337,3338,3339,3340,3341,3342,3343,3344,3345,3346,3347,3348,3349,3350,3351,3352,3353,3354,3355,3356,3357,3358,3359,3360,3361,3362,3363,3364,3365,3366,3367,3368,3369,3370,3371,3372,3373,3374,3375,3376,3377,3378,3379,3380,3381,3382,3383,3384,3385,3386,3387,3388,3389,3390,3391,3392,3393,3394,3395,3396,3397,3398,3399,3400,3401,3402,3403,3404,3405,3406,3407,3408,3409,3410,3411,3412,3413,3414,3415,3416,3417,3418,3419,3420,3421,3422,3423,3424,3425,3426,3427,3428,3429,3430,3431,3432,3433,3434,3435,3436,3437,3438,3439,3440,3441,3442,3443,3444,3445,3446,3447,3448,3449,3450,3451,3452,3453,3454,3455,3456,3457,3458,3459,3460,3461,3462,3463,3464,3465,3466,3467,3468,3469,3470,3471,3472,3473,3474,3475,3476,3477,3478,3479,3480,3481,3482,3483,3484,3485,3486,3487,3488,3489,3490,3491,3492,3493,3494,3495,3496,3497,3498,3499,3500,3501,3502,3503,3504,3505,3506,3507,3508,3509,3510,3511,3512,3513,3514,3515,3516,3517,3518,3519,3520,3521,3522,3523,3524,3525,3526,3527,3528,3529,3530,3531,3532,3533,3534,3535,3536,3537,3538,3539,3540,3541,3542,3543,3544,3545,3546,3547,3548,3549,3550,3551,3552,3553,3554,3555,3556,3557,3558,3559,3560,3561,3562,3563,3564,3565,3566,3567,3568,3569,3570,3571,3572,3573,3574,3575,3576,3577,3578,3579,3580,3581,3582,3583,3584,3585,3586,3587,3588,3589,3590,3591,3592,3593,3594,3595,3596,3597,3598,3599,3600,3601,3602,3603,3604,3605,3606,3607,3608,3609,3610,3611,3612,3613,3614,3615,3616,3617,3618,3619,3620,3621,3622,3623,3624,3625,3626,3627,3628,3629,3630,3631,3632,3633,3634,3635,3636,3637,3638,3639,3640,3641,3642,3643,3644,3645,3646,3647,3648,3649,3650,3651,3652,3653,3654,3655,3656,3657,3658,3659,3660,3661,3662,3663,3664,3665,3666,3667,3668,3669,3670,3671,3672,3673,3674,3675,3676,3677,3678,3679,3680,3681,3682,3683,3684,3685,3686,3687,3688,3689,3690,3691,3692,3693,3694,3695,3696,3697,3698,3699,3700,3701,3702,3703,3704,3705,3706,3707,3708,3709,3710,3711,3712,3713,3714,3715,3716,3717,3718,3719,3720,3721,3722,3723,3724,3725,3726,3727,3728,3729,3730,3731,3732,3733,3734,3735,3736,3737,3738,3739,3740,3741,3742,3743,3744,3745,3746,3747,3748,3749,3750,3751,3752,3753,3754,3755,3756,3757,3758,3759,3760,3761,3762,3763,3764,3765,3766,3767,3768,3769,3770,3771,3772,3773,3774,3775,3776,3777,3778,3779,3780,3781,3782,3783,3784,3785,3786,3787,3788,3789,3790,3791,3792,3793,3794,3795,3796,3797,3798,3799,3800,3801,3802,3803,3804,3805,3806,3807,3808,3809,3810,3811,3812,3813,3814,3815,3816,3817,3818,3819,3820,3821,3822,3823,3824,3825,3826,3827,3828,3829,3830,3831,3832,3833,3834,3835,3836,3837,3838,3839,3840,3841,3842,3843,3844,3845,3846,3847,3848,3849,3850,3851,3852,3853,3854,3855,3856,3857,3858,3859,3860,3861,3862,3863,3864,3865,3866,3867,3868,3869,3870,3871,3872,3873,3874,3875,3876,3877,3878,3879,3880,3881,3882,3883,3884,3885,3886,3887,3888,3889,3890,3891,3892,3893,3894,3895,3896,3897,3898,3899,3900,3901,3902,3903,3904,3905,3906,3907,3908,3909,3910,3911,3912,3913,3914,3915,3916,3917,3918,3919,3920,3921,3922,3923,3924,3925,3926,3927,3928,3929,3930,3931,3932,3933,3934,3935,3936,3937,3938,3939,3940,3941,3942,3943,3944,3945,3946,3947,3948,3949,3950,3951,3952,3953,3954,3955,3956,3957,3958,3959,3960,3961,3962,3963,3964,3965,3966,3967,3968,3969,3970,3971,3972,3973,3974,3975,3976,3977,3978,3979,3980,3981,3982,3983,3984,3985,3986,3987,3988,3989,3990,3991,3992,3993,3994,3995,3996,3997,3998,3999,4000,4001,4002,4003,4004,4005,4006,4007,4008,4009,4010,4011,4012,4013,4014,4015,4016,4017,4018,4019,4020,4021,4022,4023,4024,4025,4026,4027,4028,4029,4030,4031,4032,4033,4034,4035,4036,4037,4038,4039,4040,4041,4042,4043,4044,4045,4046,4047,4048,4049,4050,4051,4052,4053,4054,4055,4056,4057,4058,4059,4060,4061,4062,4063,4064,4065,4066,4067,4068,4069,4070,4071,4072,4073,4074,4075,4076,4077,4078,4079,4080,4081,4082,4083,4084,4085,4086,4087,4088,4089,4090,4091,4092,4093,4094,4095,4096,4097,4098,4099,4100,4101,4102,4103,4104,4105,4106,4107,4108,4109,4110,4111,4112,4113,4114,4115,4116,4117,4118,4119,4120,4121,4122,4123,4124,4125,4126,4127,4128,4129,4130,4131,4132,4133,4134,4135,4136,4137,4138,4139,4140,4141,4142,4143,4144,4145,4146,4147,4148,4149,4150,4151,4152,4153,4154,4155,4156,4157,4158,4159,4160,4161,4162,4163,4164,4165,4166,4167,4168,4169,4170,4171,4172,4173,4174,4175,4176,4177,4178,4179,4180,4181,4182,4183,4184,4185,4186,4187,4188,4189,4190,4191,4192,4193,4194,4195,4196,4197,4198,4199,4200,4201,4202,4203,4204,4205,4206,4207,4208,4209,4210,4211,4212,4213,4214,4215,4216,4217,4218,4219,4220,4221,4222,4223,4224,4225,4226,4227,4228,4229,4230,4231,4232,4233,4234,4235,4236,4237,4238,4239,4240,4241,4242,4243,4244,4245,4246,4247,4248,4249,4250,4251,4252,4253,4254,4255,4256,4257,4258,4259,4260,4261,4262,4263,4264,4265,4266,4267,4268,4269,4270,4271,4272,4273,4274,4275,4276,4277,4278,4279,4280,4281,4282,4283,4284,4285,4286,4287,4288,4289,4290,4291,4292,4293,4294,4295,4296,4297,4298,4299,4300,4301,4302,4303,4304,4305,4306,4307,4308,4309,4310,4311,4312,4313,4314,4315,4316,4317,4318,4319,4320,4321,4322,4323,4324,4325,4326,4327,4328,4329,4330,4331,4332,4333,4334,4335,4336,4337,4338,4339,4340,4341,4342,4343,4344,4345,4346,4347,4348,4349,4350,4351,4352,4353,4354,4355,4356,4357,4358,4359,4360,4361,4362,4363,4364,4365,4366,4367,4368,4369,4370,4371,4372,4373,4374,4375,4376,4377,4378,4379,4380,4381,4382,4383,4384,4385,4386,4387,4388,4389,4390,4391,4392,4393,4394,4395,4396,4397,4398,4399,4400,4401,4402,4403,4404,4405,4406,4407,4408,4409,4410,4411,4412,4413,4414,4415,4416,4417,4418,4419,4420,4421,4422,4423,4424,4425,4426,4427,4428,4429,4430,4431,4432,4433,4434,4435,4436,4437,4438,4439,4440,4441,4442,4443,4444,4445,4446,4447,4448,4449,4450,4451,4452,4453,4454,4455,4456,4457,4458,4459,4460,4461,4462,4463,4464,4465,4466,4467,4468,4469,4470,4471,4472,4473,4474,4475,4476,4477,4478,4479,4480,4481,4482,4483,4484,4485,4486,4487,4488,4489,4490,4491,4492,4493,4494,4495,4496,4497,4498,4499,4500,4501,4502,4503,4504,4505,4506,4507,4508,4509,4510,4511,4512,4513,4514,4515,4516,4517,4518,4519,4520,4521,4522,4523,4524,4525,4526,4527,4528,4529,4530,4531,4532,4533,4534,4535,4536,4537,4538,4539,4540,4541,4542,4543,4544,4545,4546,4547,4548,4549,4550,4551,4552,4553,4554,4555,4556,4557,4558,4559,4560,4561,4562,4563,4564,4565,4566,4567,4568,4569,4570,4571,4572,4573,4574,4575,4576,4577,4578,4579,4580,4581,4582,4583,4584,4585,4586,4587,4588,4589,4590,4591,4592,4593,4594,4595,4596,4597,4598,4599,4600,4601,4602,4603,4604,4605,4606,4607,4608,4609,4610,4611,4612,4613,4614,4615,4616,4617,4618,4619,4620,4621,4622,4623,4624,4625,4626,4627,4628,4629,4630,4631,4632,4633,4634,4635,4636,4637,4638,4639,4640,4641,4642,4643,4644,4645,4646,4647,4648,4649,4650,4651,4652,4653,4654,4655,4656,4657,4658,4659,4660,4661,4662,4663,4664,4665,4666,4667,4668,4669,4670,4671,4672,4673,4674,4675,4676,4677,4678,4679,4680,4681,4682,4683,4684,4685,4686,4687,4688,4689,4690,4691,4692,4693,4694,4695,4696,4697,4698,4699,4700,4701,4702,4703,4704,4705,4706,4707,4708,4709,4710,4711,4712,4713,4714,4715,4716,4717,4718,4719,4720,4721,4722,4723,4724,4725,4726,4727,4728,4729,4730,4731,4732,4733,4734,4735,4736,4737,4738,4739,4740,4741,4742,4743,4744,4745,4746,4747,4748,4749,4750,4751,4752,4753,4754,4755,4756,4757,4758,4759,4760,4761,4762,4763,4764,4765,4766,4767,4768,4769,4770,4771,4772,4773,4774,4775,4776,4777,4778,4779,4780,4781,4782,4783,4784,4785,4786,4787,4788,4789,4790,4791,4792,4793,4794,4795,4796,4797,4798,4799,4800,4801,4802,4803,4804,4805,4806,4807,4808,4809,4810,4811,4812,4813,4814,4815,4816,4817,4818,4819,4820,4821,4822,4823,4824,4825,4826,4827,4828,4829,4830,4831,4832,4833,4834,4835,4836,4837,4838,4839,4840,4841,4842,4843,4844,4845,4846,4847,4848,4849,4850,4851,4852,4853,4854,4855,4856,4857,4858,4859,4860,4861,4862,4863,4864,4865,4866,4867,4868,4869,4870,4871,4872,4873,4874,4875,4876,4877,4878,4879,4880,4881,4882,4883,4884,4885,4886,4887,4888,4889,4890,4891,4892,4893,4894,4895,4896,4897,4898,4899,4900,4901,4902,4903,4904,4905,4906,4907,4908,4909,4910,4911,4912,4913,4914,4915,4916,4917,4918,4919,4920,4921,4922,4923,4924,4925,4926,4927,4928,4929,4930,4931,4932,4933,4934,4935,4936,4937,4938,4939,4940,4941,4942,4943,4944,4945,4946,4947,4948,4949,4950,4951,4952,4953,4954,4955,4956,4957,4958,4959,4960,4961,4962,4963,4964,4965,4966,4967,4968,4969,4970,4971,4972,4973,4974,4975,4976,4977,4978,4979,4980,4981,4982,4983,4984,4985,4986,4987,4988,4989,4990,4991,4992,4993,4994,4995,4996,4997,4998,4999,5000,5001,5002,5003,5004,5005,5006,5007,5008,5009,5010,5011,5012,5013,5014,5015,5016,5017,5018,5019,5020,5021,5022,5023,5024,5025,5026,5027,5028,5029,5030,5031,5032,5033,5034,5035,5036,5037,5038,5039,5040,5041,5042,5043,5044,5045,5046,5047,5048,5049,5050,5051,5052,5053,5054,5055,5056,5057,5058,5059,5060,5061,5062,5063,5064,5065,5066,5067,5068,5069,5070,5071,5072,5073,5074,5075,5076,5077,5078,5079,5080,5081,5082,5083,5084,5085,5086,5087,5088,5089,5090,5091,5092,5093,5094,5095,5096,5097,5098,5099,5100,5101,5102,5103,5104,5105,5106,5107,5108,5109,5110,5111,5112,5113,5114,5115,5116,5117,5118,5119,5120,5121,5122,5123,5124,5125,5126,5127,5128,5129,5130,5131,5132,5133,5134,5135,5136,5137,5138,5139,5140,5141,5142,5143,5144,5145,5146,5147,5148,5149,5150,5151,5152,5153,5154,5155,5156,5157,5158,5159,5160,5161,5162,5163,5164,5165,5166,5167,5168,5169,5170,5171,5172,5173,5174,5175,5176,5177,5178,5179,5180,5181,5182,5183,5184,5185,5186,5187,5188,5189,5190,5191,5192,5193,5194,5195,5196,5197,5198,5199,5200,5201,5202,5203,5204,5205,5206,5207,5208,5209,5210,5211,5212,5213,5214,5215,5216,5217,5218,5219,5220,5221,5222,5223,5224,5225,5226,5227,5228,5229,5230,5231,5232,5233,5234,5235,5236,5237,5238,5239,5240,5241,5242,5243,5244,5245,5246,5247,5248,5249,5250,5251,5252,5253,5254,5255,5256,5257,5258,5259,5260,5261,5262,5263,5264,5265,5266,5267,5268,5269,5270,5271,5272,5273,5274,5275,5276,5277,5278,5279,5280,5281,5282,5283,5284,5285,5286,5287,5288,5289,5290,5291,5292,5293,5294,5295,5296,5297,5298,5299,5300,5301,5302,5303,5304,5305,5306,5307,5308,5309,5310,5311,5312,5313,5314,5315,5316,5317,5318,5319,5320,5321,5322,5323,5324,5325,5326,5327,5328,5329,5330,5331,5332,5333,5334,5335,5336,5337,5338,5339,5340,5341,5342,5343,5344,5345,5346,5347,5348,5349,5350,5351,5352,5353,5354,5355,5356,5357,5358,5359,5360,5361,5362,5363,5364,5365,5366,5367,5368,5369,5370,5371,5372,5373,5374,5375,5376,5377,5378,5379,5380,5381,5382,5383,5384,5385,5386,5387,5388,5389,5390,5391,5392,5393,5394,5395,5396,5397,5398,5399,5400,5401,5402,5403,5404,5405,5406,5407,5408,5409,5410,5411,5412,5413,5414,5415,5416,5417,5418,5419,5420,5421,5422,5423,5424,5425,5426,5427,5428,5429,5430,5431,5432,5433,5434,5435,5436,5437,5438,5439,5440,5441,5442,5443,5444,5445,5446,5447,5448,5449,5450,5451,5452,5453,5454,5455,5456,5457,5458,5459,5460,5461,5462,5463,5464,5465,5466,5467,5468,5469,5470,5471,5472,5473,5474,5475,5476,5477,5478,5479,5480,5481,5482,5483,5484,5485,5486,5487,5488,5489],\"y\":{\"__ndarray__\":\"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\",\"dtype\":\"float32\",\"shape\":[5490]}}},\"id\":\"97a2b28f-974d-47bc-991b-fc534a9019e6\",\"type\":\"ColumnDataSource\"},{\"attributes\":{\"plot\":null,\"text\":\"\"},\"id\":\"f02f6628-d271-451f-9e9d-0e40e1de3ff9\",\"type\":\"Title\"},{\"attributes\":{\"line_color\":{\"value\":\"blue\"},\"x\":{\"field\":\"x\"},\"y\":{\"field\":\"y\"}},\"id\":\"e799aa4b-63ad-4f46-8918-547d8167cc2c\",\"type\":\"Line\"},{\"attributes\":{\"items\":[{\"id\":\"1b947a6a-83c5-4b06-8d0c-74354c595e90\",\"type\":\"LegendItem\"},{\"id\":\"815b5edd-7d6d-4109-b081-917e742d0e91\",\"type\":\"LegendItem\"}],\"plot\":{\"id\":\"7926ab56-abbd-425c-b09c-99fb7b993c1d\",\"subtype\":\"Figure\",\"type\":\"Plot\"}},\"id\":\"384d2c5d-ffde-4b7a-8906-b503ee1c1fab\",\"type\":\"Legend\"},{\"attributes\":{},\"id\":\"48fbc842-be5c-4bf9-9ab3-b8369ff9c50c\",\"type\":\"ToolEvents\"}],\"root_ids\":[\"7926ab56-abbd-425c-b09c-99fb7b993c1d\"]},\"title\":\"Bokeh Application\",\"version\":\"0.12.6\"}};\n",
       "            var render_items = [{\"docid\":\"433adacb-86fb-4f35-ae37-3f8e85d2cee5\",\"elementid\":\"3e011baf-e981-41dc-be43-afad740970e1\",\"modelid\":\"7926ab56-abbd-425c-b09c-99fb7b993c1d\"}];\n",
       "            \n",
       "            Bokeh.embed.embed_items(docs_json, render_items);\n",
       "          };\n",
       "          if (document.readyState != \"loading\") fn();\n",
       "          else document.addEventListener(\"DOMContentLoaded\", fn);\n",
       "        })();\n",
       "      },\n",
       "      function(Bokeh) {\n",
       "      }\n",
       "    ];\n",
       "  \n",
       "    function run_inline_js() {\n",
       "      \n",
       "      if ((window.Bokeh !== undefined) || (force === true)) {\n",
       "        for (var i = 0; i < inline_js.length; i++) {\n",
       "          inline_js[i](window.Bokeh);\n",
       "        }if (force === true) {\n",
       "          display_loaded();\n",
       "        }} else if (Date.now() < window._bokeh_timeout) {\n",
       "        setTimeout(run_inline_js, 100);\n",
       "      } else if (!window._bokeh_failed_load) {\n",
       "        console.log(\"Bokeh: BokehJS failed to load within specified timeout.\");\n",
       "        window._bokeh_failed_load = true;\n",
       "      } else if (force !== true) {\n",
       "        var cell = $(document.getElementById(\"3e011baf-e981-41dc-be43-afad740970e1\")).parents('.cell').data().cell;\n",
       "        cell.output_area.append_execute_result(NB_LOAD_WARNING)\n",
       "      }\n",
       "  \n",
       "    }\n",
       "  \n",
       "    if (window._bokeh_is_loading === 0) {\n",
       "      console.log(\"Bokeh: BokehJS loaded, going straight to plotting\");\n",
       "      run_inline_js();\n",
       "    } else {\n",
       "      load_libs(js_urls, function() {\n",
       "        console.log(\"Bokeh: BokehJS plotting callback run at\", now());\n",
       "        run_inline_js();\n",
       "      });\n",
       "    }\n",
       "  }(this));\n",
       "</script>"
      ]
     },
     "metadata": {},
     "output_type": "display_data"
    }
   ],
   "source": [
    "plotActualVsPrediction(actual=test_y, prediction=predictions)"
   ]
  },
  {
   "cell_type": "code",
   "execution_count": 214,
   "metadata": {},
   "outputs": [
    {
     "data": {
      "image/png": "[encoded data removed]",
      "text/plain": [
       "<matplotlib.figure.Figure at 0x22bb419d0>"
      ]
     },
     "metadata": {},
     "output_type": "display_data"
    }
   ],
   "source": [
    "#matplotlib\n",
    "plt.plot(predictions, color=\"red\", label=\"predictions\")\n",
    "plt.plot(test_y, color=\"blue\", label=\"actual\")\n",
    "plt.show()"
   ]
  },
  {
   "cell_type": "code",
   "execution_count": null,
   "metadata": {
    "collapsed": true
   },
   "outputs": [],
   "source": []
  }
 ],
 "metadata": {
  "kernelspec": {
   "display_name": "Python 2",
   "language": "python",
   "name": "python2"
  },
  "language_info": {
   "codemirror_mode": {
    "name": "ipython",
    "version": 2
   },
   "file_extension": ".py",
   "mimetype": "text/x-python",
   "name": "python",
   "nbconvert_exporter": "python",
   "pygments_lexer": "ipython2",
   "version": "2.7.13"
  }
 },
 "nbformat": 4,
 "nbformat_minor": 2
}
